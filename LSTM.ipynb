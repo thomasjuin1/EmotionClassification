{
  "nbformat": 4,
  "nbformat_minor": 0,
  "metadata": {
    "colab": {
      "provenance": [],
      "authorship_tag": "ABX9TyOB1dlqNHFI64rOlyEJ7p9U",
      "include_colab_link": true
    },
    "kernelspec": {
      "name": "python3",
      "display_name": "Python 3"
    },
    "language_info": {
      "name": "python"
    }
  },
  "cells": [
    {
      "cell_type": "markdown",
      "metadata": {
        "id": "view-in-github",
        "colab_type": "text"
      },
      "source": [
        "<a href=\"https://colab.research.google.com/github/thomasjuin1/EmotionClassification/blob/twitter-dataset/LSTM.ipynb\" target=\"_parent\"><img src=\"https://colab.research.google.com/assets/colab-badge.svg\" alt=\"Open In Colab\"/></a>"
      ]
    },
    {
      "cell_type": "code",
      "execution_count": null,
      "metadata": {
        "id": "CYc9Th4KN8Zi"
      },
      "outputs": [],
      "source": [
        "!pip install datasets"
      ]
    },
    {
      "cell_type": "code",
      "source": [
        "import torch\n",
        "from torch.utils.data import Dataset, DataLoader, random_split\n",
        "from datasets import load_dataset\n",
        "import torch.nn as nn\n",
        "import torch.optim as optim"
      ],
      "metadata": {
        "id": "YYYmootCOjc6"
      },
      "execution_count": null,
      "outputs": []
    },
    {
      "cell_type": "code",
      "source": [
        "# Load the dataset\n",
        "dataset = load_dataset(\"dair-ai/emotion\", \"split\")\n",
        "\n",
        "# Split into train, validation, and test sets\n",
        "train_set = dataset[\"train\"]\n",
        "val_set = dataset[\"validation\"]\n",
        "test_set = dataset[\"test\"]\n",
        "\n",
        "train_sset = train_set.map(lambda x: {\"text\": x[\"text\"], \"labels\": [x[\"label\"]]})\n",
        "val_sset = val_set.map(lambda x: {\"text\": x[\"text\"], \"labels\": [x[\"label\"]]})\n",
        "test_sset = test_set.map(lambda x: {\"text\": x[\"text\"], \"labels\": [x[\"label\"]]})\n",
        "\n",
        "__emotions = [\n",
        "    \"sadness\",\n",
        "    \"joy\",\n",
        "    \"love\",\n",
        "    \"anger\",\n",
        "    \"fear\",\n",
        "    \"surprise\",\n",
        "]\n",
        "\n",
        "EMOTION_TO_INDEX = {\n",
        "    emotion: index for index, emotion in enumerate(__emotions)\n",
        "}\n",
        "\n",
        "INDEX_TO_EMOTION = {\n",
        "    index: emotion for emotion, index in EMOTION_TO_INDEX.items()\n",
        "}"
      ],
      "metadata": {
        "id": "S4BnEI-vOqR-"
      },
      "execution_count": null,
      "outputs": []
    }
  ]
}