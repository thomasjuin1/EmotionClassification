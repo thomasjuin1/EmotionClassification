{
  "nbformat": 4,
  "nbformat_minor": 0,
  "metadata": {
    "colab": {
      "provenance": [],
      "gpuType": "T4",
      "authorship_tag": "ABX9TyPw0qMhDahvIKseBtEts72T",
      "include_colab_link": true
    },
    "kernelspec": {
      "name": "python3",
      "display_name": "Python 3"
    },
    "language_info": {
      "name": "python"
    },
    "accelerator": "GPU"
  },
  "cells": [
    {
      "cell_type": "markdown",
      "metadata": {
        "id": "view-in-github",
        "colab_type": "text"
      },
      "source": [
        "<a href=\"https://colab.research.google.com/github/thomasjuin1/EmotionClassification/blob/twitter-dataset/LSTM_clean.ipynb\" target=\"_parent\"><img src=\"https://colab.research.google.com/assets/colab-badge.svg\" alt=\"Open In Colab\"/></a>"
      ]
    },
    {
      "cell_type": "markdown",
      "source": [
        "# RNN (LSTM cell) for emotion recognition\n",
        "In this python notebook we will see how to classify the emotion of a text using a RecurentNeuralNetwork.\n",
        "We will work on the [emotion](https://huggingface.co/datasets/dair-ai/emotion/viewer/unsplit) dataset.\n",
        "\n"
      ],
      "metadata": {
        "id": "32R2EjncxAzx"
      }
    },
    {
      "cell_type": "code",
      "execution_count": 24,
      "metadata": {
        "colab": {
          "base_uri": "https://localhost:8080/"
        },
        "collapsed": true,
        "id": "__iojaKkuM9h",
        "outputId": "9b0bfc33-508b-4699-ff7c-39becf141dde"
      },
      "outputs": [
        {
          "output_type": "stream",
          "name": "stdout",
          "text": [
            "Requirement already satisfied: datasets in /usr/local/lib/python3.10/dist-packages (3.1.0)\n",
            "Requirement already satisfied: filelock in /usr/local/lib/python3.10/dist-packages (from datasets) (3.16.1)\n",
            "Requirement already satisfied: numpy>=1.17 in /usr/local/lib/python3.10/dist-packages (from datasets) (1.26.4)\n",
            "Requirement already satisfied: pyarrow>=15.0.0 in /usr/local/lib/python3.10/dist-packages (from datasets) (17.0.0)\n",
            "Requirement already satisfied: dill<0.3.9,>=0.3.0 in /usr/local/lib/python3.10/dist-packages (from datasets) (0.3.8)\n",
            "Requirement already satisfied: pandas in /usr/local/lib/python3.10/dist-packages (from datasets) (2.2.2)\n",
            "Requirement already satisfied: requests>=2.32.2 in /usr/local/lib/python3.10/dist-packages (from datasets) (2.32.3)\n",
            "Requirement already satisfied: tqdm>=4.66.3 in /usr/local/lib/python3.10/dist-packages (from datasets) (4.66.6)\n",
            "Requirement already satisfied: xxhash in /usr/local/lib/python3.10/dist-packages (from datasets) (3.5.0)\n",
            "Requirement already satisfied: multiprocess<0.70.17 in /usr/local/lib/python3.10/dist-packages (from datasets) (0.70.16)\n",
            "Requirement already satisfied: fsspec<=2024.9.0,>=2023.1.0 in /usr/local/lib/python3.10/dist-packages (from fsspec[http]<=2024.9.0,>=2023.1.0->datasets) (2024.9.0)\n",
            "Requirement already satisfied: aiohttp in /usr/local/lib/python3.10/dist-packages (from datasets) (3.11.9)\n",
            "Requirement already satisfied: huggingface-hub>=0.23.0 in /usr/local/lib/python3.10/dist-packages (from datasets) (0.26.3)\n",
            "Requirement already satisfied: packaging in /usr/local/lib/python3.10/dist-packages (from datasets) (24.2)\n",
            "Requirement already satisfied: pyyaml>=5.1 in /usr/local/lib/python3.10/dist-packages (from datasets) (6.0.2)\n",
            "Requirement already satisfied: aiohappyeyeballs>=2.3.0 in /usr/local/lib/python3.10/dist-packages (from aiohttp->datasets) (2.4.4)\n",
            "Requirement already satisfied: aiosignal>=1.1.2 in /usr/local/lib/python3.10/dist-packages (from aiohttp->datasets) (1.3.1)\n",
            "Requirement already satisfied: async-timeout<6.0,>=4.0 in /usr/local/lib/python3.10/dist-packages (from aiohttp->datasets) (4.0.3)\n",
            "Requirement already satisfied: attrs>=17.3.0 in /usr/local/lib/python3.10/dist-packages (from aiohttp->datasets) (24.2.0)\n",
            "Requirement already satisfied: frozenlist>=1.1.1 in /usr/local/lib/python3.10/dist-packages (from aiohttp->datasets) (1.5.0)\n",
            "Requirement already satisfied: multidict<7.0,>=4.5 in /usr/local/lib/python3.10/dist-packages (from aiohttp->datasets) (6.1.0)\n",
            "Requirement already satisfied: propcache>=0.2.0 in /usr/local/lib/python3.10/dist-packages (from aiohttp->datasets) (0.2.1)\n",
            "Requirement already satisfied: yarl<2.0,>=1.17.0 in /usr/local/lib/python3.10/dist-packages (from aiohttp->datasets) (1.18.3)\n",
            "Requirement already satisfied: typing-extensions>=3.7.4.3 in /usr/local/lib/python3.10/dist-packages (from huggingface-hub>=0.23.0->datasets) (4.12.2)\n",
            "Requirement already satisfied: charset-normalizer<4,>=2 in /usr/local/lib/python3.10/dist-packages (from requests>=2.32.2->datasets) (3.4.0)\n",
            "Requirement already satisfied: idna<4,>=2.5 in /usr/local/lib/python3.10/dist-packages (from requests>=2.32.2->datasets) (3.10)\n",
            "Requirement already satisfied: urllib3<3,>=1.21.1 in /usr/local/lib/python3.10/dist-packages (from requests>=2.32.2->datasets) (2.2.3)\n",
            "Requirement already satisfied: certifi>=2017.4.17 in /usr/local/lib/python3.10/dist-packages (from requests>=2.32.2->datasets) (2024.8.30)\n",
            "Requirement already satisfied: python-dateutil>=2.8.2 in /usr/local/lib/python3.10/dist-packages (from pandas->datasets) (2.8.2)\n",
            "Requirement already satisfied: pytz>=2020.1 in /usr/local/lib/python3.10/dist-packages (from pandas->datasets) (2024.2)\n",
            "Requirement already satisfied: tzdata>=2022.7 in /usr/local/lib/python3.10/dist-packages (from pandas->datasets) (2024.2)\n",
            "Requirement already satisfied: six>=1.5 in /usr/local/lib/python3.10/dist-packages (from python-dateutil>=2.8.2->pandas->datasets) (1.16.0)\n"
          ]
        }
      ],
      "source": [
        "!pip install datasets"
      ]
    },
    {
      "cell_type": "code",
      "source": [
        "from datasets import load_dataset\n",
        "import torch\n",
        "import torch.nn as nn\n",
        "import torch.optim as optim\n",
        "from torch.utils.data import Dataset, DataLoader, random_split"
      ],
      "metadata": {
        "id": "3MZ9QndCub3E"
      },
      "execution_count": 25,
      "outputs": []
    },
    {
      "cell_type": "code",
      "source": [
        "# Specify the subset to use split = 20k rows already separated, UNSPLIT 400k rows not separated\n",
        "SUBSET = \"split\"\n",
        "# SUBSET = \"unsplit\"\n",
        "\n",
        "ds = load_dataset(\"dair-ai/emotion\", SUBSET)\n",
        "\n",
        "# Get the train, validation and test sets\n",
        "train_set, val_set, test_set = None, None, None\n",
        "\n",
        "if SUBSET == \"split\":\n",
        "    train_set = ds[\"train\"]\n",
        "    test_set = ds[\"test\"]\n",
        "    val_set = ds[\"validation\"]\n",
        "else:\n",
        "    # Split the training, validation and test sets\n",
        "    def split_dataset(dataset, train_ratio: float = 0.7,\n",
        "                      test_ratio: float = 0.1,\n",
        "                      val_ratio: float = 0.1):\n",
        "        length = len(ds[\"train\"])\n",
        "        train_set = ds[\"train\"].select(range(int(length * 0.8)))\n",
        "        test_set = ds[\"train\"].select(range(int(length * 0.1), int(length * (train_ratio + test_ratio))))\n",
        "        val_set = ds[\"train\"].select(range(int(length * (train_ratio + test_ratio)), length))\n",
        "        return train_set, test_set, val_set\n",
        "\n",
        "    train_set, test_set, val_set = split_dataset(ds[\"train\"], 0.8, 0.1, 0.1)\n",
        "\n",
        "# Make sure the dataset is in the right format and in memory\n",
        "train_set = train_set.map(lambda x: {\"text\": x[\"text\"], \"label\": x[\"label\"]})\n",
        "test_set = test_set.map(lambda x: {\"text\": x[\"text\"], \"label\": x[\"label\"]})\n",
        "val_set = val_set.map(lambda x: {\"text\": x[\"text\"], \"label\": x[\"label\"]})"
      ],
      "metadata": {
        "id": "-1lDoDDowurY"
      },
      "execution_count": 26,
      "outputs": []
    },
    {
      "cell_type": "markdown",
      "source": [
        "Those list and dict will be used later in the program for translation."
      ],
      "metadata": {
        "id": "ejttDRQBx_6t"
      }
    },
    {
      "cell_type": "code",
      "source": [
        "__emotions = [\n",
        "    \"sadness\",\n",
        "    \"joy\",\n",
        "    \"love\",\n",
        "    \"anger\",\n",
        "    \"fear\",\n",
        "    \"surprise\",\n",
        "]\n",
        "\n",
        "EMOTION_TO_INDEX = {\n",
        "    emotion: index for index, emotion in enumerate(__emotions)\n",
        "}\n",
        "\n",
        "INDEX_TO_EMOTION = {\n",
        "    index: emotion for emotion, index in EMOTION_TO_INDEX.items()\n",
        "}"
      ],
      "metadata": {
        "id": "xE-L6cgAyAs4"
      },
      "execution_count": 27,
      "outputs": []
    },
    {
      "cell_type": "markdown",
      "source": [
        "## Pre-process the dataset\n",
        "Before using the dataset, we need to pre-process it.\n",
        "\n",
        "We will:\n",
        "\n",
        "Remove the stopwords\n",
        "Remove the punctuation\n",
        "Lemmatize the text\n",
        "Convert the text to lowercase\n",
        "We will pre-process the training dataset, for it to be ready to train on.\n",
        "The encode function ensure a sequence of fix size (usefule for a lot of things batch for eg.)"
      ],
      "metadata": {
        "id": "sqxav3ejy1CD"
      }
    },
    {
      "cell_type": "code",
      "source": [
        "import spacy\n",
        "from collections import Counter\n",
        "nlp = spacy.load(\"en_core_web_sm\")\n",
        "\n",
        "def preprocess(text: str) -> list[str]:\n",
        "    \"\"\"\n",
        "    This function remove stop word, lemmatize the token of the text, lowercase it\n",
        "\n",
        "    Args:\n",
        "      text: The text to preprocess\n",
        "\n",
        "    Returns:\n",
        "      A tokenize version of the text\n",
        "    \"\"\"\n",
        "    tokens = nlp(text)\n",
        "    return [token.lemma_.lower().strip() for token in tokens if not token.is_stop]\n",
        "\n",
        "def build_vocab(texts: list[str], max_vocab_size: int) -> dict[str, int]:\n",
        "    \"\"\"\n",
        "    Builds a vocabulary mapping tokens to unique indices from a list of texts.\n",
        "    - The vocabulary is constructed based on token frequency, keeping the most common tokens\n",
        "      up to the specified `max_vocab_size`.\n",
        "    - Tokens beyond `max_vocab_size` are excluded from the vocabulary.\n",
        "\n",
        "    Args:\n",
        "        texts (list[str]): A list of input texts to be tokenized and processed.\n",
        "        max_vocab_size (int): The maximum size of the vocabulary, including special tokens.\n",
        "\n",
        "    Returns:\n",
        "        dict[str, int]: A dictionary where:\n",
        "            - Keys are tokens (words).\n",
        "            - Values are unique integer indices.\n",
        "            Special tokens included:\n",
        "            - \"<PAD>\": 0 (used for padding).\n",
        "            - \"<UNK>\": 1 (used for unknown tokens).\n",
        "            Other tokens are assigned indices starting from 2.\n",
        "\n",
        "\n",
        "    \"\"\"\n",
        "    counter = Counter(token for text in texts for token in preprocess(text))\n",
        "    most_common: list[tuple[str, int]] = counter.most_common(max_vocab_size - 2)\n",
        "    vocab = {word: idx + 2 for idx, (word, _) in enumerate(most_common)}  # Reserve 0 and 1\n",
        "    vocab[\"<PAD>\"] = 0\n",
        "    vocab[\"<UNK>\"] = 1\n",
        "    return vocab\n",
        "\n",
        "def encode(text: str, vocab: dict[str, int], max_len: int) -> list[int]:\n",
        "    \"\"\"\n",
        "    Encodes a text into a fixed-length sequence of token IDs using a given vocabulary.\n",
        "\n",
        "    Args:\n",
        "        text: The input text to be tokenized and encoded.\n",
        "        vocab (dict[str, int: A dictionary mapping tokens to their corresponding IDs.\n",
        "            Special tokens:\n",
        "            - \"<PAD>\": ID used for padding.\n",
        "            - \"<UNK>\": ID used for unknown tokens.\n",
        "        max_len (int): The maximum length of the encoded sequence. Longer sequences are truncated,\n",
        "            and shorter sequences are padded.\n",
        "\n",
        "    Returns:\n",
        "        list[int]: A list of token IDs representing the encoded text, with a fixed length of `max_len`.\n",
        "    \"\"\"\n",
        "\n",
        "    tokens = preprocess(text)\n",
        "    ids = [vocab.get(token, vocab[\"<UNK>\"]) for token in tokens]\n",
        "    if len(ids) > max_len:\n",
        "        return ids[:max_len]\n",
        "    return ids + [vocab[\"<PAD>\"]] * (max_len - len(ids))\n",
        "\n",
        "# Build vocabulary\n",
        "all_texts = train_set[\"text\"]\n",
        "VOCAB_SIZE = 10000\n",
        "MAX_LEN = 50\n",
        "vocab = build_vocab(all_texts, VOCAB_SIZE)"
      ],
      "metadata": {
        "id": "KC3b3gZMyRgs"
      },
      "execution_count": 28,
      "outputs": []
    },
    {
      "cell_type": "markdown",
      "source": [
        "We create a Dataset class that inherit from pytorch Dataset object, to use Dataloader"
      ],
      "metadata": {
        "id": "YCdjVvFmvxNg"
      }
    },
    {
      "cell_type": "code",
      "source": [
        "class EmotionDataset(Dataset):\n",
        "    def __init__(self, texts, labels, vocab, max_len):\n",
        "        self.texts = texts\n",
        "        self.labels = labels\n",
        "        self.vocab = vocab\n",
        "        self.max_len = max_len\n",
        "\n",
        "    def __len__(self):\n",
        "        return len(self.texts)\n",
        "\n",
        "    def __getitem__(self, idx):\n",
        "        text = self.texts[idx]\n",
        "        label = self.labels[idx]\n",
        "        input_ids = torch.tensor(encode(text, self.vocab, self.max_len), dtype=torch.long)\n",
        "        return {\n",
        "            \"input_ids\": input_ids,\n",
        "            \"labels\": torch.tensor(label, dtype=torch.long),\n",
        "        }\n",
        "# Prepare datasets\n",
        "train_dataset = EmotionDataset(train_set[\"text\"], train_set[\"label\"], vocab, MAX_LEN)\n",
        "val_dataset = EmotionDataset(val_set[\"text\"], val_set[\"label\"], vocab, MAX_LEN)\n",
        "test_dataset = EmotionDataset(test_set[\"text\"], test_set[\"label\"], vocab, MAX_LEN)\n",
        "\n",
        "# DataLoaders\n",
        "BATCH_SIZE = 32\n",
        "train_loader = DataLoader(train_dataset, batch_size=BATCH_SIZE, shuffle=True)\n",
        "val_loader = DataLoader(val_dataset, batch_size=BATCH_SIZE, shuffle=False)\n",
        "test_loader = DataLoader(test_dataset, batch_size=BATCH_SIZE, shuffle=False)\n",
        "\n",
        "NUM_CLASSES = len(set(train_set[\"label\"]))  # Number of unique emotions"
      ],
      "metadata": {
        "id": "5CTioqR_vrcs"
      },
      "execution_count": 29,
      "outputs": []
    },
    {
      "cell_type": "markdown",
      "source": [
        "## Create the LSTM model\n",
        "In the next cell create we our model\n",
        "\n",
        "With 4 layer: (5 if we count dropout)\n",
        "- embedings (batch_size, seq_length)\n",
        "- LSTM (batch_size, seq_length, embed_dim)\n",
        "- Mean Pooling (batch_size, seq_length, hidden_dim)\n",
        "- fully conected (batch_size, hidden_dim) -> (batch_size, NUM_CLASSES)"
      ],
      "metadata": {
        "id": "1VCztocpwQjW"
      }
    },
    {
      "cell_type": "code",
      "source": [
        "class LSTM(nn.Module):\n",
        "    def __init__(self, embed_dim: int, dropout_p: float = 0.1):\n",
        "        super(LSTM, self).__init__()\n",
        "        self.embedding = nn.Embedding(VOCAB_SIZE, embed_dim)\n",
        "        self.lstm = nn.LSTM(embed_dim, embed_dim, batch_first=True)\n",
        "        self.fc = nn.Linear(embed_dim, NUM_CLASSES)\n",
        "        self.dropout = nn.Dropout(dropout_p)\n",
        "\n",
        "    def forward(self, x):\n",
        "        embedded = self.dropout(self.embedding(x))\n",
        "        output, (h_n, c_n) = self.lstm(embedded)\n",
        "\n",
        "        avg_hidden = output.mean(dim=1)\n",
        "\n",
        "        logits = self.fc(avg_hidden)\n",
        "        return logits\n",
        "use_gpu = torch.cuda.is_available()\n",
        "DEVICE = 'cuda' if use_gpu else 'cpu'\n",
        "print(f\"Using : {DEVICE}\")\n",
        "\n",
        "model = LSTM(embed_dim=128, dropout_p=0.2)\n",
        "model.to(DEVICE)\n",
        "criterion = nn.CrossEntropyLoss()\n",
        "optimizer = optim.Adam(model.parameters(), lr=0.001)"
      ],
      "metadata": {
        "id": "66HSnR2QwUg8",
        "colab": {
          "base_uri": "https://localhost:8080/"
        },
        "outputId": "588bbabd-4038-451e-ed1b-3742aa1d2661"
      },
      "execution_count": 30,
      "outputs": [
        {
          "output_type": "stream",
          "name": "stdout",
          "text": [
            "Using : cuda\n"
          ]
        }
      ]
    },
    {
      "cell_type": "markdown",
      "source": [
        "## Training\n",
        "In this cell we train our model and we can evaluate\n",
        "along the training to see if our model is doing good\n",
        "(This task can be long 20min on T4 GPU for split dataset)"
      ],
      "metadata": {
        "id": "vEWAgA-H3nkH"
      }
    },
    {
      "cell_type": "code",
      "source": [
        "def train_model(model,\n",
        "                train_loader,\n",
        "                val_loader,\n",
        "                criterion,\n",
        "                optimizer,\n",
        "                epochs,\n",
        "                doEvaluate) -> None:\n",
        "    \"\"\"\n",
        "    This function tain the model and validat along the way if the parameter doEvaluate is true\n",
        "    \"\"\"\n",
        "    print(\"Training the model\")\n",
        "    for epoch in range(epochs):\n",
        "        model.train()\n",
        "        train_loss = 0\n",
        "        for batch in train_loader:\n",
        "            input_ids = batch[\"input_ids\"].to(DEVICE)\n",
        "            labels = batch[\"labels\"].to(DEVICE)\n",
        "\n",
        "            optimizer.zero_grad()\n",
        "            outputs = model(input_ids)\n",
        "            loss = criterion(outputs, labels)\n",
        "            loss.backward()\n",
        "            optimizer.step()\n",
        "\n",
        "            train_loss += loss.item()\n",
        "\n",
        "        # Validation\n",
        "        if doEvaluate:\n",
        "          model.eval()\n",
        "          val_loss = 0\n",
        "          val_preds, val_labels = [], []\n",
        "          with torch.no_grad():\n",
        "              print (\"Validating the model\")\n",
        "              for batch in val_loader:\n",
        "                  input_ids = batch[\"input_ids\"].to(DEVICE)\n",
        "                  labels = batch[\"labels\"].to(DEVICE)\n",
        "\n",
        "                  outputs = model(input_ids)\n",
        "                  loss = criterion(outputs, labels)\n",
        "                  val_loss += loss.item()\n",
        "\n",
        "                  preds = torch.argmax(outputs, dim=1).cpu().numpy()\n",
        "                  val_preds.extend(preds)\n",
        "                  val_labels.extend(labels.cpu().numpy())\n",
        "\n",
        "          print(f\"Epoch {epoch + 1}: Train Loss = {train_loss:.4f}, Val Loss = {val_loss:.4f}\")\n",
        "        else:\n",
        "          print(f\"Epoch {epoch + 1}: Train Loss = {train_loss:.4f}\")\n",
        "\n",
        "train_model(model, train_loader, val_loader, criterion, optimizer, 10, True)"
      ],
      "metadata": {
        "id": "ZnLFZoXfwmMS",
        "colab": {
          "base_uri": "https://localhost:8080/"
        },
        "outputId": "e9c623a5-5173-4c46-8880-2c80de78ed73"
      },
      "execution_count": 31,
      "outputs": [
        {
          "output_type": "stream",
          "name": "stdout",
          "text": [
            "Training the model\n",
            "Validating the model\n",
            "Epoch 1: Train Loss = 726.4045, Val Loss = 63.9662\n",
            "Validating the model\n",
            "Epoch 2: Train Loss = 370.2510, Val Loss = 30.1898\n",
            "Validating the model\n",
            "Epoch 3: Train Loss = 206.3379, Val Loss = 22.0356\n",
            "Validating the model\n",
            "Epoch 4: Train Loss = 136.3894, Val Loss = 18.3775\n",
            "Validating the model\n",
            "Epoch 5: Train Loss = 105.1711, Val Loss = 16.1715\n",
            "Validating the model\n",
            "Epoch 6: Train Loss = 83.7449, Val Loss = 15.6771\n",
            "Validating the model\n",
            "Epoch 7: Train Loss = 66.2400, Val Loss = 14.7689\n",
            "Validating the model\n",
            "Epoch 8: Train Loss = 56.0317, Val Loss = 15.6991\n",
            "Validating the model\n",
            "Epoch 9: Train Loss = 48.6137, Val Loss = 16.2606\n",
            "Validating the model\n",
            "Epoch 10: Train Loss = 40.1749, Val Loss = 16.3353\n"
          ]
        }
      ]
    },
    {
      "cell_type": "markdown",
      "source": [
        "## Evaluation Time\n",
        "In the two next celle we are gonna evaluate the model with two differnet graphics"
      ],
      "metadata": {
        "id": "9iON5tY34GL-"
      }
    },
    {
      "cell_type": "code",
      "source": [
        "from collections import defaultdict\n",
        "import matplotlib.pyplot as plt\n",
        "\n",
        "def evaluate_model(model, data_loader, index_to_emotion, device):\n",
        "    \"\"\"\n",
        "    Evaluate the model and compute accuracy per emotion.\n",
        "\n",
        "    Args:\n",
        "        model: The trained model.\n",
        "        data_loader: DataLoader for the evaluation set.\n",
        "        index_to_emotion: A dictionary mapping label indices to emotion names.\n",
        "        device: The device to run the evaluation on.\n",
        "\n",
        "    Returns:\n",
        "        A dictionary with emotion-wise accuracy and a plot.\n",
        "    \"\"\"\n",
        "    model.eval()\n",
        "    emotion_correct = defaultdict(int)\n",
        "    emotion_total = defaultdict(int)\n",
        "    total_correct = 0\n",
        "    total_predictions = 0\n",
        "\n",
        "    with torch.no_grad():\n",
        "        for batch in data_loader:\n",
        "            input_ids = batch[\"input_ids\"].to(device)\n",
        "            labels = batch[\"labels\"].to(device)\n",
        "\n",
        "            outputs = model(input_ids)\n",
        "            preds = torch.argmax(outputs, dim=1).cpu().numpy()\n",
        "            labels = labels.cpu().numpy()\n",
        "\n",
        "            # Update overall accuracy counts\n",
        "            total_correct += (preds == labels).sum()\n",
        "            total_predictions += len(labels)\n",
        "\n",
        "            # Update emotion-specific counts\n",
        "            for true_label, pred_label in zip(labels, preds):\n",
        "                true_emotion = index_to_emotion[true_label]\n",
        "                predicted_emotion = index_to_emotion[pred_label]\n",
        "                emotion_total[true_emotion] += 1\n",
        "                if true_emotion == predicted_emotion:\n",
        "                    emotion_correct[true_emotion] += 1\n",
        "\n",
        "    # Calculate overall accuracy manually\n",
        "    overall_accuracy = (total_correct / total_predictions) * 100 if total_predictions > 0 else 0\n",
        "\n",
        "    # Calculate accuracy per emotion\n",
        "    emotion_accuracy = {\n",
        "        emotion: (emotion_correct[emotion] / emotion_total[emotion] * 100)\n",
        "        if emotion_total[emotion] > 0 else 0\n",
        "        for emotion in index_to_emotion.values()\n",
        "    }\n",
        "\n",
        "    # Plot accuracy per emotion\n",
        "    plt.figure(figsize=(10, 6))\n",
        "    plt.bar(emotion_accuracy.keys(), emotion_accuracy.values(), color=\"skyblue\")\n",
        "    plt.title(\"Accuracy per Emotion\", fontsize=16)\n",
        "    plt.xlabel(\"Emotion\", fontsize=12)\n",
        "    plt.ylabel(\"Accuracy (%)\", fontsize=12)\n",
        "    plt.xticks(rotation=45)\n",
        "    plt.ylim(0, 100)\n",
        "    plt.tight_layout()\n",
        "    plt.show()\n",
        "\n",
        "    # Print the results\n",
        "    print(f\"Overall Accuracy: {overall_accuracy:.2f}%\")\n",
        "    print(\"Accuracy per emotion:\")\n",
        "    for emotion, accuracy in emotion_accuracy.items():\n",
        "        print(f\"{emotion}: {accuracy:.2f}%\")\n",
        "\n",
        "    return emotion_accuracy\n",
        "\n",
        "\n",
        "# Evaluate the trained model\n",
        "emotion_accuracy = evaluate_model(\n",
        "    model=model,\n",
        "    data_loader=test_loader,\n",
        "    index_to_emotion=INDEX_TO_EMOTION,\n",
        "    device=DEVICE\n",
        ")"
      ],
      "metadata": {
        "colab": {
          "base_uri": "https://localhost:8080/",
          "height": 746
        },
        "id": "7bwWA4kB38Bk",
        "outputId": "dbad3b4e-c650-4256-8b8a-c07fddbbc315"
      },
      "execution_count": 32,
      "outputs": [
        {
          "output_type": "display_data",
          "data": {
            "text/plain": [
              "<Figure size 1000x600 with 1 Axes>"
            ],
            "image/png": "[encoded data removed]"
          },
          "metadata": {}
        },
        {
          "output_type": "stream",
          "name": "stdout",
          "text": [
            "Overall Accuracy: 90.25%\n",
            "Accuracy per emotion:\n",
            "sadness: 93.80%\n",
            "joy: 91.94%\n",
            "love: 82.39%\n",
            "anger: 90.18%\n",
            "fear: 86.61%\n",
            "surprise: 72.73%\n"
          ]
        }
      ]
    },
    {
      "cell_type": "code",
      "source": [
        "import torch\n",
        "import matplotlib.pyplot as plt\n",
        "from sklearn.metrics import ConfusionMatrixDisplay\n",
        "\n",
        "# Assuming 'model', 'test_loader', 'DEVICE', and 'INDEX_TO_EMOTION' are defined\n",
        "true_labels = [data['labels'].item() for data in test_loader.dataset]\n",
        "predicted_labels = [\n",
        "    model(data[\"input_ids\"].unsqueeze(0).to(DEVICE)).argmax(dim=1).item()\n",
        "    for data in test_loader.dataset\n",
        "]\n",
        "\n",
        "# Generate and plot confusion matrix\n",
        "ConfusionMatrixDisplay.from_predictions(\n",
        "    true_labels, predicted_labels, display_labels=list(INDEX_TO_EMOTION.values()),\n",
        "    cmap='Blues', xticks_rotation=45\n",
        ")\n",
        "plt.title('Confusion Matrix')\n",
        "plt.tight_layout()\n",
        "plt.show()\n"
      ],
      "metadata": {
        "colab": {
          "base_uri": "https://localhost:8080/",
          "height": 487
        },
        "id": "JITrrJOh4bLs",
        "outputId": "fae23c1e-3f88-4f9b-ab03-3250226bb062"
      },
      "execution_count": 33,
      "outputs": [
        {
          "output_type": "display_data",
          "data": {
            "text/plain": [
              "<Figure size 640x480 with 2 Axes>"
            ],
            "image/png": "[encoded data removed]"
          },
          "metadata": {}
        }
      ]
    }
  ]
}