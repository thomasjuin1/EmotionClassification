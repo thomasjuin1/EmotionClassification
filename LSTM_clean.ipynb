{
  "cells": [
    {
      "cell_type": "markdown",
      "metadata": {
        "colab_type": "text",
        "id": "view-in-github"
      },
      "source": [
        "<a href=\"https://colab.research.google.com/github/thomasjuin1/EmotionClassification/blob/twitter-dataset/LSTM_clean.ipynb\" target=\"_parent\"><img src=\"https://colab.research.google.com/assets/colab-badge.svg\" alt=\"Open In Colab\"/></a>"
      ]
    },
    {
      "cell_type": "markdown",
      "metadata": {
        "id": "32R2EjncxAzx"
      },
      "source": [
        "# RNN (LSTM cell) for emotion recognition\n",
        "In this python notebook we will see how to classify the emotion of a text using a RecurentNeuralNetwork.\n",
        "We will work on the [emotion](https://huggingface.co/datasets/dair-ai/emotion/viewer/unsplit) dataset.\n",
        "\n"
      ]
    },
    {
      "cell_type": "code",
      "execution_count": 1,
      "metadata": {
        "colab": {
          "base_uri": "https://localhost:8080/"
        },
        "collapsed": true,
        "id": "__iojaKkuM9h",
        "outputId": "9b0bfc33-508b-4699-ff7c-39becf141dde"
      },
      "outputs": [
        {
          "name": "stdout",
          "output_type": "stream",
          "text": [
            "Requirement already satisfied: datasets in /home/qdesmettre/.local/lib/python3.10/site-packages (3.1.0)\n",
            "Requirement already satisfied: requests>=2.32.2 in /home/qdesmettre/.local/lib/python3.10/site-packages (from datasets) (2.32.3)\n",
            "Requirement already satisfied: fsspec[http]<=2024.9.0,>=2023.1.0 in /home/qdesmettre/.local/lib/python3.10/site-packages (from datasets) (2024.2.0)\n",
            "Requirement already satisfied: pandas in /home/qdesmettre/.local/lib/python3.10/site-packages (from datasets) (2.2.3)\n",
            "Requirement already satisfied: huggingface-hub>=0.23.0 in /home/qdesmettre/.local/lib/python3.10/site-packages (from datasets) (0.26.2)\n",
            "Requirement already satisfied: dill<0.3.9,>=0.3.0 in /home/qdesmettre/.local/lib/python3.10/site-packages (from datasets) (0.3.8)\n",
            "Requirement already satisfied: xxhash in /home/qdesmettre/.local/lib/python3.10/site-packages (from datasets) (3.5.0)\n",
            "Requirement already satisfied: multiprocess<0.70.17 in /home/qdesmettre/.local/lib/python3.10/site-packages (from datasets) (0.70.16)\n",
            "Requirement already satisfied: filelock in /home/qdesmettre/.local/lib/python3.10/site-packages (from datasets) (3.13.1)\n",
            "Requirement already satisfied: packaging in /home/qdesmettre/.local/lib/python3.10/site-packages (from datasets) (23.2)\n",
            "Requirement already satisfied: tqdm>=4.66.3 in /home/qdesmettre/.local/lib/python3.10/site-packages (from datasets) (4.66.5)\n",
            "Requirement already satisfied: aiohttp in /usr/lib/python3/dist-packages (from datasets) (3.8.1)\n",
            "Requirement already satisfied: pyyaml>=5.1 in /usr/lib/python3/dist-packages (from datasets) (5.4.1)\n",
            "Requirement already satisfied: numpy>=1.17 in /home/qdesmettre/.local/lib/python3.10/site-packages (from datasets) (1.26.4)\n",
            "Requirement already satisfied: pyarrow>=15.0.0 in /home/qdesmettre/.local/lib/python3.10/site-packages (from datasets) (18.0.0)\n",
            "Requirement already satisfied: typing-extensions>=3.7.4.3 in /home/qdesmettre/.local/lib/python3.10/site-packages (from huggingface-hub>=0.23.0->datasets) (4.8.0)\n",
            "Requirement already satisfied: idna<4,>=2.5 in /usr/lib/python3/dist-packages (from requests>=2.32.2->datasets) (3.3)\n",
            "Requirement already satisfied: charset-normalizer<4,>=2 in /home/qdesmettre/.local/lib/python3.10/site-packages (from requests>=2.32.2->datasets) (2.0.12)\n",
            "Requirement already satisfied: certifi>=2017.4.17 in /usr/lib/python3/dist-packages (from requests>=2.32.2->datasets) (2020.6.20)\n",
            "Requirement already satisfied: urllib3<3,>=1.21.1 in /usr/lib/python3/dist-packages (from requests>=2.32.2->datasets) (1.26.5)\n",
            "Requirement already satisfied: pytz>=2020.1 in /usr/lib/python3/dist-packages (from pandas->datasets) (2022.1)\n",
            "Requirement already satisfied: tzdata>=2022.7 in /home/qdesmettre/.local/lib/python3.10/site-packages (from pandas->datasets) (2024.2)\n",
            "Requirement already satisfied: python-dateutil>=2.8.2 in /home/qdesmettre/.local/lib/python3.10/site-packages (from pandas->datasets) (2.9.0.post0)\n",
            "Requirement already satisfied: six>=1.5 in /usr/lib/python3/dist-packages (from python-dateutil>=2.8.2->pandas->datasets) (1.16.0)\n"
          ]
        }
      ],
      "source": [
        "!pip install datasets"
      ]
    },
    {
      "cell_type": "code",
      "execution_count": 2,
      "metadata": {
        "id": "3MZ9QndCub3E"
      },
      "outputs": [],
      "source": [
        "from datasets import load_dataset\n",
        "import torch\n",
        "import torch.nn as nn\n",
        "import torch.optim as optim\n",
        "from torch.utils.data import Dataset, DataLoader\n",
        "from tqdm.notebook import tqdm"
      ]
    },
    {
      "cell_type": "code",
      "execution_count": 3,
      "metadata": {
        "id": "-1lDoDDowurY"
      },
      "outputs": [],
      "source": [
        "def split_dataset(dataset, train_ratio: float = 0.8,\n",
        "                  test_ratio: float = 0.1,\n",
        "                  val_ratio: float = 0.1):\n",
        "    length = len(dataset[\"train\"])\n",
        "    # shuffle the dataset\n",
        "    dataset[\"train\"] = dataset[\"train\"].shuffle()\n",
        "    train_set = dataset[\"train\"].select(range(int(length * train_ratio)))\n",
        "    test_set = dataset[\"train\"].select(range(int(length * train_ratio), int(length * (train_ratio + test_ratio))))\n",
        "    val_set = dataset[\"train\"].select(range(int(length * (train_ratio + test_ratio)), length))\n",
        "\n",
        "    return train_set, test_set, val_set\n",
        "\n",
        "def load_twitter_dataset(split = \"split\"):\n",
        "    if split not in [\"split\", \"unsplit\"]:\n",
        "        raise ValueError(\"split must be either 'split' or 'unsplit'\")\n",
        "    ds = load_dataset(\"dair-ai/emotion\", split)\n",
        "\n",
        "    # Get the train, validation and test sets\n",
        "    train_set, test_set, val_set = None, None, None\n",
        "\n",
        "    if split == \"split\":\n",
        "        train_set = ds[\"train\"]\n",
        "        test_set = ds[\"test\"]\n",
        "        val_set = ds[\"validation\"]\n",
        "    else:\n",
        "        # Split the training, validation and test sets, because the \"unsplit\" dataset only has a training set\n",
        "        train_set, test_set, val_set = split_dataset(ds)\n",
        "\n",
        "    # Make sure the dataset is in the right format and in memory\n",
        "    train_set = train_set.map(lambda x: {\"text\": x[\"text\"], \"label\": x[\"label\"]})\n",
        "    test_set = test_set.map(lambda x: {\"text\": x[\"text\"], \"label\": x[\"label\"]})\n",
        "    val_set = val_set.map(lambda x: {\"text\": x[\"text\"], \"label\": x[\"label\"]})\n",
        "\n",
        "    emotions = [\n",
        "        \"sadness\",\n",
        "        \"joy\",\n",
        "        \"love\",\n",
        "        \"anger\",\n",
        "        \"fear\",\n",
        "        \"surprise\",\n",
        "    ]\n",
        "\n",
        "\n",
        "    return train_set, test_set, val_set, emotions\n",
        "\n",
        "def load_goemotions_dataset(split = \"simplified\"):\n",
        "    if split not in [\"simplified\", \"raw\"]:\n",
        "        raise ValueError(\"split must be either 'simplified' or 'raw'\")\n",
        "    emotions = [\n",
        "        \"admiration\",\n",
        "        \"amusement\",\n",
        "        \"anger\",\n",
        "        \"annoyance\",\n",
        "        \"approval\",\n",
        "        \"caring\",\n",
        "        \"confusion\",\n",
        "        \"curiosity\",\n",
        "        \"desire\",\n",
        "        \"disappointment\",\n",
        "        \"disapproval\",\n",
        "        \"disgust\",\n",
        "        \"embarrassment\",\n",
        "        \"excitement\",\n",
        "        \"fear\",\n",
        "        \"gratitude\",\n",
        "        \"grief\",\n",
        "        \"joy\",\n",
        "        \"love\",\n",
        "        \"nervousness\",\n",
        "        \"optimism\",\n",
        "        \"pride\",\n",
        "        \"realization\",\n",
        "        \"relief\",\n",
        "        \"remorse\",\n",
        "        \"sadness\",\n",
        "        \"surprise\",\n",
        "        \"neutral\",\n",
        "    ]\n",
        "    ds = load_dataset(\"google-research-datasets/go_emotions\", split)\n",
        "\n",
        "    train_set, test_set, val_set = None, None, None\n",
        "\n",
        "    if split == \"simplified\":\n",
        "        # Get the train and test sets\n",
        "        train_set = ds[\"train\"]\n",
        "        test_set = ds[\"test\"]\n",
        "        val_set = ds[\"validation\"]\n",
        "\n",
        "        train_set = train_set.map(lambda x: {\"text\": x[\"text\"], \"label\": x[\"labels\"][0]})\n",
        "        test_set = test_set.map(lambda x: {\"text\": x[\"text\"], \"label\": x[\"labels\"][0]})\n",
        "        val_set = val_set.map(lambda x: {\"text\": x[\"text\"], \"label\": x[\"labels\"][0]})\n",
        "    else:\n",
        "        # Get the train, validation and test sets\n",
        "        train_set, test_set, val_set = split_dataset(ds)\n",
        "\n",
        "        # the google dataset raw labels are not stored in a list, but rather there are multiple keys: 'admiration', 'amusement', etc.\n",
        "        # where if it is present, the value is 1, otherwise it is 0\n",
        "        # so we need to convert this to a list of labels\n",
        "        def row_to_label(row):\n",
        "            for i in range(len(emotions)):\n",
        "                if row[emotions[i]] == 1:\n",
        "                    return i\n",
        "\n",
        "\n",
        "        # Make sure the dataset is in the right format and in memory\n",
        "        train_set = train_set.map(lambda x: {\"text\": x[\"text\"], \"label\": row_to_label(x)})\n",
        "        test_set = test_set.map(lambda x: {\"text\": x[\"text\"], \"label\": row_to_label(x)})\n",
        "        val_set = val_set.map(lambda x: {\"text\": x[\"text\"], \"label\": row_to_label(x)})\n",
        "\n",
        "    # remove rows that have no label\n",
        "    train_set = train_set.filter(lambda x: x[\"label\"] != None)\n",
        "    test_set = test_set.filter(lambda x: x[\"label\"] != None)\n",
        "    val_set = val_set.filter(lambda x: x[\"label\"] != None)\n",
        "\n",
        "    return train_set, test_set, val_set, emotions\n",
        "\n",
        "\n",
        "train_set, test_set, val_set, __emotions = load_twitter_dataset(\"split\")\n",
        "# google_train_set, google_test_set, google_val_set, google__emotions = load_goemotions_dataset(\"simplified\")\n",
        "# train_set, test_set, val_set, __emotions = google_train_set, google_test_set, google_val_set, google__emotions\n",
        "\n",
        "EMOTION_TO_INDEX = {\n",
        "    emotion: index for index, emotion in enumerate(__emotions)\n",
        "}\n",
        "\n",
        "INDEX_TO_EMOTION = {\n",
        "    index: emotion for emotion, index in EMOTION_TO_INDEX.items()\n",
        "}"
      ]
    },
    {
      "cell_type": "markdown",
      "metadata": {
        "id": "ejttDRQBx_6t"
      },
      "source": [
        "Those list and dict will be used later in the program for translation."
      ]
    },
    {
      "cell_type": "markdown",
      "metadata": {
        "id": "sqxav3ejy1CD"
      },
      "source": [
        "## Pre-process the dataset\n",
        "Before using the dataset, we need to pre-process it.\n",
        "\n",
        "We will:\n",
        "\n",
        "Remove the stopwords\n",
        "Remove the punctuation\n",
        "Lemmatize the text\n",
        "Convert the text to lowercase\n",
        "We will pre-process the training dataset, for it to be ready to train on.\n",
        "The encode function ensure a sequence of fix size (usefule for a lot of things batch for eg.)"
      ]
    },
    {
      "cell_type": "code",
      "execution_count": 4,
      "metadata": {
        "id": "KC3b3gZMyRgs"
      },
      "outputs": [
        {
          "name": "stdout",
          "output_type": "stream",
          "text": [
            "Number of texts:  16000\n"
          ]
        }
      ],
      "source": [
        "import spacy\n",
        "from collections import Counter\n",
        "from multiprocess import Pool\n",
        "\n",
        "nlp = spacy.load(\"en_core_web_sm\")\n",
        "\n",
        "def preprocess(text: str) -> list[str]:\n",
        "    \"\"\"\n",
        "    This function remove stop word, lemmatize the token of the text, lowercase it\n",
        "\n",
        "    Args:\n",
        "      text: The text to preprocess\n",
        "\n",
        "    Returns:\n",
        "      A tokenize version of the text\n",
        "    \"\"\"\n",
        "    tokens = nlp(text)\n",
        "    return [token.lemma_.lower().strip() for token in tokens if not token.like_url and not token.is_stop]\n",
        "\n",
        "def build_vocab(texts: list[str], max_vocab_size: int) -> dict[str, int]:\n",
        "    \"\"\"\n",
        "    Builds a vocabulary mapping tokens to unique indices from a list of texts.\n",
        "    - The vocabulary is constructed based on token frequency, keeping the most common tokens\n",
        "      up to the specified `max_vocab_size`.\n",
        "    - Tokens beyond `max_vocab_size` are excluded from the vocabulary.\n",
        "\n",
        "    Args:\n",
        "        texts (list[str]): A list of input texts to be tokenized and processed.\n",
        "        max_vocab_size (int): The maximum size of the vocabulary, including special tokens.\n",
        "\n",
        "    Returns:\n",
        "        dict[str, int]: A dictionary where:\n",
        "            - Keys are tokens (words).\n",
        "            - Values are unique integer indices.\n",
        "            Special tokens included:\n",
        "            - \"<PAD>\": 0 (used for padding).\n",
        "            - \"<UNK>\": 1 (used for unknown tokens).\n",
        "            Other tokens are assigned indices starting from 2.\n",
        "\n",
        "\n",
        "    \"\"\"\n",
        "    print(\"Number of texts: \", len(texts))\n",
        "    with Pool() as p:\n",
        "        preprocessed_texts = p.map(preprocess, texts)\n",
        "        counter = Counter(token for tokens in preprocessed_texts for token in tokens)\n",
        "    # counter = Counter(token for text in texts for token in preprocess(text))\n",
        "    most_common: list[tuple[str, int]] = counter.most_common(max_vocab_size - 2)\n",
        "    vocab = {word: idx + 2 for idx, (word, _) in enumerate(most_common)}  # Reserve 0 and 1\n",
        "    vocab[\"<PAD>\"] = 0\n",
        "    vocab[\"<UNK>\"] = 1\n",
        "    return vocab, preprocessed_texts\n",
        "\n",
        "def encode(text: str, vocab: dict[str, int], max_len: int) -> list[int]:\n",
        "    \"\"\"\n",
        "    Encodes a text into a fixed-length sequence of token IDs using a given vocabulary.\n",
        "\n",
        "    Args:\n",
        "        text: The input text to be tokenized and encoded.\n",
        "        vocab (dict[str, int: A dictionary mapping tokens to their corresponding IDs.\n",
        "            Special tokens:\n",
        "            - \"<PAD>\": ID used for padding.\n",
        "            - \"<UNK>\": ID used for unknown tokens.\n",
        "        max_len (int): The maximum length of the encoded sequence. Longer sequences are truncated,\n",
        "            and shorter sequences are padded.\n",
        "\n",
        "    Returns:\n",
        "        list[int]: A list of token IDs representing the encoded text, with a fixed length of `max_len`.\n",
        "    \"\"\"\n",
        "\n",
        "    tokens = preprocess(text)\n",
        "    ids = [vocab.get(token, vocab[\"<UNK>\"]) for token in tokens]\n",
        "    if len(ids) > max_len:\n",
        "        return ids[:max_len]\n",
        "    return ids + [vocab[\"<PAD>\"]] * (max_len - len(ids))\n",
        "\n",
        "# Build vocabulary\n",
        "all_texts = train_set[\"text\"]\n",
        "VOCAB_SIZE = 15000\n",
        "MAX_LEN = 50\n",
        "vocab, pre_processed_train_texts = build_vocab(all_texts, VOCAB_SIZE)"
      ]
    },
    {
      "cell_type": "code",
      "execution_count": 5,
      "metadata": {},
      "outputs": [
        {
          "name": "stdout",
          "output_type": "stream",
          "text": [
            "Vocabulary size: 11854\n"
          ]
        },
        {
          "data": {
            "image/png": "[encoded data removed]",
            "text/plain": [
              "<Figure size 640x480 with 1 Axes>"
            ]
          },
          "metadata": {},
          "output_type": "display_data"
        }
      ],
      "source": [
        "print(\"Vocabulary size:\", len(vocab))\n",
        "\n",
        "# plot the distribution of the length of the text\n",
        "import matplotlib.pyplot as plt\n",
        "\n",
        "text_lengths = [len(text) for text in pre_processed_train_texts]\n",
        "plt.hist(text_lengths, bins=30)\n",
        "plt.xlabel(\"Length of text (number of tokens)\")\n",
        "plt.ylabel(\"Number of texts\")\n",
        "plt.title(\"Distribution of text lengths\")\n",
        "plt.show()"
      ]
    },
    {
      "cell_type": "markdown",
      "metadata": {
        "id": "YCdjVvFmvxNg"
      },
      "source": [
        "We create a Dataset class that inherit from pytorch Dataset object, to use Dataloader"
      ]
    },
    {
      "cell_type": "code",
      "execution_count": 6,
      "metadata": {
        "id": "5CTioqR_vrcs"
      },
      "outputs": [],
      "source": [
        "def tensor_encode(text: str, vocab: dict[str, int], max_len: int) -> torch.Tensor:\n",
        "    base = torch.tensor(encode(text, vocab, max_len), dtype=torch.long)\n",
        "    return base\n",
        "\n",
        "class EmotionDataset(Dataset):\n",
        "    def __init__(self, texts, labels, vocab, max_len):\n",
        "        self.texts = texts\n",
        "        self.labels = labels\n",
        "        self.vocab = vocab\n",
        "        self.max_len = max_len\n",
        "\n",
        "        self.processed_texts = []\n",
        "        with Pool() as p:\n",
        "            self.processed_texts = p.map(lambda x: tensor_encode(x, vocab, max_len), texts)\n",
        "        self.processed_labels = torch.tensor(labels, dtype=torch.long)\n",
        "\n",
        "    def __len__(self):\n",
        "        return len(self.texts)\n",
        "\n",
        "    def __getitem__(self, idx):\n",
        "        return {\n",
        "            \"input_ids\": self.processed_texts[idx],\n",
        "            \"labels\": self.processed_labels[idx],\n",
        "        }\n",
        "\n",
        "# Prepare datasets\n",
        "train_dataset = EmotionDataset(train_set[\"text\"], train_set[\"label\"], vocab, MAX_LEN)\n",
        "val_dataset = EmotionDataset(val_set[\"text\"], val_set[\"label\"], vocab, MAX_LEN)\n",
        "test_dataset = EmotionDataset(test_set[\"text\"], test_set[\"label\"], vocab, MAX_LEN)"
      ]
    },
    {
      "cell_type": "code",
      "execution_count": 7,
      "metadata": {},
      "outputs": [],
      "source": [
        "# DataLoaders\n",
        "BATCH_SIZE = 32\n",
        "train_loader = DataLoader(train_dataset, batch_size=BATCH_SIZE, shuffle=True)\n",
        "val_loader = DataLoader(val_dataset, batch_size=BATCH_SIZE, shuffle=False)\n",
        "test_loader = DataLoader(test_dataset, batch_size=BATCH_SIZE, shuffle=False)\n",
        "\n",
        "NUM_CLASSES = len(set(train_set[\"label\"]))  # Number of unique emotions"
      ]
    },
    {
      "cell_type": "markdown",
      "metadata": {
        "id": "1VCztocpwQjW"
      },
      "source": [
        "## Create the LSTM model\n",
        "In the next cell create we our model\n",
        "\n",
        "With 4 layer: (5 if we count dropout)\n",
        "- embedings (batch_size, seq_length)\n",
        "- LSTM (batch_size, seq_length, embed_dim)\n",
        "- Mean Pooling (batch_size, seq_length, hidden_dim)\n",
        "- fully conected (batch_size, hidden_dim) -> (batch_size, NUM_CLASSES)"
      ]
    },
    {
      "cell_type": "code",
      "execution_count": 8,
      "metadata": {
        "colab": {
          "base_uri": "https://localhost:8080/"
        },
        "id": "66HSnR2QwUg8",
        "outputId": "588bbabd-4038-451e-ed1b-3742aa1d2661"
      },
      "outputs": [
        {
          "name": "stdout",
          "output_type": "stream",
          "text": [
            "Using : cuda\n"
          ]
        }
      ],
      "source": [
        "\n",
        "class LSTM(nn.Module):\n",
        "    def __init__(self, embed_dim: int, hidden_dim: int, dropout_p: float = 0.1, *, bidirectional: bool = True, with_attention: bool = True):\n",
        "        super(LSTM, self).__init__()\n",
        "        self.with_attention = with_attention\n",
        "        self.embedding = nn.Embedding(VOCAB_SIZE, embed_dim)\n",
        "        self.lstm = nn.LSTM(embed_dim, hidden_dim, batch_first=True, bidirectional=bidirectional)\n",
        "\n",
        "        if bidirectional:\n",
        "            hidden_dim *= 2\n",
        "\n",
        "        if with_attention:\n",
        "            self.attention = nn.MultiheadAttention(hidden_dim, num_heads=1)\n",
        "\n",
        "        self.fc = nn.Linear(hidden_dim, NUM_CLASSES)\n",
        "        self.dropout = nn.Dropout(dropout_p)\n",
        "\n",
        "    def forward(self, x):\n",
        "        x = self.dropout(self.embedding(x))\n",
        "        x, _ = self.lstm(x)\n",
        "        if self.with_attention:\n",
        "            x, _ = self.attention(x, x, x)\n",
        "        x = x.mean(dim=1)\n",
        "        x = self.fc(x)\n",
        "        return x\n",
        "\n",
        "use_gpu = torch.cuda.is_available()\n",
        "DEVICE = 'cuda' if use_gpu else 'cpu'\n",
        "print(f\"Using : {DEVICE}\")\n",
        "\n",
        "model = LSTM(embed_dim=64, hidden_dim=64, dropout_p=0.3)\n",
        "model.to(DEVICE)\n",
        "criterion = nn.CrossEntropyLoss()\n",
        "optimizer = optim.AdamW(model.parameters(), lr=0.0007, weight_decay=0.05)"
      ]
    },
    {
      "cell_type": "markdown",
      "metadata": {
        "id": "vEWAgA-H3nkH"
      },
      "source": [
        "## Training\n",
        "In this cell we train our model and we can evaluate\n",
        "along the training to see if our model is doing good\n",
        "(This task can be long 20min on T4 GPU for split dataset)"
      ]
    },
    {
      "cell_type": "code",
      "execution_count": 9,
      "metadata": {
        "colab": {
          "base_uri": "https://localhost:8080/"
        },
        "id": "ZnLFZoXfwmMS",
        "outputId": "e9c623a5-5173-4c46-8880-2c80de78ed73"
      },
      "outputs": [
        {
          "name": "stdout",
          "output_type": "stream",
          "text": [
            "Training the model\n"
          ]
        },
        {
          "data": {
            "application/vnd.jupyter.widget-view+json": {
              "model_id": "a37e67a033dd43e18e498cba76716fa6",
              "version_major": 2,
              "version_minor": 0
            },
            "text/plain": [
              "  0%|          | 0/500 [00:00<?, ?it/s]"
            ]
          },
          "metadata": {},
          "output_type": "display_data"
        },
        {
          "name": "stdout",
          "output_type": "stream",
          "text": [
            "Epoch 1: Train Loss = 791.2234, Val Loss = 99.9043\n"
          ]
        },
        {
          "data": {
            "application/vnd.jupyter.widget-view+json": {
              "model_id": "6179f8ca7ae4411da16dcec159954a5e",
              "version_major": 2,
              "version_minor": 0
            },
            "text/plain": [
              "  0%|          | 0/500 [00:00<?, ?it/s]"
            ]
          },
          "metadata": {},
          "output_type": "display_data"
        },
        {
          "name": "stdout",
          "output_type": "stream",
          "text": [
            "Epoch 2: Train Loss = 779.4706, Val Loss = 91.6971\n"
          ]
        },
        {
          "data": {
            "application/vnd.jupyter.widget-view+json": {
              "model_id": "96752d84e5ca4af09ebf4e837fe07002",
              "version_major": 2,
              "version_minor": 0
            },
            "text/plain": [
              "  0%|          | 0/500 [00:00<?, ?it/s]"
            ]
          },
          "metadata": {},
          "output_type": "display_data"
        },
        {
          "name": "stdout",
          "output_type": "stream",
          "text": [
            "Epoch 3: Train Loss = 695.7333, Val Loss = 82.4618\n"
          ]
        },
        {
          "data": {
            "application/vnd.jupyter.widget-view+json": {
              "model_id": "4ef247d51b214ee7b66b5eec707e8673",
              "version_major": 2,
              "version_minor": 0
            },
            "text/plain": [
              "  0%|          | 0/500 [00:00<?, ?it/s]"
            ]
          },
          "metadata": {},
          "output_type": "display_data"
        },
        {
          "name": "stdout",
          "output_type": "stream",
          "text": [
            "Epoch 4: Train Loss = 624.2750, Val Loss = 79.5823\n"
          ]
        },
        {
          "data": {
            "application/vnd.jupyter.widget-view+json": {
              "model_id": "51358fcfefaa4806961b73aed412a4f7",
              "version_major": 2,
              "version_minor": 0
            },
            "text/plain": [
              "  0%|          | 0/500 [00:00<?, ?it/s]"
            ]
          },
          "metadata": {},
          "output_type": "display_data"
        },
        {
          "name": "stdout",
          "output_type": "stream",
          "text": [
            "Epoch 5: Train Loss = 588.7912, Val Loss = 76.0867\n"
          ]
        },
        {
          "data": {
            "application/vnd.jupyter.widget-view+json": {
              "model_id": "be6f19cdd8004a0cb347b840641b07a8",
              "version_major": 2,
              "version_minor": 0
            },
            "text/plain": [
              "  0%|          | 0/500 [00:00<?, ?it/s]"
            ]
          },
          "metadata": {},
          "output_type": "display_data"
        },
        {
          "name": "stdout",
          "output_type": "stream",
          "text": [
            "Epoch 6: Train Loss = 563.0482, Val Loss = 72.8441\n"
          ]
        },
        {
          "data": {
            "application/vnd.jupyter.widget-view+json": {
              "model_id": "f0aed293657b479fbacc4b72edc7b58c",
              "version_major": 2,
              "version_minor": 0
            },
            "text/plain": [
              "  0%|          | 0/500 [00:00<?, ?it/s]"
            ]
          },
          "metadata": {},
          "output_type": "display_data"
        },
        {
          "name": "stdout",
          "output_type": "stream",
          "text": [
            "Epoch 7: Train Loss = 538.7835, Val Loss = 73.5713\n"
          ]
        },
        {
          "data": {
            "application/vnd.jupyter.widget-view+json": {
              "model_id": "39063790ee034e36bbd83c752fda2d0c",
              "version_major": 2,
              "version_minor": 0
            },
            "text/plain": [
              "  0%|          | 0/500 [00:00<?, ?it/s]"
            ]
          },
          "metadata": {},
          "output_type": "display_data"
        },
        {
          "name": "stdout",
          "output_type": "stream",
          "text": [
            "Epoch 8: Train Loss = 512.8264, Val Loss = 69.3058\n"
          ]
        },
        {
          "data": {
            "application/vnd.jupyter.widget-view+json": {
              "model_id": "8d21032ee4304b53ac09807574a33421",
              "version_major": 2,
              "version_minor": 0
            },
            "text/plain": [
              "  0%|          | 0/500 [00:00<?, ?it/s]"
            ]
          },
          "metadata": {},
          "output_type": "display_data"
        },
        {
          "name": "stdout",
          "output_type": "stream",
          "text": [
            "Epoch 9: Train Loss = 496.9627, Val Loss = 72.0582\n"
          ]
        },
        {
          "data": {
            "application/vnd.jupyter.widget-view+json": {
              "model_id": "7b4c642fc19140ce99bf74daffc02a3d",
              "version_major": 2,
              "version_minor": 0
            },
            "text/plain": [
              "  0%|          | 0/500 [00:00<?, ?it/s]"
            ]
          },
          "metadata": {},
          "output_type": "display_data"
        },
        {
          "name": "stdout",
          "output_type": "stream",
          "text": [
            "Epoch 10: Train Loss = 477.9018, Val Loss = 63.6836\n"
          ]
        },
        {
          "data": {
            "application/vnd.jupyter.widget-view+json": {
              "model_id": "6b07ff694d164dcf9db04d2754ae4b39",
              "version_major": 2,
              "version_minor": 0
            },
            "text/plain": [
              "  0%|          | 0/500 [00:00<?, ?it/s]"
            ]
          },
          "metadata": {},
          "output_type": "display_data"
        },
        {
          "name": "stdout",
          "output_type": "stream",
          "text": [
            "Epoch 11: Train Loss = 456.5222, Val Loss = 70.6520\n"
          ]
        },
        {
          "data": {
            "application/vnd.jupyter.widget-view+json": {
              "model_id": "b8724c4d525c41d2acc48954f97fbff5",
              "version_major": 2,
              "version_minor": 0
            },
            "text/plain": [
              "  0%|          | 0/500 [00:00<?, ?it/s]"
            ]
          },
          "metadata": {},
          "output_type": "display_data"
        },
        {
          "name": "stdout",
          "output_type": "stream",
          "text": [
            "Epoch 12: Train Loss = 438.9037, Val Loss = 66.8285\n"
          ]
        },
        {
          "data": {
            "application/vnd.jupyter.widget-view+json": {
              "model_id": "76691e6813eb47e5997cc166237d9691",
              "version_major": 2,
              "version_minor": 0
            },
            "text/plain": [
              "  0%|          | 0/500 [00:00<?, ?it/s]"
            ]
          },
          "metadata": {},
          "output_type": "display_data"
        },
        {
          "name": "stdout",
          "output_type": "stream",
          "text": [
            "Epoch 13: Train Loss = 415.7695, Val Loss = 62.5658\n"
          ]
        },
        {
          "data": {
            "application/vnd.jupyter.widget-view+json": {
              "model_id": "8f90be1d7ca4470d940697674356f58c",
              "version_major": 2,
              "version_minor": 0
            },
            "text/plain": [
              "  0%|          | 0/500 [00:00<?, ?it/s]"
            ]
          },
          "metadata": {},
          "output_type": "display_data"
        },
        {
          "name": "stdout",
          "output_type": "stream",
          "text": [
            "Epoch 14: Train Loss = 387.3672, Val Loss = 62.8412\n"
          ]
        },
        {
          "data": {
            "application/vnd.jupyter.widget-view+json": {
              "model_id": "82becf4c367d4773a24320214f72b5af",
              "version_major": 2,
              "version_minor": 0
            },
            "text/plain": [
              "  0%|          | 0/500 [00:00<?, ?it/s]"
            ]
          },
          "metadata": {},
          "output_type": "display_data"
        },
        {
          "name": "stdout",
          "output_type": "stream",
          "text": [
            "Epoch 15: Train Loss = 333.1096, Val Loss = 48.9565\n"
          ]
        },
        {
          "data": {
            "application/vnd.jupyter.widget-view+json": {
              "model_id": "bc96100ef1f64cf5acf1735f76d91960",
              "version_major": 2,
              "version_minor": 0
            },
            "text/plain": [
              "  0%|          | 0/500 [00:00<?, ?it/s]"
            ]
          },
          "metadata": {},
          "output_type": "display_data"
        },
        {
          "name": "stdout",
          "output_type": "stream",
          "text": [
            "Epoch 16: Train Loss = 277.9108, Val Loss = 42.3915\n"
          ]
        },
        {
          "data": {
            "application/vnd.jupyter.widget-view+json": {
              "model_id": "e9018fd5e9bf41eebf8eaa1ac5a7526d",
              "version_major": 2,
              "version_minor": 0
            },
            "text/plain": [
              "  0%|          | 0/500 [00:00<?, ?it/s]"
            ]
          },
          "metadata": {},
          "output_type": "display_data"
        },
        {
          "name": "stdout",
          "output_type": "stream",
          "text": [
            "Epoch 17: Train Loss = 232.4681, Val Loss = 42.9744\n"
          ]
        },
        {
          "data": {
            "application/vnd.jupyter.widget-view+json": {
              "model_id": "bd45d63fc4ff4bd18c8c336beba7b4b2",
              "version_major": 2,
              "version_minor": 0
            },
            "text/plain": [
              "  0%|          | 0/500 [00:00<?, ?it/s]"
            ]
          },
          "metadata": {},
          "output_type": "display_data"
        },
        {
          "name": "stdout",
          "output_type": "stream",
          "text": [
            "Epoch 18: Train Loss = 201.9119, Val Loss = 38.8913\n"
          ]
        },
        {
          "data": {
            "application/vnd.jupyter.widget-view+json": {
              "model_id": "1cdc224bca4848ce951209b9cddb6793",
              "version_major": 2,
              "version_minor": 0
            },
            "text/plain": [
              "  0%|          | 0/500 [00:00<?, ?it/s]"
            ]
          },
          "metadata": {},
          "output_type": "display_data"
        },
        {
          "name": "stdout",
          "output_type": "stream",
          "text": [
            "Epoch 19: Train Loss = 181.2491, Val Loss = 32.9479\n"
          ]
        },
        {
          "data": {
            "application/vnd.jupyter.widget-view+json": {
              "model_id": "6273c5d068bb46f18fd0b5f9e08883ff",
              "version_major": 2,
              "version_minor": 0
            },
            "text/plain": [
              "  0%|          | 0/500 [00:00<?, ?it/s]"
            ]
          },
          "metadata": {},
          "output_type": "display_data"
        },
        {
          "name": "stdout",
          "output_type": "stream",
          "text": [
            "Epoch 20: Train Loss = 155.3735, Val Loss = 33.2388\n"
          ]
        },
        {
          "data": {
            "application/vnd.jupyter.widget-view+json": {
              "model_id": "107e97fb41e74b4eabc1568e40d315f9",
              "version_major": 2,
              "version_minor": 0
            },
            "text/plain": [
              "  0%|          | 0/500 [00:00<?, ?it/s]"
            ]
          },
          "metadata": {},
          "output_type": "display_data"
        },
        {
          "name": "stdout",
          "output_type": "stream",
          "text": [
            "Epoch 21: Train Loss = 140.1083, Val Loss = 30.5326\n"
          ]
        },
        {
          "data": {
            "application/vnd.jupyter.widget-view+json": {
              "model_id": "92680ef5fc214f0ca95e4af2157c2e26",
              "version_major": 2,
              "version_minor": 0
            },
            "text/plain": [
              "  0%|          | 0/500 [00:00<?, ?it/s]"
            ]
          },
          "metadata": {},
          "output_type": "display_data"
        },
        {
          "name": "stdout",
          "output_type": "stream",
          "text": [
            "Epoch 22: Train Loss = 127.6136, Val Loss = 29.4160\n"
          ]
        },
        {
          "data": {
            "application/vnd.jupyter.widget-view+json": {
              "model_id": "f39564a6ba774c23b5c2f47830dac26b",
              "version_major": 2,
              "version_minor": 0
            },
            "text/plain": [
              "  0%|          | 0/500 [00:00<?, ?it/s]"
            ]
          },
          "metadata": {},
          "output_type": "display_data"
        },
        {
          "name": "stdout",
          "output_type": "stream",
          "text": [
            "Epoch 23: Train Loss = 114.3329, Val Loss = 32.1885\n"
          ]
        },
        {
          "data": {
            "application/vnd.jupyter.widget-view+json": {
              "model_id": "fb25ee0aa4ab4973aea5154c1e799ad9",
              "version_major": 2,
              "version_minor": 0
            },
            "text/plain": [
              "  0%|          | 0/500 [00:00<?, ?it/s]"
            ]
          },
          "metadata": {},
          "output_type": "display_data"
        },
        {
          "name": "stdout",
          "output_type": "stream",
          "text": [
            "Epoch 24: Train Loss = 112.4624, Val Loss = 26.6892\n"
          ]
        },
        {
          "data": {
            "application/vnd.jupyter.widget-view+json": {
              "model_id": "9e1497aaedb04bc3b7256309e480e7a8",
              "version_major": 2,
              "version_minor": 0
            },
            "text/plain": [
              "  0%|          | 0/500 [00:00<?, ?it/s]"
            ]
          },
          "metadata": {},
          "output_type": "display_data"
        },
        {
          "name": "stdout",
          "output_type": "stream",
          "text": [
            "Epoch 25: Train Loss = 100.1993, Val Loss = 27.8270\n"
          ]
        },
        {
          "data": {
            "application/vnd.jupyter.widget-view+json": {
              "model_id": "27387ce239ec4b439dfb8a66dd82bd18",
              "version_major": 2,
              "version_minor": 0
            },
            "text/plain": [
              "  0%|          | 0/500 [00:00<?, ?it/s]"
            ]
          },
          "metadata": {},
          "output_type": "display_data"
        },
        {
          "name": "stdout",
          "output_type": "stream",
          "text": [
            "Epoch 26: Train Loss = 95.7293, Val Loss = 27.1273\n"
          ]
        },
        {
          "data": {
            "application/vnd.jupyter.widget-view+json": {
              "model_id": "0b809c774b4f45c393a84221c55fcf99",
              "version_major": 2,
              "version_minor": 0
            },
            "text/plain": [
              "  0%|          | 0/500 [00:00<?, ?it/s]"
            ]
          },
          "metadata": {},
          "output_type": "display_data"
        },
        {
          "name": "stdout",
          "output_type": "stream",
          "text": [
            "Epoch 27: Train Loss = 90.8955, Val Loss = 28.3426\n"
          ]
        },
        {
          "data": {
            "application/vnd.jupyter.widget-view+json": {
              "model_id": "1a544052955946019805afad39ab1c16",
              "version_major": 2,
              "version_minor": 0
            },
            "text/plain": [
              "  0%|          | 0/500 [00:00<?, ?it/s]"
            ]
          },
          "metadata": {},
          "output_type": "display_data"
        },
        {
          "name": "stdout",
          "output_type": "stream",
          "text": [
            "Epoch 28: Train Loss = 81.7922, Val Loss = 25.7456\n"
          ]
        },
        {
          "data": {
            "application/vnd.jupyter.widget-view+json": {
              "model_id": "6b0c98109d1b48219174777da3311a84",
              "version_major": 2,
              "version_minor": 0
            },
            "text/plain": [
              "  0%|          | 0/500 [00:00<?, ?it/s]"
            ]
          },
          "metadata": {},
          "output_type": "display_data"
        },
        {
          "name": "stdout",
          "output_type": "stream",
          "text": [
            "Epoch 29: Train Loss = 78.2711, Val Loss = 22.5751\n"
          ]
        },
        {
          "data": {
            "application/vnd.jupyter.widget-view+json": {
              "model_id": "470c153763ca4d21ad4c064615eb0049",
              "version_major": 2,
              "version_minor": 0
            },
            "text/plain": [
              "  0%|          | 0/500 [00:00<?, ?it/s]"
            ]
          },
          "metadata": {},
          "output_type": "display_data"
        },
        {
          "name": "stdout",
          "output_type": "stream",
          "text": [
            "Epoch 30: Train Loss = 76.5959, Val Loss = 25.7136\n"
          ]
        }
      ],
      "source": [
        "from copy import deepcopy\n",
        "\n",
        "def train_model(model,\n",
        "                train_loader,\n",
        "                val_loader,\n",
        "                criterion,\n",
        "                optimizer,\n",
        "                epochs,\n",
        "                doEvaluate,\n",
        "                *,\n",
        "                scheduler = None,\n",
        "                verbose = True\n",
        "                ) -> None:\n",
        "    \"\"\"\n",
        "    This function tain the model and validat along the way if the parameter doEvaluate is true\n",
        "    \"\"\"\n",
        "    print(\"Training the model\") if verbose else None\n",
        "    best_model = None\n",
        "    best_loss = float(\"inf\")\n",
        "    for epoch in range(epochs):\n",
        "        model.train()\n",
        "        train_loss = 0\n",
        "        for batch in tqdm(train_loader) if verbose else train_loader:\n",
        "            input_ids = batch[\"input_ids\"].to(DEVICE)\n",
        "            labels = batch[\"labels\"].to(DEVICE)\n",
        "\n",
        "\n",
        "            optimizer.zero_grad()\n",
        "            outputs = model(input_ids)\n",
        "            loss = criterion(outputs, labels)\n",
        "            loss.backward()\n",
        "            optimizer.step()\n",
        "\n",
        "            train_loss += loss.item()\n",
        "\n",
        "        # Validation\n",
        "        if doEvaluate:\n",
        "          model.eval()\n",
        "          val_loss = 0\n",
        "          val_preds, val_labels = [], []\n",
        "          with torch.no_grad():\n",
        "            #   print (\"Validating the model\") if verbose else None\n",
        "              for batch in val_loader:\n",
        "                  input_ids = batch[\"input_ids\"].to(DEVICE)\n",
        "                  labels = batch[\"labels\"].to(DEVICE)\n",
        "\n",
        "                  outputs = model(input_ids)\n",
        "                  loss = criterion(outputs, labels)\n",
        "                  val_loss += loss.item()\n",
        "\n",
        "                  preds = torch.argmax(outputs, dim=1).cpu().numpy()\n",
        "                  val_preds.extend(preds)\n",
        "                  val_labels.extend(labels.cpu().numpy())\n",
        "\n",
        "          if val_loss < best_loss:\n",
        "              best_loss = val_loss\n",
        "              best_model = deepcopy(model)\n",
        "\n",
        "          print(f\"Epoch {epoch + 1}: Train Loss = {train_loss:.4f}, Val Loss = {val_loss:.4f}\") if verbose else None\n",
        "        else:\n",
        "          print(f\"Epoch {epoch + 1}: Train Loss = {train_loss:.4f}\") if verbose else None\n",
        "    return best_model\n",
        "\n",
        "best_model = train_model(model, train_loader, val_loader, criterion, optimizer, 30, True)"
      ]
    },
    {
      "cell_type": "code",
      "execution_count": 10,
      "metadata": {},
      "outputs": [
        {
          "name": "stdout",
          "output_type": "stream",
          "text": [
            "Validating the model\n",
            "Validation Loss = 22.5751\n"
          ]
        },
        {
          "name": "stderr",
          "output_type": "stream",
          "text": [
            "/home/qdesmettre/.local/lib/python3.10/site-packages/torch/nn/modules/rnn.py:917: UserWarning: RNN module weights are not part of single contiguous chunk of memory. This means they need to be compacted at every call, possibly greatly increasing memory usage. To compact weights again call flatten_parameters(). (Triggered internally at ../aten/src/ATen/native/cudnn/RNN.cpp:1424.)\n",
            "  result = _VF.lstm(input, hx, self._flat_weights, self.bias, self.num_layers,\n"
          ]
        }
      ],
      "source": [
        "# model = best_model\n",
        "# reevaluate the model with validation set\n",
        "val_loss = 0\n",
        "with torch.no_grad():\n",
        "    print (\"Validating the model\")\n",
        "    for batch in val_loader:\n",
        "        input_ids = batch[\"input_ids\"].to(DEVICE)\n",
        "        labels = batch[\"labels\"].to(DEVICE)\n",
        "\n",
        "        outputs = best_model(input_ids)\n",
        "        loss = criterion(outputs, labels)\n",
        "        val_loss += loss.item()\n",
        "print(f\"Validation Loss = {val_loss:.4f}\")"
      ]
    },
    {
      "cell_type": "markdown",
      "metadata": {
        "id": "9iON5tY34GL-"
      },
      "source": [
        "## Evaluation Time\n",
        "In the two next celle we are gonna evaluate the model with two differnet graphics"
      ]
    },
    {
      "cell_type": "code",
      "execution_count": null,
      "metadata": {},
      "outputs": [],
      "source": []
    },
    {
      "cell_type": "code",
      "execution_count": 11,
      "metadata": {
        "colab": {
          "base_uri": "https://localhost:8080/",
          "height": 746
        },
        "id": "7bwWA4kB38Bk",
        "outputId": "dbad3b4e-c650-4256-8b8a-c07fddbbc315"
      },
      "outputs": [
        {
          "data": {
            "application/vnd.jupyter.widget-view+json": {
              "model_id": "e6608b655c834139a8d176cbcceea82d",
              "version_major": 2,
              "version_minor": 0
            },
            "text/plain": [
              "Evaluating:   0%|          | 0/63 [00:00<?, ?it/s]"
            ]
          },
          "metadata": {},
          "output_type": "display_data"
        },
        {
          "name": "stderr",
          "output_type": "stream",
          "text": [
            "/home/qdesmettre/.local/lib/python3.10/site-packages/torch/nn/modules/rnn.py:917: UserWarning: RNN module weights are not part of single contiguous chunk of memory. This means they need to be compacted at every call, possibly greatly increasing memory usage. To compact weights again call flatten_parameters(). (Triggered internally at ../aten/src/ATen/native/cudnn/RNN.cpp:1424.)\n",
            "  result = _VF.lstm(input, hx, self._flat_weights, self.bias, self.num_layers,\n"
          ]
        },
        {
          "data": {
            "image/png": "[encoded data removed]",
            "text/plain": [
              "<Figure size 1000x600 with 1 Axes>"
            ]
          },
          "metadata": {},
          "output_type": "display_data"
        },
        {
          "data": {
            "image/png": "[encoded data removed]",
            "text/plain": [
              "<Figure size 640x480 with 2 Axes>"
            ]
          },
          "metadata": {},
          "output_type": "display_data"
        },
        {
          "data": {
            "image/png": "[encoded data removed]",
            "text/plain": [
              "<Figure size 1500x1000 with 1 Axes>"
            ]
          },
          "metadata": {},
          "output_type": "display_data"
        },
        {
          "name": "stdout",
          "output_type": "stream",
          "text": [
            "Overall Accuracy: 0.88%\n",
            "Sadness:\n",
            "  - Accuracy: 0.92\n",
            "  - Precision: 0.94\n",
            "  - Recall: 0.92\n",
            "  - F1 Score: 0.93\n",
            "\n",
            "Joy:\n",
            "  - Accuracy: 0.90\n",
            "  - Precision: 0.93\n",
            "  - Recall: 0.90\n",
            "  - F1 Score: 0.92\n",
            "\n",
            "Love:\n",
            "  - Accuracy: 0.78\n",
            "  - Precision: 0.65\n",
            "  - Recall: 0.78\n",
            "  - F1 Score: 0.71\n",
            "\n",
            "Anger:\n",
            "  - Accuracy: 0.89\n",
            "  - Precision: 0.85\n",
            "  - Recall: 0.89\n",
            "  - F1 Score: 0.87\n",
            "\n",
            "Fear:\n",
            "  - Accuracy: 0.83\n",
            "  - Precision: 0.85\n",
            "  - Recall: 0.83\n",
            "  - F1 Score: 0.84\n",
            "\n",
            "Surprise:\n",
            "  - Accuracy: 0.68\n",
            "  - Precision: 0.70\n",
            "  - Recall: 0.68\n",
            "  - F1 Score: 0.69\n",
            "\n"
          ]
        },
        {
          "data": {
            "text/plain": [
              "0.8795"
            ]
          },
          "execution_count": 11,
          "metadata": {},
          "output_type": "execute_result"
        }
      ],
      "source": [
        "from collections import defaultdict\n",
        "import matplotlib.pyplot as plt\n",
        "from sklearn.metrics import ConfusionMatrixDisplay\n",
        "\n",
        "def get_model_performance(model, data_loader, index_to_emotion, device):\n",
        "    \"\"\"\n",
        "    Evaluate the model and compute accuracy per emotion.\n",
        "\n",
        "    Args:\n",
        "        model: The trained model.\n",
        "        data_loader: DataLoader for the evaluation set.\n",
        "        index_to_emotion: A dictionary mapping label indices to emotion names.\n",
        "        device: The device to run the evaluation on.\n",
        "\n",
        "    Returns:\n",
        "        A dictionary with emotion-wise accuracy and a plot.\n",
        "    \"\"\"\n",
        "    model.eval()\n",
        "    emotion_correct = defaultdict(int)\n",
        "    emotion_total = defaultdict(int)\n",
        "    total_predictions = defaultdict(int)\n",
        "\n",
        "    false_positives = defaultdict(int)\n",
        "    false_negatives = defaultdict(int)\n",
        "\n",
        "    true_labels = []\n",
        "    predicted_labels = []\n",
        "\n",
        "    with torch.no_grad():\n",
        "        for batch in tqdm(data_loader, desc=\"Evaluating\"):\n",
        "            input_ids = batch[\"input_ids\"].to(device)\n",
        "            labels = batch[\"labels\"].to(device)\n",
        "\n",
        "            outputs = model(input_ids)\n",
        "            preds = torch.argmax(outputs, dim=1).cpu().numpy()\n",
        "            labels = labels.cpu().numpy()\n",
        "\n",
        "            # Update emotion-specific counts\n",
        "            for true_label, pred_label in zip(labels, preds):\n",
        "                true_emotion = index_to_emotion[true_label]\n",
        "                predicted_emotion = index_to_emotion[pred_label]\n",
        "                emotion_total[true_emotion] += 1\n",
        "                true_labels.append(true_emotion)\n",
        "                predicted_labels.append(predicted_emotion)\n",
        "                total_predictions[true_emotion] += 1\n",
        "                if true_emotion == predicted_emotion:\n",
        "                    emotion_correct[true_emotion] += 1\n",
        "                else:\n",
        "                    false_positives[predicted_emotion] += 1\n",
        "                    false_negatives[true_emotion] += 1\n",
        "\n",
        "     # Calculate accuracy, recall, precision and F1 score for each emotion\n",
        "    metrics = {}\n",
        "    for label in __emotions:\n",
        "        tp = emotion_correct[label]\n",
        "        fp = false_positives[label]\n",
        "        fn = false_negatives[label]\n",
        "\n",
        "        # Calculate precision\n",
        "        precision = tp / (tp + fp) if tp + fp > 0 else 0\n",
        "\n",
        "        # Calculate recall\n",
        "        recall = tp / (tp + fn) if tp + fn > 0 else 0\n",
        "\n",
        "        # Calculate F1 score\n",
        "        f1_score = 2 * (precision * recall) / (precision + recall) if precision + recall > 0 else 0\n",
        "\n",
        "        metrics[label] = {\n",
        "            \"accuracy\": emotion_correct[label] / total_predictions[label],\n",
        "            \"precision\": precision,\n",
        "            \"recall\": recall,\n",
        "            \"f1_score\": f1_score\n",
        "        }\n",
        "\n",
        "    # Calculate total accuracy\n",
        "    total_accuracy = sum(emotion_correct.values()) / sum(total_predictions.values())\n",
        "\n",
        "    return metrics, total_accuracy, true_labels, predicted_labels\n",
        "\n",
        "def evaluate_model(model, data_loader, index_to_emotion, device, title=\"Model Performance\"):\n",
        "    metrics, total_accuracy, true_labels, predicted_labels = get_model_performance(\n",
        "        model, data_loader, index_to_emotion, device\n",
        "    )\n",
        "\n",
        "    # Plot accuracy per emotion\n",
        "    plt.figure(figsize=(10, 6))\n",
        "    plt.bar(metrics.keys(), [metric[\"accuracy\"] * 100 for metric in metrics.values()])\n",
        "    plt.title(\"Accuracy per Emotion\", fontsize=16)\n",
        "    plt.xlabel(\"Emotion\", fontsize=12)\n",
        "    plt.ylabel(\"Accuracy (%)\", fontsize=12)\n",
        "    plt.xticks(rotation=90)\n",
        "    plt.ylim(0, 100)\n",
        "    plt.tight_layout()\n",
        "    plt.show()\n",
        "\n",
        "    disp = ConfusionMatrixDisplay.from_predictions(true_labels, predicted_labels, labels=__emotions, normalize=\"true\", cmap=\"Blues\")\n",
        "    # uncomment for a larger plot\n",
        "    # fig = disp.figure_\n",
        "    # fig.set_figwidth(40)\n",
        "    # fig.set_figheight(40)\n",
        "    # # disp.plot(cmap=\"Blues\")\n",
        "    # disp.im_.set_clim(0, 1)\n",
        "    # plt.title(title)\n",
        "    # plt.xticks(rotation=60)\n",
        "    # plt.show()\n",
        "\n",
        "    # Create a table of metrics\n",
        "    metrics_table = []\n",
        "    for emotion, metric in metrics.items():\n",
        "        metrics_table.append([emotion, f\"{metric['accuracy']:.2f}\", f\"{metric['precision']:.2f}\", f\"{metric['recall']:.2f}\", f\"{metric['f1_score']:.2f}\"])\n",
        "    metrics_table.append([\"Total\", f\"{total_accuracy:.2f}\", \"\", \"\", \"\"])\n",
        "    plt.figure(figsize=(15, 10))\n",
        "    plt.axis('off')\n",
        "    # plot table, adding a little height padding\n",
        "    plt.table(cellText=metrics_table, colLabels=[\"Emotion\", \"Accuracy\", \"Precision\", \"Recall\", \"F1 Score\"], cellLoc=\"center\", loc=\"center\")\n",
        "    plt.title(title, fontsize=15)\n",
        "    plt.show()\n",
        "\n",
        "    # Print the results\n",
        "    print(f\"Overall Accuracy: {total_accuracy:.2f}%\")\n",
        "    for emotion, metric in metrics.items():\n",
        "        print(f\"{emotion.capitalize()}:\")\n",
        "        print(f\"  - Accuracy: {metric['accuracy']:.2f}\")\n",
        "        print(f\"  - Precision: {metric['precision']:.2f}\")\n",
        "        print(f\"  - Recall: {metric['recall']:.2f}\")\n",
        "        print(f\"  - F1 Score: {metric['f1_score']:.2f}\")\n",
        "        print()\n",
        "\n",
        "    return total_accuracy\n",
        "\n",
        "# Evaluate the trained model\n",
        "evaluate_model(\n",
        "    model=best_model,\n",
        "    data_loader=test_loader,\n",
        "    index_to_emotion=INDEX_TO_EMOTION,\n",
        "    device=DEVICE\n",
        ")"
      ]
    },
    {
      "cell_type": "code",
      "execution_count": null,
      "metadata": {},
      "outputs": [
        {
          "name": "stdout",
          "output_type": "stream",
          "text": [
            "Total number of combinations: 648\n"
          ]
        },
        {
          "data": {
            "application/vnd.jupyter.widget-view+json": {
              "model_id": "da86e7aac9e64ac494fd05dc755a9a20",
              "version_major": 2,
              "version_minor": 0
            },
            "text/plain": [
              "Evaluating:   0%|          | 0/1 [00:00<?, ?it/s]"
            ]
          },
          "metadata": {},
          "output_type": "display_data"
        },
        {
          "name": "stdout",
          "output_type": "stream",
          "text": [
            "Accuracy: 86.25% for params: embed_dim=32, hidden_dim=32, dropout_rate=0.1, lr=0.001, wd=0, bs=32\n",
            "Time taken: 50.50s, estimated time left: 544.58min\n"
          ]
        },
        {
          "data": {
            "application/vnd.jupyter.widget-view+json": {
              "model_id": "0f5dfca1a2054247957402366cd8389a",
              "version_major": 2,
              "version_minor": 0
            },
            "text/plain": [
              "Evaluating:   0%|          | 0/1 [00:00<?, ?it/s]"
            ]
          },
          "metadata": {},
          "output_type": "display_data"
        },
        {
          "name": "stdout",
          "output_type": "stream",
          "text": [
            "Accuracy: 84.10% for params: embed_dim=32, hidden_dim=32, dropout_rate=0.1, lr=0.001, wd=0, bs=64\n",
            "Time taken: 35.54s, estimated time left: 463.21min\n"
          ]
        },
        {
          "data": {
            "application/vnd.jupyter.widget-view+json": {
              "model_id": "084347b4d5064bb0a1fc368b48c0aaed",
              "version_major": 2,
              "version_minor": 0
            },
            "text/plain": [
              "Evaluating:   0%|          | 0/1 [00:00<?, ?it/s]"
            ]
          },
          "metadata": {},
          "output_type": "display_data"
        },
        {
          "name": "stdout",
          "output_type": "stream",
          "text": [
            "Accuracy: 74.80% for params: embed_dim=32, hidden_dim=32, dropout_rate=0.1, lr=0.001, wd=0, bs=128\n",
            "Time taken: 18.15s, estimated time left: 373.37min\n"
          ]
        },
        {
          "data": {
            "application/vnd.jupyter.widget-view+json": {
              "model_id": "74ac3e4b593b4bc0b139fd390a3dd5db",
              "version_major": 2,
              "version_minor": 0
            },
            "text/plain": [
              "Evaluating:   0%|          | 0/1 [00:00<?, ?it/s]"
            ]
          },
          "metadata": {},
          "output_type": "display_data"
        },
        {
          "name": "stdout",
          "output_type": "stream",
          "text": [
            "Accuracy: 86.25% for params: embed_dim=32, hidden_dim=32, dropout_rate=0.1, lr=0.001, wd=0.01, bs=32\n",
            "Time taken: 53.74s, estimated time left: 423.80min\n"
          ]
        },
        {
          "data": {
            "application/vnd.jupyter.widget-view+json": {
              "model_id": "e73bf70bd3cf4af8a36cb5b75427f137",
              "version_major": 2,
              "version_minor": 0
            },
            "text/plain": [
              "Evaluating:   0%|          | 0/1 [00:00<?, ?it/s]"
            ]
          },
          "metadata": {},
          "output_type": "display_data"
        },
        {
          "name": "stdout",
          "output_type": "stream",
          "text": [
            "Accuracy: 82.10% for params: embed_dim=32, hidden_dim=32, dropout_rate=0.1, lr=0.001, wd=0.01, bs=64\n",
            "Time taken: 29.21s, estimated time left: 401.12min\n"
          ]
        },
        {
          "data": {
            "application/vnd.jupyter.widget-view+json": {
              "model_id": "4ef7e3f92ecf42298d7cf6ffb14a7e46",
              "version_major": 2,
              "version_minor": 0
            },
            "text/plain": [
              "Evaluating:   0%|          | 0/1 [00:00<?, ?it/s]"
            ]
          },
          "metadata": {},
          "output_type": "display_data"
        },
        {
          "name": "stdout",
          "output_type": "stream",
          "text": [
            "Accuracy: 83.30% for params: embed_dim=32, hidden_dim=32, dropout_rate=0.1, lr=0.001, wd=0.01, bs=128\n",
            "Time taken: 16.51s, estimated time left: 363.19min\n"
          ]
        },
        {
          "data": {
            "application/vnd.jupyter.widget-view+json": {
              "model_id": "9a3962e3ada74b029b4699d621bca0c9",
              "version_major": 2,
              "version_minor": 0
            },
            "text/plain": [
              "Evaluating:   0%|          | 0/1 [00:00<?, ?it/s]"
            ]
          },
          "metadata": {},
          "output_type": "display_data"
        },
        {
          "name": "stdout",
          "output_type": "stream",
          "text": [
            "Accuracy: 88.35% for params: embed_dim=32, hidden_dim=32, dropout_rate=0.1, lr=0.001, wd=0.05, bs=32\n",
            "Time taken: 56.58s, estimated time left: 397.16min\n"
          ]
        },
        {
          "data": {
            "application/vnd.jupyter.widget-view+json": {
              "model_id": "f61d121a067342248470ea41233b41d6",
              "version_major": 2,
              "version_minor": 0
            },
            "text/plain": [
              "Evaluating:   0%|          | 0/1 [00:00<?, ?it/s]"
            ]
          },
          "metadata": {},
          "output_type": "display_data"
        },
        {
          "name": "stdout",
          "output_type": "stream",
          "text": [
            "Accuracy: 82.85% for params: embed_dim=32, hidden_dim=32, dropout_rate=0.1, lr=0.001, wd=0.05, bs=64\n",
            "Time taken: 34.43s, estimated time left: 392.89min\n"
          ]
        },
        {
          "data": {
            "application/vnd.jupyter.widget-view+json": {
              "model_id": "7bff95c37bc54b96ba1ac1c534ca361e",
              "version_major": 2,
              "version_minor": 0
            },
            "text/plain": [
              "Evaluating:   0%|          | 0/1 [00:00<?, ?it/s]"
            ]
          },
          "metadata": {},
          "output_type": "display_data"
        },
        {
          "name": "stdout",
          "output_type": "stream",
          "text": [
            "Accuracy: 82.70% for params: embed_dim=32, hidden_dim=32, dropout_rate=0.1, lr=0.001, wd=0.05, bs=128\n",
            "Time taken: 20.03s, estimated time left: 372.38min\n"
          ]
        },
        {
          "data": {
            "application/vnd.jupyter.widget-view+json": {
              "model_id": "cda8ee8fc51a4f9882eb998f2fa81c7b",
              "version_major": 2,
              "version_minor": 0
            },
            "text/plain": [
              "Evaluating:   0%|          | 0/1 [00:00<?, ?it/s]"
            ]
          },
          "metadata": {},
          "output_type": "display_data"
        },
        {
          "name": "stdout",
          "output_type": "stream",
          "text": [
            "Accuracy: 85.95% for params: embed_dim=32, hidden_dim=32, dropout_rate=0.1, lr=0.001, wd=0.1, bs=32\n",
            "Time taken: 67.02s, estimated time left: 405.88min\n"
          ]
        },
        {
          "data": {
            "application/vnd.jupyter.widget-view+json": {
              "model_id": "4841609c0c1243eda19e93fb9aa7a826",
              "version_major": 2,
              "version_minor": 0
            },
            "text/plain": [
              "Evaluating:   0%|          | 0/1 [00:00<?, ?it/s]"
            ]
          },
          "metadata": {},
          "output_type": "display_data"
        },
        {
          "name": "stdout",
          "output_type": "stream",
          "text": [
            "Accuracy: 86.25% for params: embed_dim=32, hidden_dim=32, dropout_rate=0.1, lr=0.001, wd=0.1, bs=64\n",
            "Time taken: 39.00s, estimated time left: 406.05min\n"
          ]
        },
        {
          "data": {
            "application/vnd.jupyter.widget-view+json": {
              "model_id": "52a8c097919c4ffe95717248f0b63a53",
              "version_major": 2,
              "version_minor": 0
            },
            "text/plain": [
              "Evaluating:   0%|          | 0/1 [00:00<?, ?it/s]"
            ]
          },
          "metadata": {},
          "output_type": "display_data"
        },
        {
          "name": "stdout",
          "output_type": "stream",
          "text": [
            "Accuracy: 78.95% for params: embed_dim=32, hidden_dim=32, dropout_rate=0.1, lr=0.001, wd=0.1, bs=128\n",
            "Time taken: 19.95s, estimated time left: 389.26min\n"
          ]
        },
        {
          "data": {
            "application/vnd.jupyter.widget-view+json": {
              "model_id": "6ce08d14f017451583143138d2c7393a",
              "version_major": 2,
              "version_minor": 0
            },
            "text/plain": [
              "Evaluating:   0%|          | 0/1 [00:00<?, ?it/s]"
            ]
          },
          "metadata": {},
          "output_type": "display_data"
        },
        {
          "name": "stdout",
          "output_type": "stream",
          "text": [
            "Accuracy: 87.30% for params: embed_dim=32, hidden_dim=32, dropout_rate=0.1, lr=0.0007, wd=0, bs=32\n",
            "Time taken: 66.75s, estimated time left: 413.09min\n"
          ]
        },
        {
          "data": {
            "application/vnd.jupyter.widget-view+json": {
              "model_id": "d75a90691c7b4f1ab482d9a5be10e5eb",
              "version_major": 2,
              "version_minor": 0
            },
            "text/plain": [
              "Evaluating:   0%|          | 0/1 [00:00<?, ?it/s]"
            ]
          },
          "metadata": {},
          "output_type": "display_data"
        },
        {
          "name": "stdout",
          "output_type": "stream",
          "text": [
            "Accuracy: 81.55% for params: embed_dim=32, hidden_dim=32, dropout_rate=0.1, lr=0.0007, wd=0, bs=64\n",
            "Time taken: 35.41s, estimated time left: 409.71min\n"
          ]
        },
        {
          "data": {
            "application/vnd.jupyter.widget-view+json": {
              "model_id": "dbc5f29a66dc4b9d8043e1ae1e3eec4e",
              "version_major": 2,
              "version_minor": 0
            },
            "text/plain": [
              "Evaluating:   0%|          | 0/1 [00:00<?, ?it/s]"
            ]
          },
          "metadata": {},
          "output_type": "display_data"
        },
        {
          "name": "stdout",
          "output_type": "stream",
          "text": [
            "Accuracy: 50.80% for params: embed_dim=32, hidden_dim=32, dropout_rate=0.1, lr=0.0007, wd=0, bs=128\n",
            "Time taken: 22.11s, estimated time left: 397.34min\n"
          ]
        },
        {
          "data": {
            "application/vnd.jupyter.widget-view+json": {
              "model_id": "9268a2aa82f747ce9895231fcc773929",
              "version_major": 2,
              "version_minor": 0
            },
            "text/plain": [
              "Evaluating:   0%|          | 0/1 [00:00<?, ?it/s]"
            ]
          },
          "metadata": {},
          "output_type": "display_data"
        },
        {
          "name": "stdout",
          "output_type": "stream",
          "text": [
            "Accuracy: 83.50% for params: embed_dim=32, hidden_dim=32, dropout_rate=0.1, lr=0.0007, wd=0.01, bs=32\n",
            "Time taken: 66.46s, estimated time left: 415.67min\n"
          ]
        },
        {
          "data": {
            "application/vnd.jupyter.widget-view+json": {
              "model_id": "5f0f028e3d6e4d708b1985caf8d94bbf",
              "version_major": 2,
              "version_minor": 0
            },
            "text/plain": [
              "Evaluating:   0%|          | 0/1 [00:00<?, ?it/s]"
            ]
          },
          "metadata": {},
          "output_type": "display_data"
        },
        {
          "name": "stdout",
          "output_type": "stream",
          "text": [
            "Accuracy: 75.15% for params: embed_dim=32, hidden_dim=32, dropout_rate=0.1, lr=0.0007, wd=0.01, bs=64\n",
            "Time taken: 37.83s, estimated time left: 414.00min\n"
          ]
        },
        {
          "data": {
            "application/vnd.jupyter.widget-view+json": {
              "model_id": "7ce0446dcab64ced86e46ff799edf039",
              "version_major": 2,
              "version_minor": 0
            },
            "text/plain": [
              "Evaluating:   0%|          | 0/1 [00:00<?, ?it/s]"
            ]
          },
          "metadata": {},
          "output_type": "display_data"
        },
        {
          "name": "stdout",
          "output_type": "stream",
          "text": [
            "Accuracy: 68.40% for params: embed_dim=32, hidden_dim=32, dropout_rate=0.1, lr=0.0007, wd=0.01, bs=128\n",
            "Time taken: 20.63s, estimated time left: 402.41min\n"
          ]
        },
        {
          "data": {
            "application/vnd.jupyter.widget-view+json": {
              "model_id": "b7784e280c10448084c0823c609dcc2a",
              "version_major": 2,
              "version_minor": 0
            },
            "text/plain": [
              "Evaluating:   0%|          | 0/1 [00:00<?, ?it/s]"
            ]
          },
          "metadata": {},
          "output_type": "display_data"
        },
        {
          "name": "stdout",
          "output_type": "stream",
          "text": [
            "Accuracy: 79.85% for params: embed_dim=32, hidden_dim=32, dropout_rate=0.1, lr=0.0007, wd=0.05, bs=32\n",
            "Time taken: 67.34s, estimated time left: 417.78min\n"
          ]
        },
        {
          "data": {
            "application/vnd.jupyter.widget-view+json": {
              "model_id": "fdd80e78469b4c3181db09e3c7749836",
              "version_major": 2,
              "version_minor": 0
            },
            "text/plain": [
              "Evaluating:   0%|          | 0/1 [00:00<?, ?it/s]"
            ]
          },
          "metadata": {},
          "output_type": "display_data"
        },
        {
          "name": "stdout",
          "output_type": "stream",
          "text": [
            "Accuracy: 82.90% for params: embed_dim=32, hidden_dim=32, dropout_rate=0.1, lr=0.0007, wd=0.05, bs=64\n",
            "Time taken: 39.26s, estimated time left: 416.81min\n"
          ]
        },
        {
          "data": {
            "application/vnd.jupyter.widget-view+json": {
              "model_id": "5aef7e69d7474451aed41194f1d92a76",
              "version_major": 2,
              "version_minor": 0
            },
            "text/plain": [
              "Evaluating:   0%|          | 0/1 [00:00<?, ?it/s]"
            ]
          },
          "metadata": {},
          "output_type": "display_data"
        },
        {
          "name": "stdout",
          "output_type": "stream",
          "text": [
            "Accuracy: 71.60% for params: embed_dim=32, hidden_dim=32, dropout_rate=0.1, lr=0.0007, wd=0.05, bs=128\n",
            "Time taken: 22.04s, estimated time left: 407.29min\n"
          ]
        },
        {
          "data": {
            "application/vnd.jupyter.widget-view+json": {
              "model_id": "a4ee1b126b88449580e2bbc77d0e7a29",
              "version_major": 2,
              "version_minor": 0
            },
            "text/plain": [
              "Evaluating:   0%|          | 0/1 [00:00<?, ?it/s]"
            ]
          },
          "metadata": {},
          "output_type": "display_data"
        },
        {
          "name": "stdout",
          "output_type": "stream",
          "text": [
            "Accuracy: 83.85% for params: embed_dim=32, hidden_dim=32, dropout_rate=0.1, lr=0.0007, wd=0.1, bs=32\n",
            "Time taken: 63.46s, estimated time left: 418.25min\n"
          ]
        },
        {
          "data": {
            "application/vnd.jupyter.widget-view+json": {
              "model_id": "c3ecee290dd1436a838b95cc1611bcb4",
              "version_major": 2,
              "version_minor": 0
            },
            "text/plain": [
              "Evaluating:   0%|          | 0/1 [00:00<?, ?it/s]"
            ]
          },
          "metadata": {},
          "output_type": "display_data"
        },
        {
          "name": "stdout",
          "output_type": "stream",
          "text": [
            "Accuracy: 83.50% for params: embed_dim=32, hidden_dim=32, dropout_rate=0.1, lr=0.0007, wd=0.1, bs=64\n",
            "Time taken: 36.16s, estimated time left: 415.81min\n"
          ]
        },
        {
          "data": {
            "application/vnd.jupyter.widget-view+json": {
              "model_id": "8ac1d23c1f15476d861ab98ec3d80b38",
              "version_major": 2,
              "version_minor": 0
            },
            "text/plain": [
              "Evaluating:   0%|          | 0/1 [00:00<?, ?it/s]"
            ]
          },
          "metadata": {},
          "output_type": "display_data"
        },
        {
          "name": "stdout",
          "output_type": "stream",
          "text": [
            "Accuracy: 50.35% for params: embed_dim=32, hidden_dim=32, dropout_rate=0.1, lr=0.0007, wd=0.1, bs=128\n",
            "Time taken: 20.24s, estimated time left: 406.62min\n"
          ]
        },
        {
          "data": {
            "application/vnd.jupyter.widget-view+json": {
              "model_id": "9d3bff636f5f494e8b84af41c1ddc933",
              "version_major": 2,
              "version_minor": 0
            },
            "text/plain": [
              "Evaluating:   0%|          | 0/1 [00:00<?, ?it/s]"
            ]
          },
          "metadata": {},
          "output_type": "display_data"
        },
        {
          "name": "stdout",
          "output_type": "stream",
          "text": [
            "Accuracy: 78.15% for params: embed_dim=32, hidden_dim=32, dropout_rate=0.1, lr=0.0005, wd=0, bs=32\n",
            "Time taken: 62.34s, estimated time left: 415.62min\n"
          ]
        },
        {
          "data": {
            "application/vnd.jupyter.widget-view+json": {
              "model_id": "199cafb5985d4d54a8bf0b292d5dd126",
              "version_major": 2,
              "version_minor": 0
            },
            "text/plain": [
              "Evaluating:   0%|          | 0/1 [00:00<?, ?it/s]"
            ]
          },
          "metadata": {},
          "output_type": "display_data"
        },
        {
          "name": "stdout",
          "output_type": "stream",
          "text": [
            "Accuracy: 71.45% for params: embed_dim=32, hidden_dim=32, dropout_rate=0.1, lr=0.0005, wd=0, bs=64\n",
            "Time taken: 34.41s, estimated time left: 412.71min\n"
          ]
        },
        {
          "data": {
            "application/vnd.jupyter.widget-view+json": {
              "model_id": "1f2949a45d174c7c83f1f4f795565c1d",
              "version_major": 2,
              "version_minor": 0
            },
            "text/plain": [
              "Evaluating:   0%|          | 0/1 [00:00<?, ?it/s]"
            ]
          },
          "metadata": {},
          "output_type": "display_data"
        },
        {
          "name": "stdout",
          "output_type": "stream",
          "text": [
            "Accuracy: 70.85% for params: embed_dim=32, hidden_dim=32, dropout_rate=0.1, lr=0.0005, wd=0, bs=128\n",
            "Time taken: 18.66s, estimated time left: 403.94min\n"
          ]
        },
        {
          "data": {
            "application/vnd.jupyter.widget-view+json": {
              "model_id": "57c6968f54cb4370a2374937593e2070",
              "version_major": 2,
              "version_minor": 0
            },
            "text/plain": [
              "Evaluating:   0%|          | 0/1 [00:00<?, ?it/s]"
            ]
          },
          "metadata": {},
          "output_type": "display_data"
        },
        {
          "name": "stdout",
          "output_type": "stream",
          "text": [
            "Accuracy: 76.20% for params: embed_dim=32, hidden_dim=32, dropout_rate=0.1, lr=0.0005, wd=0.01, bs=32\n",
            "Time taken: 60.26s, estimated time left: 411.12min\n"
          ]
        },
        {
          "data": {
            "application/vnd.jupyter.widget-view+json": {
              "model_id": "e7e01829eb1744028bc76ba7e5e865a4",
              "version_major": 2,
              "version_minor": 0
            },
            "text/plain": [
              "Evaluating:   0%|          | 0/1 [00:00<?, ?it/s]"
            ]
          },
          "metadata": {},
          "output_type": "display_data"
        },
        {
          "name": "stdout",
          "output_type": "stream",
          "text": [
            "Accuracy: 72.30% for params: embed_dim=32, hidden_dim=32, dropout_rate=0.1, lr=0.0005, wd=0.01, bs=64\n",
            "Time taken: 34.81s, estimated time left: 408.69min\n"
          ]
        },
        {
          "data": {
            "application/vnd.jupyter.widget-view+json": {
              "model_id": "2eb10ee1a01742329002cfce81012adb",
              "version_major": 2,
              "version_minor": 0
            },
            "text/plain": [
              "Evaluating:   0%|          | 0/1 [00:00<?, ?it/s]"
            ]
          },
          "metadata": {},
          "output_type": "display_data"
        },
        {
          "name": "stdout",
          "output_type": "stream",
          "text": [
            "Accuracy: 46.50% for params: embed_dim=32, hidden_dim=32, dropout_rate=0.1, lr=0.0005, wd=0.01, bs=128\n",
            "Time taken: 16.77s, estimated time left: 400.19min\n"
          ]
        },
        {
          "data": {
            "application/vnd.jupyter.widget-view+json": {
              "model_id": "32ab2ce6029d4fb681eabb3d6573a37c",
              "version_major": 2,
              "version_minor": 0
            },
            "text/plain": [
              "Evaluating:   0%|          | 0/1 [00:00<?, ?it/s]"
            ]
          },
          "metadata": {},
          "output_type": "display_data"
        },
        {
          "name": "stdout",
          "output_type": "stream",
          "text": [
            "Accuracy: 83.10% for params: embed_dim=32, hidden_dim=32, dropout_rate=0.1, lr=0.0005, wd=0.05, bs=32\n",
            "Time taken: 57.68s, estimated time left: 405.78min\n"
          ]
        },
        {
          "data": {
            "application/vnd.jupyter.widget-view+json": {
              "model_id": "5e0a11bec18d42d4a3a06843ff364b9e",
              "version_major": 2,
              "version_minor": 0
            },
            "text/plain": [
              "Evaluating:   0%|          | 0/1 [00:00<?, ?it/s]"
            ]
          },
          "metadata": {},
          "output_type": "display_data"
        },
        {
          "name": "stdout",
          "output_type": "stream",
          "text": [
            "Accuracy: 75.40% for params: embed_dim=32, hidden_dim=32, dropout_rate=0.1, lr=0.0005, wd=0.05, bs=64\n",
            "Time taken: 33.12s, estimated time left: 403.09min\n"
          ]
        },
        {
          "data": {
            "application/vnd.jupyter.widget-view+json": {
              "model_id": "78554df651534b899ba95dd8a4fc6db8",
              "version_major": 2,
              "version_minor": 0
            },
            "text/plain": [
              "Evaluating:   0%|          | 0/1 [00:00<?, ?it/s]"
            ]
          },
          "metadata": {},
          "output_type": "display_data"
        },
        {
          "name": "stdout",
          "output_type": "stream",
          "text": [
            "Accuracy: 61.85% for params: embed_dim=32, hidden_dim=32, dropout_rate=0.1, lr=0.0005, wd=0.05, bs=128\n",
            "Time taken: 19.35s, estimated time left: 396.25min\n"
          ]
        },
        {
          "data": {
            "application/vnd.jupyter.widget-view+json": {
              "model_id": "0d4acf5f826049058fd727c0fcbaaa33",
              "version_major": 2,
              "version_minor": 0
            },
            "text/plain": [
              "Evaluating:   0%|          | 0/1 [00:00<?, ?it/s]"
            ]
          },
          "metadata": {},
          "output_type": "display_data"
        },
        {
          "name": "stdout",
          "output_type": "stream",
          "text": [
            "Accuracy: 80.40% for params: embed_dim=32, hidden_dim=32, dropout_rate=0.1, lr=0.0005, wd=0.1, bs=32\n",
            "Time taken: 61.57s, estimated time left: 402.50min\n"
          ]
        },
        {
          "data": {
            "application/vnd.jupyter.widget-view+json": {
              "model_id": "08e40f2086e84ce696d5f738be1ca9b5",
              "version_major": 2,
              "version_minor": 0
            },
            "text/plain": [
              "Evaluating:   0%|          | 0/1 [00:00<?, ?it/s]"
            ]
          },
          "metadata": {},
          "output_type": "display_data"
        },
        {
          "name": "stdout",
          "output_type": "stream",
          "text": [
            "Accuracy: 71.80% for params: embed_dim=32, hidden_dim=32, dropout_rate=0.1, lr=0.0005, wd=0.1, bs=64\n",
            "Time taken: 31.55s, estimated time left: 399.58min\n"
          ]
        },
        {
          "data": {
            "application/vnd.jupyter.widget-view+json": {
              "model_id": "2b47c5dc86404c7b9f2657659d88c00f",
              "version_major": 2,
              "version_minor": 0
            },
            "text/plain": [
              "Evaluating:   0%|          | 0/1 [00:00<?, ?it/s]"
            ]
          },
          "metadata": {},
          "output_type": "display_data"
        },
        {
          "name": "stdout",
          "output_type": "stream",
          "text": [
            "Accuracy: 69.60% for params: embed_dim=32, hidden_dim=32, dropout_rate=0.1, lr=0.0005, wd=0.1, bs=128\n",
            "Time taken: 19.73s, estimated time left: 393.44min\n"
          ]
        },
        {
          "data": {
            "application/vnd.jupyter.widget-view+json": {
              "model_id": "6261c262b56b4908b64e982603a933b8",
              "version_major": 2,
              "version_minor": 0
            },
            "text/plain": [
              "Evaluating:   0%|          | 0/1 [00:00<?, ?it/s]"
            ]
          },
          "metadata": {},
          "output_type": "display_data"
        },
        {
          "name": "stdout",
          "output_type": "stream",
          "text": [
            "Accuracy: 87.70% for params: embed_dim=32, hidden_dim=32, dropout_rate=0.2, lr=0.001, wd=0, bs=32\n",
            "Time taken: 65.13s, estimated time left: 400.10min\n"
          ]
        },
        {
          "data": {
            "application/vnd.jupyter.widget-view+json": {
              "model_id": "124c6da6bb234532beda1622054801a7",
              "version_major": 2,
              "version_minor": 0
            },
            "text/plain": [
              "Evaluating:   0%|          | 0/1 [00:00<?, ?it/s]"
            ]
          },
          "metadata": {},
          "output_type": "display_data"
        },
        {
          "name": "stdout",
          "output_type": "stream",
          "text": [
            "Accuracy: 85.70% for params: embed_dim=32, hidden_dim=32, dropout_rate=0.2, lr=0.001, wd=0, bs=64\n",
            "Time taken: 29.86s, estimated time left: 396.92min\n"
          ]
        },
        {
          "data": {
            "application/vnd.jupyter.widget-view+json": {
              "model_id": "43781439963740379bc5c6c5d38ae9c9",
              "version_major": 2,
              "version_minor": 0
            },
            "text/plain": [
              "Evaluating:   0%|          | 0/1 [00:00<?, ?it/s]"
            ]
          },
          "metadata": {},
          "output_type": "display_data"
        },
        {
          "name": "stdout",
          "output_type": "stream",
          "text": [
            "Accuracy: 80.45% for params: embed_dim=32, hidden_dim=32, dropout_rate=0.2, lr=0.001, wd=0, bs=128\n",
            "Time taken: 16.19s, estimated time left: 390.33min\n"
          ]
        },
        {
          "data": {
            "application/vnd.jupyter.widget-view+json": {
              "model_id": "7eca9f3111ff461986b0fc344cc43c45",
              "version_major": 2,
              "version_minor": 0
            },
            "text/plain": [
              "Evaluating:   0%|          | 0/1 [00:00<?, ?it/s]"
            ]
          },
          "metadata": {},
          "output_type": "display_data"
        },
        {
          "name": "stdout",
          "output_type": "stream",
          "text": [
            "Accuracy: 77.50% for params: embed_dim=32, hidden_dim=32, dropout_rate=0.2, lr=0.001, wd=0.01, bs=32\n",
            "Time taken: 56.96s, estimated time left: 394.37min\n"
          ]
        },
        {
          "data": {
            "application/vnd.jupyter.widget-view+json": {
              "model_id": "04b7588bbce44ae9b5813baeb4df2a29",
              "version_major": 2,
              "version_minor": 0
            },
            "text/plain": [
              "Evaluating:   0%|          | 0/1 [00:00<?, ?it/s]"
            ]
          },
          "metadata": {},
          "output_type": "display_data"
        },
        {
          "name": "stdout",
          "output_type": "stream",
          "text": [
            "Accuracy: 87.65% for params: embed_dim=32, hidden_dim=32, dropout_rate=0.2, lr=0.001, wd=0.01, bs=64\n",
            "Time taken: 33.84s, estimated time left: 392.47min\n"
          ]
        },
        {
          "data": {
            "application/vnd.jupyter.widget-view+json": {
              "model_id": "d20f82221c8844ad9cff91bb2f82b940",
              "version_major": 2,
              "version_minor": 0
            },
            "text/plain": [
              "Evaluating:   0%|          | 0/1 [00:00<?, ?it/s]"
            ]
          },
          "metadata": {},
          "output_type": "display_data"
        },
        {
          "name": "stdout",
          "output_type": "stream",
          "text": [
            "Accuracy: 83.60% for params: embed_dim=32, hidden_dim=32, dropout_rate=0.2, lr=0.001, wd=0.01, bs=128\n",
            "Time taken: 20.92s, estimated time left: 387.53min\n"
          ]
        },
        {
          "data": {
            "application/vnd.jupyter.widget-view+json": {
              "model_id": "cd11a508d9ab43e48f46fb3ec4bc3dea",
              "version_major": 2,
              "version_minor": 0
            },
            "text/plain": [
              "Evaluating:   0%|          | 0/1 [00:00<?, ?it/s]"
            ]
          },
          "metadata": {},
          "output_type": "display_data"
        },
        {
          "name": "stdout",
          "output_type": "stream",
          "text": [
            "Accuracy: 88.25% for params: embed_dim=32, hidden_dim=32, dropout_rate=0.2, lr=0.001, wd=0.05, bs=32\n",
            "Time taken: 54.50s, estimated time left: 390.67min\n"
          ]
        },
        {
          "data": {
            "application/vnd.jupyter.widget-view+json": {
              "model_id": "0d93874923f4401a8d2056329685721f",
              "version_major": 2,
              "version_minor": 0
            },
            "text/plain": [
              "Evaluating:   0%|          | 0/1 [00:00<?, ?it/s]"
            ]
          },
          "metadata": {},
          "output_type": "display_data"
        },
        {
          "name": "stdout",
          "output_type": "stream",
          "text": [
            "Accuracy: 87.65% for params: embed_dim=32, hidden_dim=32, dropout_rate=0.2, lr=0.001, wd=0.05, bs=64\n",
            "Time taken: 29.51s, estimated time left: 387.91min\n"
          ]
        },
        {
          "data": {
            "application/vnd.jupyter.widget-view+json": {
              "model_id": "b1d6b03a616e4dbfbb1b8289ccb5e7d0",
              "version_major": 2,
              "version_minor": 0
            },
            "text/plain": [
              "Evaluating:   0%|          | 0/1 [00:00<?, ?it/s]"
            ]
          },
          "metadata": {},
          "output_type": "display_data"
        },
        {
          "name": "stdout",
          "output_type": "stream",
          "text": [
            "Accuracy: 85.20% for params: embed_dim=32, hidden_dim=32, dropout_rate=0.2, lr=0.001, wd=0.05, bs=128\n",
            "Time taken: 19.60s, estimated time left: 383.04min\n"
          ]
        },
        {
          "data": {
            "application/vnd.jupyter.widget-view+json": {
              "model_id": "af2266c7d5d74198981db37c58af57c6",
              "version_major": 2,
              "version_minor": 0
            },
            "text/plain": [
              "Evaluating:   0%|          | 0/1 [00:00<?, ?it/s]"
            ]
          },
          "metadata": {},
          "output_type": "display_data"
        },
        {
          "name": "stdout",
          "output_type": "stream",
          "text": [
            "Accuracy: 89.55% for params: embed_dim=32, hidden_dim=32, dropout_rate=0.2, lr=0.001, wd=0.1, bs=32\n",
            "Time taken: 64.50s, estimated time left: 388.16min\n"
          ]
        },
        {
          "data": {
            "application/vnd.jupyter.widget-view+json": {
              "model_id": "b6936fc21959483592cb973ac46d5940",
              "version_major": 2,
              "version_minor": 0
            },
            "text/plain": [
              "Evaluating:   0%|          | 0/1 [00:00<?, ?it/s]"
            ]
          },
          "metadata": {},
          "output_type": "display_data"
        },
        {
          "name": "stdout",
          "output_type": "stream",
          "text": [
            "Accuracy: 85.90% for params: embed_dim=32, hidden_dim=32, dropout_rate=0.2, lr=0.001, wd=0.1, bs=64\n",
            "Time taken: 34.81s, estimated time left: 386.69min\n"
          ]
        },
        {
          "data": {
            "application/vnd.jupyter.widget-view+json": {
              "model_id": "55c2072d8b6e46e1adc87aba1592fe37",
              "version_major": 2,
              "version_minor": 0
            },
            "text/plain": [
              "Evaluating:   0%|          | 0/1 [00:00<?, ?it/s]"
            ]
          },
          "metadata": {},
          "output_type": "display_data"
        },
        {
          "name": "stdout",
          "output_type": "stream",
          "text": [
            "Accuracy: 81.55% for params: embed_dim=32, hidden_dim=32, dropout_rate=0.2, lr=0.001, wd=0.1, bs=128\n",
            "Time taken: 19.55s, estimated time left: 382.08min\n"
          ]
        },
        {
          "data": {
            "application/vnd.jupyter.widget-view+json": {
              "model_id": "80d30c7b182846c58d19e15de6756fc6",
              "version_major": 2,
              "version_minor": 0
            },
            "text/plain": [
              "Evaluating:   0%|          | 0/1 [00:00<?, ?it/s]"
            ]
          },
          "metadata": {},
          "output_type": "display_data"
        },
        {
          "name": "stdout",
          "output_type": "stream",
          "text": [
            "Accuracy: 83.30% for params: embed_dim=32, hidden_dim=32, dropout_rate=0.2, lr=0.0007, wd=0, bs=32\n",
            "Time taken: 60.71s, estimated time left: 386.02min\n"
          ]
        },
        {
          "data": {
            "application/vnd.jupyter.widget-view+json": {
              "model_id": "736b1b3cd37441788f614d6f2958a5b4",
              "version_major": 2,
              "version_minor": 0
            },
            "text/plain": [
              "Evaluating:   0%|          | 0/1 [00:00<?, ?it/s]"
            ]
          },
          "metadata": {},
          "output_type": "display_data"
        },
        {
          "name": "stdout",
          "output_type": "stream",
          "text": [
            "Accuracy: 62.20% for params: embed_dim=32, hidden_dim=32, dropout_rate=0.2, lr=0.0007, wd=0, bs=64\n",
            "Time taken: 33.44s, estimated time left: 384.34min\n"
          ]
        },
        {
          "data": {
            "application/vnd.jupyter.widget-view+json": {
              "model_id": "afbb7485d4ed4c8594a0a0b3e6a18d1c",
              "version_major": 2,
              "version_minor": 0
            },
            "text/plain": [
              "Evaluating:   0%|          | 0/1 [00:00<?, ?it/s]"
            ]
          },
          "metadata": {},
          "output_type": "display_data"
        },
        {
          "name": "stdout",
          "output_type": "stream",
          "text": [
            "Accuracy: 76.60% for params: embed_dim=32, hidden_dim=32, dropout_rate=0.2, lr=0.0007, wd=0, bs=128\n",
            "Time taken: 18.85s, estimated time left: 379.85min\n"
          ]
        },
        {
          "data": {
            "application/vnd.jupyter.widget-view+json": {
              "model_id": "48c0c6984e5e46f5ab56c26b24548e95",
              "version_major": 2,
              "version_minor": 0
            },
            "text/plain": [
              "Evaluating:   0%|          | 0/1 [00:00<?, ?it/s]"
            ]
          },
          "metadata": {},
          "output_type": "display_data"
        },
        {
          "name": "stdout",
          "output_type": "stream",
          "text": [
            "Accuracy: 81.70% for params: embed_dim=32, hidden_dim=32, dropout_rate=0.2, lr=0.0007, wd=0.01, bs=32\n",
            "Time taken: 59.78s, estimated time left: 383.34min\n"
          ]
        },
        {
          "data": {
            "application/vnd.jupyter.widget-view+json": {
              "model_id": "82c4e6de6ba24b028f35f40720368016",
              "version_major": 2,
              "version_minor": 0
            },
            "text/plain": [
              "Evaluating:   0%|          | 0/1 [00:00<?, ?it/s]"
            ]
          },
          "metadata": {},
          "output_type": "display_data"
        },
        {
          "name": "stdout",
          "output_type": "stream",
          "text": [
            "Accuracy: 76.55% for params: embed_dim=32, hidden_dim=32, dropout_rate=0.2, lr=0.0007, wd=0.01, bs=64\n",
            "Time taken: 33.24s, estimated time left: 381.69min\n"
          ]
        },
        {
          "data": {
            "application/vnd.jupyter.widget-view+json": {
              "model_id": "d6b76c7fc9474260a6c75cb92be0c25b",
              "version_major": 2,
              "version_minor": 0
            },
            "text/plain": [
              "Evaluating:   0%|          | 0/1 [00:00<?, ?it/s]"
            ]
          },
          "metadata": {},
          "output_type": "display_data"
        },
        {
          "name": "stdout",
          "output_type": "stream",
          "text": [
            "Accuracy: 69.65% for params: embed_dim=32, hidden_dim=32, dropout_rate=0.2, lr=0.0007, wd=0.01, bs=128\n",
            "Time taken: 19.13s, estimated time left: 377.50min\n"
          ]
        },
        {
          "data": {
            "application/vnd.jupyter.widget-view+json": {
              "model_id": "e9440060467b445c8886d05c664d5574",
              "version_major": 2,
              "version_minor": 0
            },
            "text/plain": [
              "Evaluating:   0%|          | 0/1 [00:00<?, ?it/s]"
            ]
          },
          "metadata": {},
          "output_type": "display_data"
        },
        {
          "name": "stdout",
          "output_type": "stream",
          "text": [
            "Accuracy: 85.45% for params: embed_dim=32, hidden_dim=32, dropout_rate=0.2, lr=0.0007, wd=0.05, bs=32\n",
            "Time taken: 61.16s, estimated time left: 381.01min\n"
          ]
        },
        {
          "data": {
            "application/vnd.jupyter.widget-view+json": {
              "model_id": "54a86e9eb3f84ab6a26563ef84b02cdc",
              "version_major": 2,
              "version_minor": 0
            },
            "text/plain": [
              "Evaluating:   0%|          | 0/1 [00:00<?, ?it/s]"
            ]
          },
          "metadata": {},
          "output_type": "display_data"
        },
        {
          "name": "stdout",
          "output_type": "stream",
          "text": [
            "Accuracy: 83.20% for params: embed_dim=32, hidden_dim=32, dropout_rate=0.2, lr=0.0007, wd=0.05, bs=64\n",
            "Time taken: 34.18s, estimated time left: 379.59min\n"
          ]
        },
        {
          "data": {
            "application/vnd.jupyter.widget-view+json": {
              "model_id": "45f13b12a87940efa6be226df5b9a51a",
              "version_major": 2,
              "version_minor": 0
            },
            "text/plain": [
              "Evaluating:   0%|          | 0/1 [00:00<?, ?it/s]"
            ]
          },
          "metadata": {},
          "output_type": "display_data"
        },
        {
          "name": "stdout",
          "output_type": "stream",
          "text": [
            "Accuracy: 80.25% for params: embed_dim=32, hidden_dim=32, dropout_rate=0.2, lr=0.0007, wd=0.05, bs=128\n",
            "Time taken: 19.25s, estimated time left: 375.63min\n"
          ]
        },
        {
          "data": {
            "application/vnd.jupyter.widget-view+json": {
              "model_id": "2854263c9ca74c028f67253ab1dc1f1c",
              "version_major": 2,
              "version_minor": 0
            },
            "text/plain": [
              "Evaluating:   0%|          | 0/1 [00:00<?, ?it/s]"
            ]
          },
          "metadata": {},
          "output_type": "display_data"
        },
        {
          "name": "stdout",
          "output_type": "stream",
          "text": [
            "Accuracy: 84.25% for params: embed_dim=32, hidden_dim=32, dropout_rate=0.2, lr=0.0007, wd=0.1, bs=32\n",
            "Time taken: 60.39s, estimated time left: 378.77min\n"
          ]
        },
        {
          "data": {
            "application/vnd.jupyter.widget-view+json": {
              "model_id": "59075ed593224f5d80a8ca4f6b3100df",
              "version_major": 2,
              "version_minor": 0
            },
            "text/plain": [
              "Evaluating:   0%|          | 0/1 [00:00<?, ?it/s]"
            ]
          },
          "metadata": {},
          "output_type": "display_data"
        },
        {
          "name": "stdout",
          "output_type": "stream",
          "text": [
            "Accuracy: 83.20% for params: embed_dim=32, hidden_dim=32, dropout_rate=0.2, lr=0.0007, wd=0.1, bs=64\n",
            "Time taken: 32.90s, estimated time left: 377.19min\n"
          ]
        },
        {
          "data": {
            "application/vnd.jupyter.widget-view+json": {
              "model_id": "fc08aec9bf534ccf989704ba60363312",
              "version_major": 2,
              "version_minor": 0
            },
            "text/plain": [
              "Evaluating:   0%|          | 0/1 [00:00<?, ?it/s]"
            ]
          },
          "metadata": {},
          "output_type": "display_data"
        },
        {
          "name": "stdout",
          "output_type": "stream",
          "text": [
            "Accuracy: 73.40% for params: embed_dim=32, hidden_dim=32, dropout_rate=0.2, lr=0.0007, wd=0.1, bs=128\n",
            "Time taken: 18.84s, estimated time left: 373.35min\n"
          ]
        },
        {
          "data": {
            "application/vnd.jupyter.widget-view+json": {
              "model_id": "01761e5331f04c70b1133d1d4cc2fedd",
              "version_major": 2,
              "version_minor": 0
            },
            "text/plain": [
              "Evaluating:   0%|          | 0/1 [00:00<?, ?it/s]"
            ]
          },
          "metadata": {},
          "output_type": "display_data"
        },
        {
          "name": "stdout",
          "output_type": "stream",
          "text": [
            "Accuracy: 79.10% for params: embed_dim=32, hidden_dim=32, dropout_rate=0.2, lr=0.0005, wd=0, bs=32\n",
            "Time taken: 60.16s, estimated time left: 376.26min\n"
          ]
        },
        {
          "data": {
            "application/vnd.jupyter.widget-view+json": {
              "model_id": "d299e36042ec424d9ae403baaa7fcfaa",
              "version_major": 2,
              "version_minor": 0
            },
            "text/plain": [
              "Evaluating:   0%|          | 0/1 [00:00<?, ?it/s]"
            ]
          },
          "metadata": {},
          "output_type": "display_data"
        },
        {
          "name": "stdout",
          "output_type": "stream",
          "text": [
            "Accuracy: 53.90% for params: embed_dim=32, hidden_dim=32, dropout_rate=0.2, lr=0.0005, wd=0, bs=64\n",
            "Time taken: 33.31s, estimated time left: 374.80min\n"
          ]
        },
        {
          "data": {
            "application/vnd.jupyter.widget-view+json": {
              "model_id": "66c30988798644fbb897cdbfce4fce2c",
              "version_major": 2,
              "version_minor": 0
            },
            "text/plain": [
              "Evaluating:   0%|          | 0/1 [00:00<?, ?it/s]"
            ]
          },
          "metadata": {},
          "output_type": "display_data"
        },
        {
          "name": "stdout",
          "output_type": "stream",
          "text": [
            "Accuracy: 65.80% for params: embed_dim=32, hidden_dim=32, dropout_rate=0.2, lr=0.0005, wd=0, bs=128\n",
            "Time taken: 18.35s, estimated time left: 371.07min\n"
          ]
        },
        {
          "data": {
            "application/vnd.jupyter.widget-view+json": {
              "model_id": "17923b4e316b447a8f17810692fcb7ce",
              "version_major": 2,
              "version_minor": 0
            },
            "text/plain": [
              "Evaluating:   0%|          | 0/1 [00:00<?, ?it/s]"
            ]
          },
          "metadata": {},
          "output_type": "display_data"
        },
        {
          "name": "stdout",
          "output_type": "stream",
          "text": [
            "Accuracy: 60.70% for params: embed_dim=32, hidden_dim=32, dropout_rate=0.2, lr=0.0005, wd=0.01, bs=32\n",
            "Time taken: 58.50s, estimated time left: 373.54min\n"
          ]
        },
        {
          "data": {
            "application/vnd.jupyter.widget-view+json": {
              "model_id": "75eadb22e0354efe8f14fd4a187eb172",
              "version_major": 2,
              "version_minor": 0
            },
            "text/plain": [
              "Evaluating:   0%|          | 0/1 [00:00<?, ?it/s]"
            ]
          },
          "metadata": {},
          "output_type": "display_data"
        },
        {
          "name": "stdout",
          "output_type": "stream",
          "text": [
            "Accuracy: 56.20% for params: embed_dim=32, hidden_dim=32, dropout_rate=0.2, lr=0.0005, wd=0.01, bs=64\n",
            "Time taken: 32.25s, estimated time left: 371.98min\n"
          ]
        },
        {
          "data": {
            "application/vnd.jupyter.widget-view+json": {
              "model_id": "751d5b6d8f5e475c8c174f4c94996ead",
              "version_major": 2,
              "version_minor": 0
            },
            "text/plain": [
              "Evaluating:   0%|          | 0/1 [00:00<?, ?it/s]"
            ]
          },
          "metadata": {},
          "output_type": "display_data"
        },
        {
          "name": "stdout",
          "output_type": "stream",
          "text": [
            "Accuracy: 52.95% for params: embed_dim=32, hidden_dim=32, dropout_rate=0.2, lr=0.0005, wd=0.01, bs=128\n",
            "Time taken: 18.00s, estimated time left: 368.36min\n"
          ]
        },
        {
          "data": {
            "application/vnd.jupyter.widget-view+json": {
              "model_id": "3a9ebf9394b441fba8296e1cd3c7d9d3",
              "version_major": 2,
              "version_minor": 0
            },
            "text/plain": [
              "Evaluating:   0%|          | 0/1 [00:00<?, ?it/s]"
            ]
          },
          "metadata": {},
          "output_type": "display_data"
        },
        {
          "name": "stdout",
          "output_type": "stream",
          "text": [
            "Accuracy: 81.70% for params: embed_dim=32, hidden_dim=32, dropout_rate=0.2, lr=0.0005, wd=0.05, bs=32\n",
            "Time taken: 58.84s, estimated time left: 370.75min\n"
          ]
        },
        {
          "data": {
            "application/vnd.jupyter.widget-view+json": {
              "model_id": "29786458c04d412ea1b3852d74cda0d4",
              "version_major": 2,
              "version_minor": 0
            },
            "text/plain": [
              "Evaluating:   0%|          | 0/1 [00:00<?, ?it/s]"
            ]
          },
          "metadata": {},
          "output_type": "display_data"
        },
        {
          "name": "stdout",
          "output_type": "stream",
          "text": [
            "Accuracy: 81.60% for params: embed_dim=32, hidden_dim=32, dropout_rate=0.2, lr=0.0005, wd=0.05, bs=64\n",
            "Time taken: 34.30s, estimated time left: 369.54min\n"
          ]
        },
        {
          "data": {
            "application/vnd.jupyter.widget-view+json": {
              "model_id": "654915fbed664beda39d5d18b939ba07",
              "version_major": 2,
              "version_minor": 0
            },
            "text/plain": [
              "Evaluating:   0%|          | 0/1 [00:00<?, ?it/s]"
            ]
          },
          "metadata": {},
          "output_type": "display_data"
        },
        {
          "name": "stdout",
          "output_type": "stream",
          "text": [
            "Accuracy: 69.85% for params: embed_dim=32, hidden_dim=32, dropout_rate=0.2, lr=0.0005, wd=0.05, bs=128\n",
            "Time taken: 19.34s, estimated time left: 366.26min\n"
          ]
        },
        {
          "data": {
            "application/vnd.jupyter.widget-view+json": {
              "model_id": "e94a3a17197e4cd493f999b383c99239",
              "version_major": 2,
              "version_minor": 0
            },
            "text/plain": [
              "Evaluating:   0%|          | 0/1 [00:00<?, ?it/s]"
            ]
          },
          "metadata": {},
          "output_type": "display_data"
        },
        {
          "name": "stdout",
          "output_type": "stream",
          "text": [
            "Accuracy: 77.25% for params: embed_dim=32, hidden_dim=32, dropout_rate=0.2, lr=0.0005, wd=0.1, bs=32\n",
            "Time taken: 57.47s, estimated time left: 368.32min\n"
          ]
        },
        {
          "data": {
            "application/vnd.jupyter.widget-view+json": {
              "model_id": "f4e10c903cc74f69a71bbdc559d7de40",
              "version_major": 2,
              "version_minor": 0
            },
            "text/plain": [
              "Evaluating:   0%|          | 0/1 [00:00<?, ?it/s]"
            ]
          },
          "metadata": {},
          "output_type": "display_data"
        },
        {
          "name": "stdout",
          "output_type": "stream",
          "text": [
            "Accuracy: 77.25% for params: embed_dim=32, hidden_dim=32, dropout_rate=0.2, lr=0.0005, wd=0.1, bs=64\n",
            "Time taken: 31.77s, estimated time left: 366.80min\n"
          ]
        },
        {
          "data": {
            "application/vnd.jupyter.widget-view+json": {
              "model_id": "1fcbd1aea2814d658443e2b31154bbeb",
              "version_major": 2,
              "version_minor": 0
            },
            "text/plain": [
              "Evaluating:   0%|          | 0/1 [00:00<?, ?it/s]"
            ]
          },
          "metadata": {},
          "output_type": "display_data"
        },
        {
          "name": "stdout",
          "output_type": "stream",
          "text": [
            "Accuracy: 64.25% for params: embed_dim=32, hidden_dim=32, dropout_rate=0.2, lr=0.0005, wd=0.1, bs=128\n",
            "Time taken: 18.21s, estimated time left: 363.51min\n"
          ]
        },
        {
          "data": {
            "application/vnd.jupyter.widget-view+json": {
              "model_id": "e664740410dd407e858c7fe468c5a44f",
              "version_major": 2,
              "version_minor": 0
            },
            "text/plain": [
              "Evaluating:   0%|          | 0/1 [00:00<?, ?it/s]"
            ]
          },
          "metadata": {},
          "output_type": "display_data"
        },
        {
          "name": "stdout",
          "output_type": "stream",
          "text": [
            "Accuracy: 88.40% for params: embed_dim=32, hidden_dim=32, dropout_rate=0.3, lr=0.001, wd=0, bs=32\n",
            "Time taken: 58.40s, estimated time left: 365.57min\n"
          ]
        },
        {
          "data": {
            "application/vnd.jupyter.widget-view+json": {
              "model_id": "750cb7eed6a94659bae1fe5254012e0e",
              "version_major": 2,
              "version_minor": 0
            },
            "text/plain": [
              "Evaluating:   0%|          | 0/1 [00:00<?, ?it/s]"
            ]
          },
          "metadata": {},
          "output_type": "display_data"
        },
        {
          "name": "stdout",
          "output_type": "stream",
          "text": [
            "Accuracy: 84.10% for params: embed_dim=32, hidden_dim=32, dropout_rate=0.3, lr=0.001, wd=0, bs=64\n",
            "Time taken: 32.21s, estimated time left: 364.17min\n"
          ]
        },
        {
          "data": {
            "application/vnd.jupyter.widget-view+json": {
              "model_id": "2eebbf8018c54a30a642cae5041d0e25",
              "version_major": 2,
              "version_minor": 0
            },
            "text/plain": [
              "Evaluating:   0%|          | 0/1 [00:00<?, ?it/s]"
            ]
          },
          "metadata": {},
          "output_type": "display_data"
        },
        {
          "name": "stdout",
          "output_type": "stream",
          "text": [
            "Accuracy: 79.10% for params: embed_dim=32, hidden_dim=32, dropout_rate=0.3, lr=0.001, wd=0, bs=128\n",
            "Time taken: 18.64s, estimated time left: 361.06min\n"
          ]
        },
        {
          "data": {
            "application/vnd.jupyter.widget-view+json": {
              "model_id": "e9c71f0b98354f96ab3b5eaad92d38aa",
              "version_major": 2,
              "version_minor": 0
            },
            "text/plain": [
              "Evaluating:   0%|          | 0/1 [00:00<?, ?it/s]"
            ]
          },
          "metadata": {},
          "output_type": "display_data"
        },
        {
          "name": "stdout",
          "output_type": "stream",
          "text": [
            "Accuracy: 88.05% for params: embed_dim=32, hidden_dim=32, dropout_rate=0.3, lr=0.001, wd=0.01, bs=32\n",
            "Time taken: 57.47s, estimated time left: 362.90min\n"
          ]
        },
        {
          "data": {
            "application/vnd.jupyter.widget-view+json": {
              "model_id": "c6014b4d2ac549948ee7181afc0a0bf8",
              "version_major": 2,
              "version_minor": 0
            },
            "text/plain": [
              "Evaluating:   0%|          | 0/1 [00:00<?, ?it/s]"
            ]
          },
          "metadata": {},
          "output_type": "display_data"
        },
        {
          "name": "stdout",
          "output_type": "stream",
          "text": [
            "Accuracy: 86.00% for params: embed_dim=32, hidden_dim=32, dropout_rate=0.3, lr=0.001, wd=0.01, bs=64\n",
            "Time taken: 31.77s, estimated time left: 361.49min\n"
          ]
        },
        {
          "data": {
            "application/vnd.jupyter.widget-view+json": {
              "model_id": "5265b7fb0ddd45bfb4370cdac66932d6",
              "version_major": 2,
              "version_minor": 0
            },
            "text/plain": [
              "Evaluating:   0%|          | 0/1 [00:00<?, ?it/s]"
            ]
          },
          "metadata": {},
          "output_type": "display_data"
        },
        {
          "name": "stdout",
          "output_type": "stream",
          "text": [
            "Accuracy: 57.55% for params: embed_dim=32, hidden_dim=32, dropout_rate=0.3, lr=0.001, wd=0.01, bs=128\n",
            "Time taken: 18.17s, estimated time left: 358.44min\n"
          ]
        },
        {
          "data": {
            "application/vnd.jupyter.widget-view+json": {
              "model_id": "e3beca74c86540c48dd2c3e92e980c37",
              "version_major": 2,
              "version_minor": 0
            },
            "text/plain": [
              "Evaluating:   0%|          | 0/1 [00:00<?, ?it/s]"
            ]
          },
          "metadata": {},
          "output_type": "display_data"
        },
        {
          "name": "stdout",
          "output_type": "stream",
          "text": [
            "Accuracy: 85.90% for params: embed_dim=32, hidden_dim=32, dropout_rate=0.3, lr=0.001, wd=0.05, bs=32\n",
            "Time taken: 57.90s, estimated time left: 360.23min\n"
          ]
        },
        {
          "data": {
            "application/vnd.jupyter.widget-view+json": {
              "model_id": "1b153138a8f748e7b19f1d413313075e",
              "version_major": 2,
              "version_minor": 0
            },
            "text/plain": [
              "Evaluating:   0%|          | 0/1 [00:00<?, ?it/s]"
            ]
          },
          "metadata": {},
          "output_type": "display_data"
        },
        {
          "name": "stdout",
          "output_type": "stream",
          "text": [
            "Accuracy: 83.05% for params: embed_dim=32, hidden_dim=32, dropout_rate=0.3, lr=0.001, wd=0.05, bs=64\n",
            "Time taken: 32.05s, estimated time left: 358.90min\n"
          ]
        },
        {
          "data": {
            "application/vnd.jupyter.widget-view+json": {
              "model_id": "ba4fbfb2dd1c47c8b21881ab0a57cd05",
              "version_major": 2,
              "version_minor": 0
            },
            "text/plain": [
              "Evaluating:   0%|          | 0/1 [00:00<?, ?it/s]"
            ]
          },
          "metadata": {},
          "output_type": "display_data"
        },
        {
          "name": "stdout",
          "output_type": "stream",
          "text": [
            "Accuracy: 77.60% for params: embed_dim=32, hidden_dim=32, dropout_rate=0.3, lr=0.001, wd=0.05, bs=128\n",
            "Time taken: 18.44s, estimated time left: 356.00min\n"
          ]
        },
        {
          "data": {
            "application/vnd.jupyter.widget-view+json": {
              "model_id": "6cd194223d7f4192b55cc6046ed200c1",
              "version_major": 2,
              "version_minor": 0
            },
            "text/plain": [
              "Evaluating:   0%|          | 0/1 [00:00<?, ?it/s]"
            ]
          },
          "metadata": {},
          "output_type": "display_data"
        },
        {
          "name": "stdout",
          "output_type": "stream",
          "text": [
            "Accuracy: 88.80% for params: embed_dim=32, hidden_dim=32, dropout_rate=0.3, lr=0.001, wd=0.1, bs=32\n",
            "Time taken: 58.41s, estimated time left: 357.75min\n"
          ]
        },
        {
          "data": {
            "application/vnd.jupyter.widget-view+json": {
              "model_id": "86b1ae08665d4bddb00e199fe0e07742",
              "version_major": 2,
              "version_minor": 0
            },
            "text/plain": [
              "Evaluating:   0%|          | 0/1 [00:00<?, ?it/s]"
            ]
          },
          "metadata": {},
          "output_type": "display_data"
        },
        {
          "name": "stdout",
          "output_type": "stream",
          "text": [
            "Accuracy: 89.15% for params: embed_dim=32, hidden_dim=32, dropout_rate=0.3, lr=0.001, wd=0.1, bs=64\n",
            "Time taken: 32.32s, estimated time left: 356.49min\n"
          ]
        },
        {
          "data": {
            "application/vnd.jupyter.widget-view+json": {
              "model_id": "5ea632ad5d4743f19424b6173a58e24d",
              "version_major": 2,
              "version_minor": 0
            },
            "text/plain": [
              "Evaluating:   0%|          | 0/1 [00:00<?, ?it/s]"
            ]
          },
          "metadata": {},
          "output_type": "display_data"
        },
        {
          "name": "stdout",
          "output_type": "stream",
          "text": [
            "Accuracy: 57.40% for params: embed_dim=32, hidden_dim=32, dropout_rate=0.3, lr=0.001, wd=0.1, bs=128\n",
            "Time taken: 18.05s, estimated time left: 353.64min\n"
          ]
        },
        {
          "data": {
            "application/vnd.jupyter.widget-view+json": {
              "model_id": "471396ca955e42b981176831f8129e4d",
              "version_major": 2,
              "version_minor": 0
            },
            "text/plain": [
              "Evaluating:   0%|          | 0/1 [00:00<?, ?it/s]"
            ]
          },
          "metadata": {},
          "output_type": "display_data"
        },
        {
          "name": "stdout",
          "output_type": "stream",
          "text": [
            "Accuracy: 87.00% for params: embed_dim=32, hidden_dim=32, dropout_rate=0.3, lr=0.0007, wd=0, bs=32\n",
            "Time taken: 57.09s, estimated time left: 355.16min\n"
          ]
        },
        {
          "data": {
            "application/vnd.jupyter.widget-view+json": {
              "model_id": "5b900bd2f41642988cad49e8d184c9ed",
              "version_major": 2,
              "version_minor": 0
            },
            "text/plain": [
              "Evaluating:   0%|          | 0/1 [00:00<?, ?it/s]"
            ]
          },
          "metadata": {},
          "output_type": "display_data"
        },
        {
          "name": "stdout",
          "output_type": "stream",
          "text": [
            "Accuracy: 46.35% for params: embed_dim=32, hidden_dim=32, dropout_rate=0.3, lr=0.0007, wd=0, bs=64\n",
            "Time taken: 31.64s, estimated time left: 353.85min\n"
          ]
        },
        {
          "data": {
            "application/vnd.jupyter.widget-view+json": {
              "model_id": "ca82d65fb50d4353a117a87e68c1dda6",
              "version_major": 2,
              "version_minor": 0
            },
            "text/plain": [
              "Evaluating:   0%|          | 0/1 [00:00<?, ?it/s]"
            ]
          },
          "metadata": {},
          "output_type": "display_data"
        },
        {
          "name": "stdout",
          "output_type": "stream",
          "text": [
            "Accuracy: 64.90% for params: embed_dim=32, hidden_dim=32, dropout_rate=0.3, lr=0.0007, wd=0, bs=128\n",
            "Time taken: 18.04s, estimated time left: 351.10min\n"
          ]
        },
        {
          "data": {
            "application/vnd.jupyter.widget-view+json": {
              "model_id": "562ee94e2f544aba929ce3b2d34745be",
              "version_major": 2,
              "version_minor": 0
            },
            "text/plain": [
              "Evaluating:   0%|          | 0/1 [00:00<?, ?it/s]"
            ]
          },
          "metadata": {},
          "output_type": "display_data"
        },
        {
          "name": "stdout",
          "output_type": "stream",
          "text": [
            "Accuracy: 88.40% for params: embed_dim=32, hidden_dim=32, dropout_rate=0.3, lr=0.0007, wd=0.01, bs=32\n",
            "Time taken: 58.10s, estimated time left: 352.66min\n"
          ]
        },
        {
          "data": {
            "application/vnd.jupyter.widget-view+json": {
              "model_id": "711ba244a4e8427b80546c734b585293",
              "version_major": 2,
              "version_minor": 0
            },
            "text/plain": [
              "Evaluating:   0%|          | 0/1 [00:00<?, ?it/s]"
            ]
          },
          "metadata": {},
          "output_type": "display_data"
        },
        {
          "name": "stdout",
          "output_type": "stream",
          "text": [
            "Accuracy: 82.80% for params: embed_dim=32, hidden_dim=32, dropout_rate=0.3, lr=0.0007, wd=0.01, bs=64\n",
            "Time taken: 32.23s, estimated time left: 351.44min\n"
          ]
        },
        {
          "data": {
            "application/vnd.jupyter.widget-view+json": {
              "model_id": "9df0a9ebe8d14d6e84d4d0ba3901e8ba",
              "version_major": 2,
              "version_minor": 0
            },
            "text/plain": [
              "Evaluating:   0%|          | 0/1 [00:00<?, ?it/s]"
            ]
          },
          "metadata": {},
          "output_type": "display_data"
        },
        {
          "name": "stdout",
          "output_type": "stream",
          "text": [
            "Accuracy: 72.95% for params: embed_dim=32, hidden_dim=32, dropout_rate=0.3, lr=0.0007, wd=0.01, bs=128\n",
            "Time taken: 18.55s, estimated time left: 348.83min\n"
          ]
        },
        {
          "data": {
            "application/vnd.jupyter.widget-view+json": {
              "model_id": "12629cdf47db405ea7003c9d72ebc976",
              "version_major": 2,
              "version_minor": 0
            },
            "text/plain": [
              "Evaluating:   0%|          | 0/1 [00:00<?, ?it/s]"
            ]
          },
          "metadata": {},
          "output_type": "display_data"
        },
        {
          "name": "stdout",
          "output_type": "stream",
          "text": [
            "Accuracy: 85.55% for params: embed_dim=32, hidden_dim=32, dropout_rate=0.3, lr=0.0007, wd=0.05, bs=32\n",
            "Time taken: 58.38s, estimated time left: 350.34min\n"
          ]
        },
        {
          "data": {
            "application/vnd.jupyter.widget-view+json": {
              "model_id": "003da6462e24490a96acb0d2b8ab6d46",
              "version_major": 2,
              "version_minor": 0
            },
            "text/plain": [
              "Evaluating:   0%|          | 0/1 [00:00<?, ?it/s]"
            ]
          },
          "metadata": {},
          "output_type": "display_data"
        },
        {
          "name": "stdout",
          "output_type": "stream",
          "text": [
            "Accuracy: 64.85% for params: embed_dim=32, hidden_dim=32, dropout_rate=0.3, lr=0.0007, wd=0.05, bs=64\n",
            "Time taken: 32.19s, estimated time left: 349.15min\n"
          ]
        },
        {
          "data": {
            "application/vnd.jupyter.widget-view+json": {
              "model_id": "7f410b27d3354bb2910d03308024ea23",
              "version_major": 2,
              "version_minor": 0
            },
            "text/plain": [
              "Evaluating:   0%|          | 0/1 [00:00<?, ?it/s]"
            ]
          },
          "metadata": {},
          "output_type": "display_data"
        },
        {
          "name": "stdout",
          "output_type": "stream",
          "text": [
            "Accuracy: 72.70% for params: embed_dim=32, hidden_dim=32, dropout_rate=0.3, lr=0.0007, wd=0.05, bs=128\n",
            "Time taken: 18.09s, estimated time left: 346.57min\n"
          ]
        },
        {
          "data": {
            "application/vnd.jupyter.widget-view+json": {
              "model_id": "7bccddf73749411f9322739b730a0cd0",
              "version_major": 2,
              "version_minor": 0
            },
            "text/plain": [
              "Evaluating:   0%|          | 0/1 [00:00<?, ?it/s]"
            ]
          },
          "metadata": {},
          "output_type": "display_data"
        },
        {
          "name": "stdout",
          "output_type": "stream",
          "text": [
            "Accuracy: 87.15% for params: embed_dim=32, hidden_dim=32, dropout_rate=0.3, lr=0.0007, wd=0.1, bs=32\n",
            "Time taken: 59.18s, estimated time left: 348.08min\n"
          ]
        },
        {
          "data": {
            "application/vnd.jupyter.widget-view+json": {
              "model_id": "518f9d1366534b9dba90923c2c7ec77b",
              "version_major": 2,
              "version_minor": 0
            },
            "text/plain": [
              "Evaluating:   0%|          | 0/1 [00:00<?, ?it/s]"
            ]
          },
          "metadata": {},
          "output_type": "display_data"
        },
        {
          "name": "stdout",
          "output_type": "stream",
          "text": [
            "Accuracy: 82.95% for params: embed_dim=32, hidden_dim=32, dropout_rate=0.3, lr=0.0007, wd=0.1, bs=64\n",
            "Time taken: 32.14s, estimated time left: 346.92min\n"
          ]
        },
        {
          "data": {
            "application/vnd.jupyter.widget-view+json": {
              "model_id": "f69855cd29fb44718aabf9ecf96aeae4",
              "version_major": 2,
              "version_minor": 0
            },
            "text/plain": [
              "Evaluating:   0%|          | 0/1 [00:00<?, ?it/s]"
            ]
          },
          "metadata": {},
          "output_type": "display_data"
        },
        {
          "name": "stdout",
          "output_type": "stream",
          "text": [
            "Accuracy: 72.70% for params: embed_dim=32, hidden_dim=32, dropout_rate=0.3, lr=0.0007, wd=0.1, bs=128\n",
            "Time taken: 18.47s, estimated time left: 344.45min\n"
          ]
        },
        {
          "data": {
            "application/vnd.jupyter.widget-view+json": {
              "model_id": "4341033403e042eab52d94f8bda236e6",
              "version_major": 2,
              "version_minor": 0
            },
            "text/plain": [
              "Evaluating:   0%|          | 0/1 [00:00<?, ?it/s]"
            ]
          },
          "metadata": {},
          "output_type": "display_data"
        },
        {
          "name": "stdout",
          "output_type": "stream",
          "text": [
            "Accuracy: 76.10% for params: embed_dim=32, hidden_dim=32, dropout_rate=0.3, lr=0.0005, wd=0, bs=32\n",
            "Time taken: 58.23s, estimated time left: 345.80min\n"
          ]
        },
        {
          "data": {
            "application/vnd.jupyter.widget-view+json": {
              "model_id": "48d8a98ae1c6478896b9695fab83f561",
              "version_major": 2,
              "version_minor": 0
            },
            "text/plain": [
              "Evaluating:   0%|          | 0/1 [00:00<?, ?it/s]"
            ]
          },
          "metadata": {},
          "output_type": "display_data"
        },
        {
          "name": "stdout",
          "output_type": "stream",
          "text": [
            "Accuracy: 56.55% for params: embed_dim=32, hidden_dim=32, dropout_rate=0.3, lr=0.0005, wd=0, bs=64\n",
            "Time taken: 32.49s, estimated time left: 344.69min\n"
          ]
        },
        {
          "data": {
            "application/vnd.jupyter.widget-view+json": {
              "model_id": "aaa38aa71f8249debf1b9601eeea964f",
              "version_major": 2,
              "version_minor": 0
            },
            "text/plain": [
              "Evaluating:   0%|          | 0/1 [00:00<?, ?it/s]"
            ]
          },
          "metadata": {},
          "output_type": "display_data"
        },
        {
          "name": "stdout",
          "output_type": "stream",
          "text": [
            "Accuracy: 46.85% for params: embed_dim=32, hidden_dim=32, dropout_rate=0.3, lr=0.0005, wd=0, bs=128\n",
            "Time taken: 18.81s, estimated time left: 342.32min\n"
          ]
        },
        {
          "data": {
            "application/vnd.jupyter.widget-view+json": {
              "model_id": "a7ecac8f65ea4111ad75470dddeb4893",
              "version_major": 2,
              "version_minor": 0
            },
            "text/plain": [
              "Evaluating:   0%|          | 0/1 [00:00<?, ?it/s]"
            ]
          },
          "metadata": {},
          "output_type": "display_data"
        },
        {
          "name": "stdout",
          "output_type": "stream",
          "text": [
            "Accuracy: 63.60% for params: embed_dim=32, hidden_dim=32, dropout_rate=0.3, lr=0.0005, wd=0.01, bs=32\n",
            "Time taken: 58.00s, estimated time left: 343.58min\n"
          ]
        },
        {
          "data": {
            "application/vnd.jupyter.widget-view+json": {
              "model_id": "7b97f79fb5c94865804f759d6fb04ba3",
              "version_major": 2,
              "version_minor": 0
            },
            "text/plain": [
              "Evaluating:   0%|          | 0/1 [00:00<?, ?it/s]"
            ]
          },
          "metadata": {},
          "output_type": "display_data"
        },
        {
          "name": "stdout",
          "output_type": "stream",
          "text": [
            "Accuracy: 52.45% for params: embed_dim=32, hidden_dim=32, dropout_rate=0.3, lr=0.0005, wd=0.01, bs=64\n",
            "Time taken: 31.92s, estimated time left: 342.44min\n"
          ]
        },
        {
          "data": {
            "application/vnd.jupyter.widget-view+json": {
              "model_id": "70d34f72c17945c794d87496ed101069",
              "version_major": 2,
              "version_minor": 0
            },
            "text/plain": [
              "Evaluating:   0%|          | 0/1 [00:00<?, ?it/s]"
            ]
          },
          "metadata": {},
          "output_type": "display_data"
        },
        {
          "name": "stdout",
          "output_type": "stream",
          "text": [
            "Accuracy: 52.50% for params: embed_dim=32, hidden_dim=32, dropout_rate=0.3, lr=0.0005, wd=0.01, bs=128\n",
            "Time taken: 17.95s, estimated time left: 340.06min\n"
          ]
        },
        {
          "data": {
            "application/vnd.jupyter.widget-view+json": {
              "model_id": "11472e8a38904c81bd3bfd52ec7c18bf",
              "version_major": 2,
              "version_minor": 0
            },
            "text/plain": [
              "Evaluating:   0%|          | 0/1 [00:00<?, ?it/s]"
            ]
          },
          "metadata": {},
          "output_type": "display_data"
        },
        {
          "name": "stdout",
          "output_type": "stream",
          "text": [
            "Accuracy: 82.70% for params: embed_dim=32, hidden_dim=32, dropout_rate=0.3, lr=0.0005, wd=0.05, bs=32\n",
            "Time taken: 57.91s, estimated time left: 341.25min\n"
          ]
        },
        {
          "data": {
            "application/vnd.jupyter.widget-view+json": {
              "model_id": "9d41f918f2334288a85b1e5a5a511aaa",
              "version_major": 2,
              "version_minor": 0
            },
            "text/plain": [
              "Evaluating:   0%|          | 0/1 [00:00<?, ?it/s]"
            ]
          },
          "metadata": {},
          "output_type": "display_data"
        },
        {
          "name": "stdout",
          "output_type": "stream",
          "text": [
            "Accuracy: 66.60% for params: embed_dim=32, hidden_dim=32, dropout_rate=0.3, lr=0.0005, wd=0.05, bs=64\n",
            "Time taken: 32.14s, estimated time left: 340.15min\n"
          ]
        },
        {
          "data": {
            "application/vnd.jupyter.widget-view+json": {
              "model_id": "47688333bc1e4fd2afd04bab9deb2d08",
              "version_major": 2,
              "version_minor": 0
            },
            "text/plain": [
              "Evaluating:   0%|          | 0/1 [00:00<?, ?it/s]"
            ]
          },
          "metadata": {},
          "output_type": "display_data"
        },
        {
          "name": "stdout",
          "output_type": "stream",
          "text": [
            "Accuracy: 56.10% for params: embed_dim=32, hidden_dim=32, dropout_rate=0.3, lr=0.0005, wd=0.05, bs=128\n",
            "Time taken: 18.24s, estimated time left: 337.87min\n"
          ]
        },
        {
          "data": {
            "application/vnd.jupyter.widget-view+json": {
              "model_id": "f7515ef179d34a7891c1f5536dbcbb74",
              "version_major": 2,
              "version_minor": 0
            },
            "text/plain": [
              "Evaluating:   0%|          | 0/1 [00:00<?, ?it/s]"
            ]
          },
          "metadata": {},
          "output_type": "display_data"
        },
        {
          "name": "stdout",
          "output_type": "stream",
          "text": [
            "Accuracy: 83.25% for params: embed_dim=32, hidden_dim=32, dropout_rate=0.3, lr=0.0005, wd=0.1, bs=32\n",
            "Time taken: 59.59s, estimated time left: 339.14min\n"
          ]
        },
        {
          "data": {
            "application/vnd.jupyter.widget-view+json": {
              "model_id": "65ecf25fc68946afb008af462305e60b",
              "version_major": 2,
              "version_minor": 0
            },
            "text/plain": [
              "Evaluating:   0%|          | 0/1 [00:00<?, ?it/s]"
            ]
          },
          "metadata": {},
          "output_type": "display_data"
        },
        {
          "name": "stdout",
          "output_type": "stream",
          "text": [
            "Accuracy: 54.75% for params: embed_dim=32, hidden_dim=32, dropout_rate=0.3, lr=0.0005, wd=0.1, bs=64\n",
            "Time taken: 32.83s, estimated time left: 338.12min\n"
          ]
        },
        {
          "data": {
            "application/vnd.jupyter.widget-view+json": {
              "model_id": "90322d99a0a14d3d8c69fbb4cacac8df",
              "version_major": 2,
              "version_minor": 0
            },
            "text/plain": [
              "Evaluating:   0%|          | 0/1 [00:00<?, ?it/s]"
            ]
          },
          "metadata": {},
          "output_type": "display_data"
        },
        {
          "name": "stdout",
          "output_type": "stream",
          "text": [
            "Accuracy: 46.90% for params: embed_dim=32, hidden_dim=32, dropout_rate=0.3, lr=0.0005, wd=0.1, bs=128\n",
            "Time taken: 18.93s, estimated time left: 335.94min\n"
          ]
        },
        {
          "data": {
            "application/vnd.jupyter.widget-view+json": {
              "model_id": "8734a5458f32451b83919d63cb9072ca",
              "version_major": 2,
              "version_minor": 0
            },
            "text/plain": [
              "Evaluating:   0%|          | 0/1 [00:00<?, ?it/s]"
            ]
          },
          "metadata": {},
          "output_type": "display_data"
        },
        {
          "name": "stdout",
          "output_type": "stream",
          "text": [
            "Accuracy: 88.20% for params: embed_dim=32, hidden_dim=64, dropout_rate=0.1, lr=0.001, wd=0, bs=32\n",
            "Time taken: 59.18s, estimated time left: 337.12min\n"
          ]
        },
        {
          "data": {
            "application/vnd.jupyter.widget-view+json": {
              "model_id": "b32661abd69342c5b11e8155f226e90e",
              "version_major": 2,
              "version_minor": 0
            },
            "text/plain": [
              "Evaluating:   0%|          | 0/1 [00:00<?, ?it/s]"
            ]
          },
          "metadata": {},
          "output_type": "display_data"
        },
        {
          "name": "stdout",
          "output_type": "stream",
          "text": [
            "Accuracy: 87.55% for params: embed_dim=32, hidden_dim=64, dropout_rate=0.1, lr=0.001, wd=0, bs=64\n",
            "Time taken: 33.08s, estimated time left: 336.14min\n"
          ]
        },
        {
          "data": {
            "application/vnd.jupyter.widget-view+json": {
              "model_id": "82a3a3b5a36d4f0d8d0c6fd669b4ffbb",
              "version_major": 2,
              "version_minor": 0
            },
            "text/plain": [
              "Evaluating:   0%|          | 0/1 [00:00<?, ?it/s]"
            ]
          },
          "metadata": {},
          "output_type": "display_data"
        },
        {
          "name": "stdout",
          "output_type": "stream",
          "text": [
            "Accuracy: 87.70% for params: embed_dim=32, hidden_dim=64, dropout_rate=0.1, lr=0.001, wd=0, bs=128\n",
            "Time taken: 25.67s, estimated time left: 334.56min\n"
          ]
        },
        {
          "data": {
            "application/vnd.jupyter.widget-view+json": {
              "model_id": "ca15100cfd7244f5b2b565de2051ebd4",
              "version_major": 2,
              "version_minor": 0
            },
            "text/plain": [
              "Evaluating:   0%|          | 0/1 [00:00<?, ?it/s]"
            ]
          },
          "metadata": {},
          "output_type": "display_data"
        },
        {
          "name": "stdout",
          "output_type": "stream",
          "text": [
            "Accuracy: 88.15% for params: embed_dim=32, hidden_dim=64, dropout_rate=0.1, lr=0.001, wd=0.01, bs=32\n",
            "Time taken: 60.75s, estimated time left: 335.80min\n"
          ]
        },
        {
          "data": {
            "application/vnd.jupyter.widget-view+json": {
              "model_id": "01e2ab30526d415da32e85b5eee3f225",
              "version_major": 2,
              "version_minor": 0
            },
            "text/plain": [
              "Evaluating:   0%|          | 0/1 [00:00<?, ?it/s]"
            ]
          },
          "metadata": {},
          "output_type": "display_data"
        },
        {
          "name": "stdout",
          "output_type": "stream",
          "text": [
            "Accuracy: 88.15% for params: embed_dim=32, hidden_dim=64, dropout_rate=0.1, lr=0.001, wd=0.01, bs=64\n",
            "Time taken: 33.74s, estimated time left: 334.87min\n"
          ]
        },
        {
          "data": {
            "application/vnd.jupyter.widget-view+json": {
              "model_id": "63cc177cc6ab4fe8af3d85c2694165f2",
              "version_major": 2,
              "version_minor": 0
            },
            "text/plain": [
              "Evaluating:   0%|          | 0/1 [00:00<?, ?it/s]"
            ]
          },
          "metadata": {},
          "output_type": "display_data"
        },
        {
          "name": "stdout",
          "output_type": "stream",
          "text": [
            "Accuracy: 86.60% for params: embed_dim=32, hidden_dim=64, dropout_rate=0.1, lr=0.001, wd=0.01, bs=128\n",
            "Time taken: 25.71s, estimated time left: 333.32min\n"
          ]
        },
        {
          "data": {
            "application/vnd.jupyter.widget-view+json": {
              "model_id": "426bd605bd594654b65f786498305d6a",
              "version_major": 2,
              "version_minor": 0
            },
            "text/plain": [
              "Evaluating:   0%|          | 0/1 [00:00<?, ?it/s]"
            ]
          },
          "metadata": {},
          "output_type": "display_data"
        },
        {
          "name": "stdout",
          "output_type": "stream",
          "text": [
            "Accuracy: 88.85% for params: embed_dim=32, hidden_dim=64, dropout_rate=0.1, lr=0.001, wd=0.05, bs=32\n",
            "Time taken: 61.14s, estimated time left: 334.52min\n"
          ]
        },
        {
          "data": {
            "application/vnd.jupyter.widget-view+json": {
              "model_id": "0e45b70be33549d398dac18a79b3079a",
              "version_major": 2,
              "version_minor": 0
            },
            "text/plain": [
              "Evaluating:   0%|          | 0/1 [00:00<?, ?it/s]"
            ]
          },
          "metadata": {},
          "output_type": "display_data"
        },
        {
          "name": "stdout",
          "output_type": "stream",
          "text": [
            "Accuracy: 88.25% for params: embed_dim=32, hidden_dim=64, dropout_rate=0.1, lr=0.001, wd=0.05, bs=64\n",
            "Time taken: 34.02s, estimated time left: 333.62min\n"
          ]
        },
        {
          "data": {
            "application/vnd.jupyter.widget-view+json": {
              "model_id": "7849b3487c6645669c51f2a403faeefe",
              "version_major": 2,
              "version_minor": 0
            },
            "text/plain": [
              "Evaluating:   0%|          | 0/1 [00:00<?, ?it/s]"
            ]
          },
          "metadata": {},
          "output_type": "display_data"
        },
        {
          "name": "stdout",
          "output_type": "stream",
          "text": [
            "Accuracy: 86.40% for params: embed_dim=32, hidden_dim=64, dropout_rate=0.1, lr=0.001, wd=0.05, bs=128\n",
            "Time taken: 25.80s, estimated time left: 332.10min\n"
          ]
        },
        {
          "data": {
            "application/vnd.jupyter.widget-view+json": {
              "model_id": "d58df3f8372446468ed96482cedaffd3",
              "version_major": 2,
              "version_minor": 0
            },
            "text/plain": [
              "Evaluating:   0%|          | 0/1 [00:00<?, ?it/s]"
            ]
          },
          "metadata": {},
          "output_type": "display_data"
        },
        {
          "name": "stdout",
          "output_type": "stream",
          "text": [
            "Accuracy: 89.15% for params: embed_dim=32, hidden_dim=64, dropout_rate=0.1, lr=0.001, wd=0.1, bs=32\n",
            "Time taken: 59.78s, estimated time left: 333.14min\n"
          ]
        },
        {
          "data": {
            "application/vnd.jupyter.widget-view+json": {
              "model_id": "b83abd16466646998b32b985d78b0ff8",
              "version_major": 2,
              "version_minor": 0
            },
            "text/plain": [
              "Evaluating:   0%|          | 0/1 [00:00<?, ?it/s]"
            ]
          },
          "metadata": {},
          "output_type": "display_data"
        },
        {
          "name": "stdout",
          "output_type": "stream",
          "text": [
            "Accuracy: 87.35% for params: embed_dim=32, hidden_dim=64, dropout_rate=0.1, lr=0.001, wd=0.1, bs=64\n",
            "Time taken: 33.33s, estimated time left: 332.18min\n"
          ]
        },
        {
          "data": {
            "application/vnd.jupyter.widget-view+json": {
              "model_id": "d79926cc04da47dfbc5f35d701c07377",
              "version_major": 2,
              "version_minor": 0
            },
            "text/plain": [
              "Evaluating:   0%|          | 0/1 [00:00<?, ?it/s]"
            ]
          },
          "metadata": {},
          "output_type": "display_data"
        },
        {
          "name": "stdout",
          "output_type": "stream",
          "text": [
            "Accuracy: 86.00% for params: embed_dim=32, hidden_dim=64, dropout_rate=0.1, lr=0.001, wd=0.1, bs=128\n",
            "Time taken: 25.72s, estimated time left: 330.68min\n"
          ]
        },
        {
          "data": {
            "application/vnd.jupyter.widget-view+json": {
              "model_id": "59795d7343544ae4ace6804fe95fc977",
              "version_major": 2,
              "version_minor": 0
            },
            "text/plain": [
              "Evaluating:   0%|          | 0/1 [00:00<?, ?it/s]"
            ]
          },
          "metadata": {},
          "output_type": "display_data"
        },
        {
          "name": "stdout",
          "output_type": "stream",
          "text": [
            "Accuracy: 86.40% for params: embed_dim=32, hidden_dim=64, dropout_rate=0.1, lr=0.0007, wd=0, bs=32\n",
            "Time taken: 60.22s, estimated time left: 331.70min\n"
          ]
        },
        {
          "data": {
            "application/vnd.jupyter.widget-view+json": {
              "model_id": "d2e4c17f142d4ee6a8419ad6bc1964a4",
              "version_major": 2,
              "version_minor": 0
            },
            "text/plain": [
              "Evaluating:   0%|          | 0/1 [00:00<?, ?it/s]"
            ]
          },
          "metadata": {},
          "output_type": "display_data"
        },
        {
          "name": "stdout",
          "output_type": "stream",
          "text": [
            "Accuracy: 86.70% for params: embed_dim=32, hidden_dim=64, dropout_rate=0.1, lr=0.0007, wd=0, bs=64\n",
            "Time taken: 33.72s, estimated time left: 330.78min\n"
          ]
        },
        {
          "data": {
            "application/vnd.jupyter.widget-view+json": {
              "model_id": "ee9c7b078dbe4cc88c6a5da4a38ced72",
              "version_major": 2,
              "version_minor": 0
            },
            "text/plain": [
              "Evaluating:   0%|          | 0/1 [00:00<?, ?it/s]"
            ]
          },
          "metadata": {},
          "output_type": "display_data"
        },
        {
          "name": "stdout",
          "output_type": "stream",
          "text": [
            "Accuracy: 57.35% for params: embed_dim=32, hidden_dim=64, dropout_rate=0.1, lr=0.0007, wd=0, bs=128\n",
            "Time taken: 26.07s, estimated time left: 329.32min\n"
          ]
        },
        {
          "data": {
            "application/vnd.jupyter.widget-view+json": {
              "model_id": "b598f8ffaff54a2e8dd017727862e02a",
              "version_major": 2,
              "version_minor": 0
            },
            "text/plain": [
              "Evaluating:   0%|          | 0/1 [00:00<?, ?it/s]"
            ]
          },
          "metadata": {},
          "output_type": "display_data"
        },
        {
          "name": "stdout",
          "output_type": "stream",
          "text": [
            "Accuracy: 88.50% for params: embed_dim=32, hidden_dim=64, dropout_rate=0.1, lr=0.0007, wd=0.01, bs=32\n",
            "Time taken: 60.89s, estimated time left: 330.33min\n"
          ]
        },
        {
          "data": {
            "application/vnd.jupyter.widget-view+json": {
              "model_id": "25f606f41ae0405996145b8ec7f450de",
              "version_major": 2,
              "version_minor": 0
            },
            "text/plain": [
              "Evaluating:   0%|          | 0/1 [00:00<?, ?it/s]"
            ]
          },
          "metadata": {},
          "output_type": "display_data"
        },
        {
          "name": "stdout",
          "output_type": "stream",
          "text": [
            "Accuracy: 86.20% for params: embed_dim=32, hidden_dim=64, dropout_rate=0.1, lr=0.0007, wd=0.01, bs=64\n",
            "Time taken: 33.13s, estimated time left: 329.37min\n"
          ]
        },
        {
          "data": {
            "application/vnd.jupyter.widget-view+json": {
              "model_id": "67e31821ac80417091c583b65ae0b3f3",
              "version_major": 2,
              "version_minor": 0
            },
            "text/plain": [
              "Evaluating:   0%|          | 0/1 [00:00<?, ?it/s]"
            ]
          },
          "metadata": {},
          "output_type": "display_data"
        },
        {
          "name": "stdout",
          "output_type": "stream",
          "text": [
            "Accuracy: 79.40% for params: embed_dim=32, hidden_dim=64, dropout_rate=0.1, lr=0.0007, wd=0.01, bs=128\n",
            "Time taken: 25.74s, estimated time left: 327.91min\n"
          ]
        },
        {
          "data": {
            "application/vnd.jupyter.widget-view+json": {
              "model_id": "208f1672ec9240789ce6da7c96935b74",
              "version_major": 2,
              "version_minor": 0
            },
            "text/plain": [
              "Evaluating:   0%|          | 0/1 [00:00<?, ?it/s]"
            ]
          },
          "metadata": {},
          "output_type": "display_data"
        },
        {
          "name": "stdout",
          "output_type": "stream",
          "text": [
            "Accuracy: 88.55% for params: embed_dim=32, hidden_dim=64, dropout_rate=0.1, lr=0.0007, wd=0.05, bs=32\n",
            "Time taken: 60.01s, estimated time left: 328.81min\n"
          ]
        },
        {
          "data": {
            "application/vnd.jupyter.widget-view+json": {
              "model_id": "92117375a89e466a8d1c78e1905434bd",
              "version_major": 2,
              "version_minor": 0
            },
            "text/plain": [
              "Evaluating:   0%|          | 0/1 [00:00<?, ?it/s]"
            ]
          },
          "metadata": {},
          "output_type": "display_data"
        },
        {
          "name": "stdout",
          "output_type": "stream",
          "text": [
            "Accuracy: 86.75% for params: embed_dim=32, hidden_dim=64, dropout_rate=0.1, lr=0.0007, wd=0.05, bs=64\n",
            "Time taken: 34.22s, estimated time left: 327.93min\n"
          ]
        },
        {
          "data": {
            "application/vnd.jupyter.widget-view+json": {
              "model_id": "191477c782fc41cf9628d395e02add6b",
              "version_major": 2,
              "version_minor": 0
            },
            "text/plain": [
              "Evaluating:   0%|          | 0/1 [00:00<?, ?it/s]"
            ]
          },
          "metadata": {},
          "output_type": "display_data"
        },
        {
          "name": "stdout",
          "output_type": "stream",
          "text": [
            "Accuracy: 84.55% for params: embed_dim=32, hidden_dim=64, dropout_rate=0.1, lr=0.0007, wd=0.05, bs=128\n",
            "Time taken: 26.10s, estimated time left: 326.51min\n"
          ]
        },
        {
          "data": {
            "application/vnd.jupyter.widget-view+json": {
              "model_id": "d2e782bba43d43a2bd3b9abdeaf19a3b",
              "version_major": 2,
              "version_minor": 0
            },
            "text/plain": [
              "Evaluating:   0%|          | 0/1 [00:00<?, ?it/s]"
            ]
          },
          "metadata": {},
          "output_type": "display_data"
        },
        {
          "name": "stdout",
          "output_type": "stream",
          "text": [
            "Accuracy: 87.35% for params: embed_dim=32, hidden_dim=64, dropout_rate=0.1, lr=0.0007, wd=0.1, bs=32\n",
            "Time taken: 60.70s, estimated time left: 327.41min\n"
          ]
        },
        {
          "data": {
            "application/vnd.jupyter.widget-view+json": {
              "model_id": "1e3fd04308074f9fb0ac80cd9f7a336c",
              "version_major": 2,
              "version_minor": 0
            },
            "text/plain": [
              "Evaluating:   0%|          | 0/1 [00:00<?, ?it/s]"
            ]
          },
          "metadata": {},
          "output_type": "display_data"
        },
        {
          "name": "stdout",
          "output_type": "stream",
          "text": [
            "Accuracy: 86.80% for params: embed_dim=32, hidden_dim=64, dropout_rate=0.1, lr=0.0007, wd=0.1, bs=64\n",
            "Time taken: 33.55s, estimated time left: 326.49min\n"
          ]
        },
        {
          "data": {
            "application/vnd.jupyter.widget-view+json": {
              "model_id": "6717c82c2d8244ecb72cb7bdbcc748a8",
              "version_major": 2,
              "version_minor": 0
            },
            "text/plain": [
              "Evaluating:   0%|          | 0/1 [00:00<?, ?it/s]"
            ]
          },
          "metadata": {},
          "output_type": "display_data"
        },
        {
          "name": "stdout",
          "output_type": "stream",
          "text": [
            "Accuracy: 81.50% for params: embed_dim=32, hidden_dim=64, dropout_rate=0.1, lr=0.0007, wd=0.1, bs=128\n",
            "Time taken: 25.68s, estimated time left: 325.06min\n"
          ]
        },
        {
          "data": {
            "application/vnd.jupyter.widget-view+json": {
              "model_id": "98021233a37e4c7eb3acb071812b50b9",
              "version_major": 2,
              "version_minor": 0
            },
            "text/plain": [
              "Evaluating:   0%|          | 0/1 [00:00<?, ?it/s]"
            ]
          },
          "metadata": {},
          "output_type": "display_data"
        },
        {
          "name": "stdout",
          "output_type": "stream",
          "text": [
            "Accuracy: 83.95% for params: embed_dim=32, hidden_dim=64, dropout_rate=0.1, lr=0.0005, wd=0, bs=32\n",
            "Time taken: 59.80s, estimated time left: 325.85min\n"
          ]
        },
        {
          "data": {
            "application/vnd.jupyter.widget-view+json": {
              "model_id": "7d51602b017e4184a86dd8cfefe774c0",
              "version_major": 2,
              "version_minor": 0
            },
            "text/plain": [
              "Evaluating:   0%|          | 0/1 [00:00<?, ?it/s]"
            ]
          },
          "metadata": {},
          "output_type": "display_data"
        },
        {
          "name": "stdout",
          "output_type": "stream",
          "text": [
            "Accuracy: 80.20% for params: embed_dim=32, hidden_dim=64, dropout_rate=0.1, lr=0.0005, wd=0, bs=64\n",
            "Time taken: 33.50s, estimated time left: 324.93min\n"
          ]
        },
        {
          "data": {
            "application/vnd.jupyter.widget-view+json": {
              "model_id": "b6dd3af4bb084171a60a8b613b34fbce",
              "version_major": 2,
              "version_minor": 0
            },
            "text/plain": [
              "Evaluating:   0%|          | 0/1 [00:00<?, ?it/s]"
            ]
          },
          "metadata": {},
          "output_type": "display_data"
        },
        {
          "name": "stdout",
          "output_type": "stream",
          "text": [
            "Accuracy: 73.60% for params: embed_dim=32, hidden_dim=64, dropout_rate=0.1, lr=0.0005, wd=0, bs=128\n",
            "Time taken: 25.62s, estimated time left: 323.52min\n"
          ]
        },
        {
          "data": {
            "application/vnd.jupyter.widget-view+json": {
              "model_id": "35976b1a2edf4531b4132e07bb7322ae",
              "version_major": 2,
              "version_minor": 0
            },
            "text/plain": [
              "Evaluating:   0%|          | 0/1 [00:00<?, ?it/s]"
            ]
          },
          "metadata": {},
          "output_type": "display_data"
        },
        {
          "name": "stdout",
          "output_type": "stream",
          "text": [
            "Accuracy: 84.70% for params: embed_dim=32, hidden_dim=64, dropout_rate=0.1, lr=0.0005, wd=0.01, bs=32\n",
            "Time taken: 60.66s, estimated time left: 324.32min\n"
          ]
        },
        {
          "data": {
            "application/vnd.jupyter.widget-view+json": {
              "model_id": "83d1a90a9d6e468b9068aa4a942bf23d",
              "version_major": 2,
              "version_minor": 0
            },
            "text/plain": [
              "Evaluating:   0%|          | 0/1 [00:00<?, ?it/s]"
            ]
          },
          "metadata": {},
          "output_type": "display_data"
        },
        {
          "name": "stdout",
          "output_type": "stream",
          "text": [
            "Accuracy: 83.25% for params: embed_dim=32, hidden_dim=64, dropout_rate=0.1, lr=0.0005, wd=0.01, bs=64\n",
            "Time taken: 34.57s, estimated time left: 323.47min\n"
          ]
        },
        {
          "data": {
            "application/vnd.jupyter.widget-view+json": {
              "model_id": "dfeb59b4f29a43f5bda32fe5a0dc3f78",
              "version_major": 2,
              "version_minor": 0
            },
            "text/plain": [
              "Evaluating:   0%|          | 0/1 [00:00<?, ?it/s]"
            ]
          },
          "metadata": {},
          "output_type": "display_data"
        },
        {
          "name": "stdout",
          "output_type": "stream",
          "text": [
            "Accuracy: 66.45% for params: embed_dim=32, hidden_dim=64, dropout_rate=0.1, lr=0.0005, wd=0.01, bs=128\n",
            "Time taken: 26.02s, estimated time left: 322.10min\n"
          ]
        },
        {
          "data": {
            "application/vnd.jupyter.widget-view+json": {
              "model_id": "e774ef1cd69f491bb7ed1ed7888135c0",
              "version_major": 2,
              "version_minor": 0
            },
            "text/plain": [
              "Evaluating:   0%|          | 0/1 [00:00<?, ?it/s]"
            ]
          },
          "metadata": {},
          "output_type": "display_data"
        },
        {
          "name": "stdout",
          "output_type": "stream",
          "text": [
            "Accuracy: 84.80% for params: embed_dim=32, hidden_dim=64, dropout_rate=0.1, lr=0.0005, wd=0.05, bs=32\n",
            "Time taken: 60.68s, estimated time left: 322.86min\n"
          ]
        },
        {
          "data": {
            "application/vnd.jupyter.widget-view+json": {
              "model_id": "3318da16cb4843c4841a8a814c0e756d",
              "version_major": 2,
              "version_minor": 0
            },
            "text/plain": [
              "Evaluating:   0%|          | 0/1 [00:00<?, ?it/s]"
            ]
          },
          "metadata": {},
          "output_type": "display_data"
        },
        {
          "name": "stdout",
          "output_type": "stream",
          "text": [
            "Accuracy: 75.55% for params: embed_dim=32, hidden_dim=64, dropout_rate=0.1, lr=0.0005, wd=0.05, bs=64\n",
            "Time taken: 33.80s, estimated time left: 321.97min\n"
          ]
        },
        {
          "data": {
            "application/vnd.jupyter.widget-view+json": {
              "model_id": "c0f0ff986dd04314a91ff305205a976e",
              "version_major": 2,
              "version_minor": 0
            },
            "text/plain": [
              "Evaluating:   0%|          | 0/1 [00:00<?, ?it/s]"
            ]
          },
          "metadata": {},
          "output_type": "display_data"
        },
        {
          "name": "stdout",
          "output_type": "stream",
          "text": [
            "Accuracy: 53.45% for params: embed_dim=32, hidden_dim=64, dropout_rate=0.1, lr=0.0005, wd=0.05, bs=128\n",
            "Time taken: 26.19s, estimated time left: 320.63min\n"
          ]
        },
        {
          "data": {
            "application/vnd.jupyter.widget-view+json": {
              "model_id": "1bf91aa9060c46fb8eb48b3228807915",
              "version_major": 2,
              "version_minor": 0
            },
            "text/plain": [
              "Evaluating:   0%|          | 0/1 [00:00<?, ?it/s]"
            ]
          },
          "metadata": {},
          "output_type": "display_data"
        },
        {
          "name": "stdout",
          "output_type": "stream",
          "text": [
            "Accuracy: 87.05% for params: embed_dim=32, hidden_dim=64, dropout_rate=0.1, lr=0.0005, wd=0.1, bs=32\n",
            "Time taken: 59.86s, estimated time left: 321.30min\n"
          ]
        },
        {
          "data": {
            "application/vnd.jupyter.widget-view+json": {
              "model_id": "1d77f4085da44f79bca08aaffae8f3a2",
              "version_major": 2,
              "version_minor": 0
            },
            "text/plain": [
              "Evaluating:   0%|          | 0/1 [00:00<?, ?it/s]"
            ]
          },
          "metadata": {},
          "output_type": "display_data"
        },
        {
          "name": "stdout",
          "output_type": "stream",
          "text": [
            "Accuracy: 82.30% for params: embed_dim=32, hidden_dim=64, dropout_rate=0.1, lr=0.0005, wd=0.1, bs=64\n",
            "Time taken: 34.39s, estimated time left: 320.44min\n"
          ]
        },
        {
          "data": {
            "application/vnd.jupyter.widget-view+json": {
              "model_id": "522c7d7b4e85453590b78afe330b37e3",
              "version_major": 2,
              "version_minor": 0
            },
            "text/plain": [
              "Evaluating:   0%|          | 0/1 [00:00<?, ?it/s]"
            ]
          },
          "metadata": {},
          "output_type": "display_data"
        },
        {
          "name": "stdout",
          "output_type": "stream",
          "text": [
            "Accuracy: 69.75% for params: embed_dim=32, hidden_dim=64, dropout_rate=0.1, lr=0.0005, wd=0.1, bs=128\n",
            "Time taken: 25.85s, estimated time left: 319.10min\n"
          ]
        },
        {
          "data": {
            "application/vnd.jupyter.widget-view+json": {
              "model_id": "005d9427626e47bc93eccf54e3af01ea",
              "version_major": 2,
              "version_minor": 0
            },
            "text/plain": [
              "Evaluating:   0%|          | 0/1 [00:00<?, ?it/s]"
            ]
          },
          "metadata": {},
          "output_type": "display_data"
        },
        {
          "name": "stdout",
          "output_type": "stream",
          "text": [
            "Accuracy: 79.90% for params: embed_dim=32, hidden_dim=64, dropout_rate=0.2, lr=0.001, wd=0, bs=32\n",
            "Time taken: 61.22s, estimated time left: 319.81min\n"
          ]
        },
        {
          "data": {
            "application/vnd.jupyter.widget-view+json": {
              "model_id": "d89b95e8ee6e42c28bc32f714596abf2",
              "version_major": 2,
              "version_minor": 0
            },
            "text/plain": [
              "Evaluating:   0%|          | 0/1 [00:00<?, ?it/s]"
            ]
          },
          "metadata": {},
          "output_type": "display_data"
        },
        {
          "name": "stdout",
          "output_type": "stream",
          "text": [
            "Accuracy: 88.65% for params: embed_dim=32, hidden_dim=64, dropout_rate=0.2, lr=0.001, wd=0, bs=64\n",
            "Time taken: 33.92s, estimated time left: 318.93min\n"
          ]
        },
        {
          "data": {
            "application/vnd.jupyter.widget-view+json": {
              "model_id": "51db3bf31352452d9b739bb4df1fe279",
              "version_major": 2,
              "version_minor": 0
            },
            "text/plain": [
              "Evaluating:   0%|          | 0/1 [00:00<?, ?it/s]"
            ]
          },
          "metadata": {},
          "output_type": "display_data"
        },
        {
          "name": "stdout",
          "output_type": "stream",
          "text": [
            "Accuracy: 86.55% for params: embed_dim=32, hidden_dim=64, dropout_rate=0.2, lr=0.001, wd=0, bs=128\n",
            "Time taken: 25.72s, estimated time left: 317.59min\n"
          ]
        },
        {
          "data": {
            "application/vnd.jupyter.widget-view+json": {
              "model_id": "469899849d0e426c861f3b65019f7913",
              "version_major": 2,
              "version_minor": 0
            },
            "text/plain": [
              "Evaluating:   0%|          | 0/1 [00:00<?, ?it/s]"
            ]
          },
          "metadata": {},
          "output_type": "display_data"
        },
        {
          "name": "stdout",
          "output_type": "stream",
          "text": [
            "Accuracy: 90.30% for params: embed_dim=32, hidden_dim=64, dropout_rate=0.2, lr=0.001, wd=0.01, bs=32\n",
            "Time taken: 60.67s, estimated time left: 318.23min\n"
          ]
        },
        {
          "data": {
            "application/vnd.jupyter.widget-view+json": {
              "model_id": "6208ebe2bfb64ad9b3a29b6d8297d60f",
              "version_major": 2,
              "version_minor": 0
            },
            "text/plain": [
              "Evaluating:   0%|          | 0/1 [00:00<?, ?it/s]"
            ]
          },
          "metadata": {},
          "output_type": "display_data"
        },
        {
          "name": "stdout",
          "output_type": "stream",
          "text": [
            "Accuracy: 88.90% for params: embed_dim=32, hidden_dim=64, dropout_rate=0.2, lr=0.001, wd=0.01, bs=64\n",
            "Time taken: 33.69s, estimated time left: 317.34min\n"
          ]
        },
        {
          "data": {
            "application/vnd.jupyter.widget-view+json": {
              "model_id": "f6be3dcc5ccc45d18bdd2e16465f8628",
              "version_major": 2,
              "version_minor": 0
            },
            "text/plain": [
              "Evaluating:   0%|          | 0/1 [00:00<?, ?it/s]"
            ]
          },
          "metadata": {},
          "output_type": "display_data"
        },
        {
          "name": "stdout",
          "output_type": "stream",
          "text": [
            "Accuracy: 87.15% for params: embed_dim=32, hidden_dim=64, dropout_rate=0.2, lr=0.001, wd=0.01, bs=128\n",
            "Time taken: 25.79s, estimated time left: 316.02min\n"
          ]
        },
        {
          "data": {
            "application/vnd.jupyter.widget-view+json": {
              "model_id": "aec7062deff042e481f6e5133023a47d",
              "version_major": 2,
              "version_minor": 0
            },
            "text/plain": [
              "Evaluating:   0%|          | 0/1 [00:00<?, ?it/s]"
            ]
          },
          "metadata": {},
          "output_type": "display_data"
        },
        {
          "name": "stdout",
          "output_type": "stream",
          "text": [
            "Accuracy: 89.55% for params: embed_dim=32, hidden_dim=64, dropout_rate=0.2, lr=0.001, wd=0.05, bs=32\n",
            "Time taken: 61.34s, estimated time left: 316.66min\n"
          ]
        },
        {
          "data": {
            "application/vnd.jupyter.widget-view+json": {
              "model_id": "92043b6765a047b78b1d11d6c37fe6cb",
              "version_major": 2,
              "version_minor": 0
            },
            "text/plain": [
              "Evaluating:   0%|          | 0/1 [00:00<?, ?it/s]"
            ]
          },
          "metadata": {},
          "output_type": "display_data"
        },
        {
          "name": "stdout",
          "output_type": "stream",
          "text": [
            "Accuracy: 88.95% for params: embed_dim=32, hidden_dim=64, dropout_rate=0.2, lr=0.001, wd=0.05, bs=64\n",
            "Time taken: 34.32s, estimated time left: 315.81min\n"
          ]
        },
        {
          "data": {
            "application/vnd.jupyter.widget-view+json": {
              "model_id": "d69d2c596da34166bcb2e1b0b6bc1f97",
              "version_major": 2,
              "version_minor": 0
            },
            "text/plain": [
              "Evaluating:   0%|          | 0/1 [00:00<?, ?it/s]"
            ]
          },
          "metadata": {},
          "output_type": "display_data"
        },
        {
          "name": "stdout",
          "output_type": "stream",
          "text": [
            "Accuracy: 74.95% for params: embed_dim=32, hidden_dim=64, dropout_rate=0.2, lr=0.001, wd=0.05, bs=128\n",
            "Time taken: 26.01s, estimated time left: 314.52min\n"
          ]
        },
        {
          "data": {
            "application/vnd.jupyter.widget-view+json": {
              "model_id": "1ed09f2536df4313ab909a705dc6df04",
              "version_major": 2,
              "version_minor": 0
            },
            "text/plain": [
              "Evaluating:   0%|          | 0/1 [00:00<?, ?it/s]"
            ]
          },
          "metadata": {},
          "output_type": "display_data"
        },
        {
          "name": "stdout",
          "output_type": "stream",
          "text": [
            "Accuracy: 89.65% for params: embed_dim=32, hidden_dim=64, dropout_rate=0.2, lr=0.001, wd=0.1, bs=32\n",
            "Time taken: 61.79s, estimated time left: 315.15min\n"
          ]
        },
        {
          "data": {
            "application/vnd.jupyter.widget-view+json": {
              "model_id": "3f9282776a524572afb76eef23b235ac",
              "version_major": 2,
              "version_minor": 0
            },
            "text/plain": [
              "Evaluating:   0%|          | 0/1 [00:00<?, ?it/s]"
            ]
          },
          "metadata": {},
          "output_type": "display_data"
        },
        {
          "name": "stdout",
          "output_type": "stream",
          "text": [
            "Accuracy: 89.60% for params: embed_dim=32, hidden_dim=64, dropout_rate=0.2, lr=0.001, wd=0.1, bs=64\n",
            "Time taken: 33.54s, estimated time left: 314.26min\n"
          ]
        },
        {
          "data": {
            "application/vnd.jupyter.widget-view+json": {
              "model_id": "fe1534f76ffc40bb9667dac808efc9df",
              "version_major": 2,
              "version_minor": 0
            },
            "text/plain": [
              "Evaluating:   0%|          | 0/1 [00:00<?, ?it/s]"
            ]
          },
          "metadata": {},
          "output_type": "display_data"
        },
        {
          "name": "stdout",
          "output_type": "stream",
          "text": [
            "Accuracy: 87.75% for params: embed_dim=32, hidden_dim=64, dropout_rate=0.2, lr=0.001, wd=0.1, bs=128\n",
            "Time taken: 25.93s, estimated time left: 312.98min\n"
          ]
        },
        {
          "data": {
            "application/vnd.jupyter.widget-view+json": {
              "model_id": "5bdcd2a668344087b4ee0a211a049a85",
              "version_major": 2,
              "version_minor": 0
            },
            "text/plain": [
              "Evaluating:   0%|          | 0/1 [00:00<?, ?it/s]"
            ]
          },
          "metadata": {},
          "output_type": "display_data"
        },
        {
          "name": "stdout",
          "output_type": "stream",
          "text": [
            "Accuracy: 87.75% for params: embed_dim=32, hidden_dim=64, dropout_rate=0.2, lr=0.0007, wd=0, bs=32\n",
            "Time taken: 60.20s, estimated time left: 313.49min\n"
          ]
        },
        {
          "data": {
            "application/vnd.jupyter.widget-view+json": {
              "model_id": "0ec79523225748edb67554ce0aa0c6bb",
              "version_major": 2,
              "version_minor": 0
            },
            "text/plain": [
              "Evaluating:   0%|          | 0/1 [00:00<?, ?it/s]"
            ]
          },
          "metadata": {},
          "output_type": "display_data"
        },
        {
          "name": "stdout",
          "output_type": "stream",
          "text": [
            "Accuracy: 87.20% for params: embed_dim=32, hidden_dim=64, dropout_rate=0.2, lr=0.0007, wd=0, bs=64\n",
            "Time taken: 34.37s, estimated time left: 312.65min\n"
          ]
        },
        {
          "data": {
            "application/vnd.jupyter.widget-view+json": {
              "model_id": "a3e03a6fa3a644209e914007e27ad2f0",
              "version_major": 2,
              "version_minor": 0
            },
            "text/plain": [
              "Evaluating:   0%|          | 0/1 [00:00<?, ?it/s]"
            ]
          },
          "metadata": {},
          "output_type": "display_data"
        },
        {
          "name": "stdout",
          "output_type": "stream",
          "text": [
            "Accuracy: 79.60% for params: embed_dim=32, hidden_dim=64, dropout_rate=0.2, lr=0.0007, wd=0, bs=128\n",
            "Time taken: 26.00s, estimated time left: 311.38min\n"
          ]
        },
        {
          "data": {
            "application/vnd.jupyter.widget-view+json": {
              "model_id": "7a352f0a478349868d5b219046554d0b",
              "version_major": 2,
              "version_minor": 0
            },
            "text/plain": [
              "Evaluating:   0%|          | 0/1 [00:00<?, ?it/s]"
            ]
          },
          "metadata": {},
          "output_type": "display_data"
        },
        {
          "name": "stdout",
          "output_type": "stream",
          "text": [
            "Accuracy: 76.70% for params: embed_dim=32, hidden_dim=64, dropout_rate=0.2, lr=0.0007, wd=0.01, bs=32\n",
            "Time taken: 62.68s, estimated time left: 311.98min\n"
          ]
        },
        {
          "data": {
            "application/vnd.jupyter.widget-view+json": {
              "model_id": "4288d8fef1824c26b5117c78ee0d3fbf",
              "version_major": 2,
              "version_minor": 0
            },
            "text/plain": [
              "Evaluating:   0%|          | 0/1 [00:00<?, ?it/s]"
            ]
          },
          "metadata": {},
          "output_type": "display_data"
        },
        {
          "name": "stdout",
          "output_type": "stream",
          "text": [
            "Accuracy: 74.05% for params: embed_dim=32, hidden_dim=64, dropout_rate=0.2, lr=0.0007, wd=0.01, bs=64\n",
            "Time taken: 36.03s, estimated time left: 311.23min\n"
          ]
        },
        {
          "data": {
            "application/vnd.jupyter.widget-view+json": {
              "model_id": "e0adafe0bedc41c9870049a56fdaddf6",
              "version_major": 2,
              "version_minor": 0
            },
            "text/plain": [
              "Evaluating:   0%|          | 0/1 [00:00<?, ?it/s]"
            ]
          },
          "metadata": {},
          "output_type": "display_data"
        },
        {
          "name": "stdout",
          "output_type": "stream",
          "text": [
            "Accuracy: 78.80% for params: embed_dim=32, hidden_dim=64, dropout_rate=0.2, lr=0.0007, wd=0.01, bs=128\n",
            "Time taken: 26.22s, estimated time left: 309.98min\n"
          ]
        },
        {
          "data": {
            "application/vnd.jupyter.widget-view+json": {
              "model_id": "2c5a6ec7fcfa4215a58d0e7300daedde",
              "version_major": 2,
              "version_minor": 0
            },
            "text/plain": [
              "Evaluating:   0%|          | 0/1 [00:00<?, ?it/s]"
            ]
          },
          "metadata": {},
          "output_type": "display_data"
        },
        {
          "name": "stdout",
          "output_type": "stream",
          "text": [
            "Accuracy: 89.40% for params: embed_dim=32, hidden_dim=64, dropout_rate=0.2, lr=0.0007, wd=0.05, bs=32\n",
            "Time taken: 60.63s, estimated time left: 310.45min\n"
          ]
        },
        {
          "data": {
            "application/vnd.jupyter.widget-view+json": {
              "model_id": "268a01e076e44a0d96b2f5056ac42417",
              "version_major": 2,
              "version_minor": 0
            },
            "text/plain": [
              "Evaluating:   0%|          | 0/1 [00:00<?, ?it/s]"
            ]
          },
          "metadata": {},
          "output_type": "display_data"
        },
        {
          "name": "stdout",
          "output_type": "stream",
          "text": [
            "Accuracy: 83.05% for params: embed_dim=32, hidden_dim=64, dropout_rate=0.2, lr=0.0007, wd=0.05, bs=64\n",
            "Time taken: 33.50s, estimated time left: 309.57min\n"
          ]
        },
        {
          "data": {
            "application/vnd.jupyter.widget-view+json": {
              "model_id": "badef011b88348d09f802b4162de359b",
              "version_major": 2,
              "version_minor": 0
            },
            "text/plain": [
              "Evaluating:   0%|          | 0/1 [00:00<?, ?it/s]"
            ]
          },
          "metadata": {},
          "output_type": "display_data"
        },
        {
          "name": "stdout",
          "output_type": "stream",
          "text": [
            "Accuracy: 82.10% for params: embed_dim=32, hidden_dim=64, dropout_rate=0.2, lr=0.0007, wd=0.05, bs=128\n",
            "Time taken: 25.88s, estimated time left: 308.32min\n"
          ]
        },
        {
          "data": {
            "application/vnd.jupyter.widget-view+json": {
              "model_id": "7ed119df55604cbf9d41453a7243f80b",
              "version_major": 2,
              "version_minor": 0
            },
            "text/plain": [
              "Evaluating:   0%|          | 0/1 [00:00<?, ?it/s]"
            ]
          },
          "metadata": {},
          "output_type": "display_data"
        },
        {
          "name": "stdout",
          "output_type": "stream",
          "text": [
            "Accuracy: 89.20% for params: embed_dim=32, hidden_dim=64, dropout_rate=0.2, lr=0.0007, wd=0.1, bs=32\n",
            "Time taken: 62.72s, estimated time left: 308.87min\n"
          ]
        },
        {
          "data": {
            "application/vnd.jupyter.widget-view+json": {
              "model_id": "f34a79633c93475a82a3715f39c5130e",
              "version_major": 2,
              "version_minor": 0
            },
            "text/plain": [
              "Evaluating:   0%|          | 0/1 [00:00<?, ?it/s]"
            ]
          },
          "metadata": {},
          "output_type": "display_data"
        },
        {
          "name": "stdout",
          "output_type": "stream",
          "text": [
            "Accuracy: 87.15% for params: embed_dim=32, hidden_dim=64, dropout_rate=0.2, lr=0.0007, wd=0.1, bs=64\n",
            "Time taken: 34.12s, estimated time left: 308.02min\n"
          ]
        },
        {
          "data": {
            "application/vnd.jupyter.widget-view+json": {
              "model_id": "47f3802a28af42e287d02618f9bd9e43",
              "version_major": 2,
              "version_minor": 0
            },
            "text/plain": [
              "Evaluating:   0%|          | 0/1 [00:00<?, ?it/s]"
            ]
          },
          "metadata": {},
          "output_type": "display_data"
        },
        {
          "name": "stdout",
          "output_type": "stream",
          "text": [
            "Accuracy: 73.80% for params: embed_dim=32, hidden_dim=64, dropout_rate=0.2, lr=0.0007, wd=0.1, bs=128\n",
            "Time taken: 25.93s, estimated time left: 306.78min\n"
          ]
        },
        {
          "data": {
            "application/vnd.jupyter.widget-view+json": {
              "model_id": "403814e78075402abd3f8896a063bee0",
              "version_major": 2,
              "version_minor": 0
            },
            "text/plain": [
              "Evaluating:   0%|          | 0/1 [00:00<?, ?it/s]"
            ]
          },
          "metadata": {},
          "output_type": "display_data"
        },
        {
          "name": "stdout",
          "output_type": "stream",
          "text": [
            "Accuracy: 84.50% for params: embed_dim=32, hidden_dim=64, dropout_rate=0.2, lr=0.0005, wd=0, bs=32\n",
            "Time taken: 61.09s, estimated time left: 307.22min\n"
          ]
        },
        {
          "data": {
            "application/vnd.jupyter.widget-view+json": {
              "model_id": "42931c83fb6b49cbb4c709f6e024460a",
              "version_major": 2,
              "version_minor": 0
            },
            "text/plain": [
              "Evaluating:   0%|          | 0/1 [00:00<?, ?it/s]"
            ]
          },
          "metadata": {},
          "output_type": "display_data"
        },
        {
          "name": "stdout",
          "output_type": "stream",
          "text": [
            "Accuracy: 80.95% for params: embed_dim=32, hidden_dim=64, dropout_rate=0.2, lr=0.0005, wd=0, bs=64\n",
            "Time taken: 33.61s, estimated time left: 306.35min\n"
          ]
        },
        {
          "data": {
            "application/vnd.jupyter.widget-view+json": {
              "model_id": "60cbfd2f36e64c2e98775e1ce8e0c4fc",
              "version_major": 2,
              "version_minor": 0
            },
            "text/plain": [
              "Evaluating:   0%|          | 0/1 [00:00<?, ?it/s]"
            ]
          },
          "metadata": {},
          "output_type": "display_data"
        },
        {
          "name": "stdout",
          "output_type": "stream",
          "text": [
            "Accuracy: 76.70% for params: embed_dim=32, hidden_dim=64, dropout_rate=0.2, lr=0.0005, wd=0, bs=128\n",
            "Time taken: 25.68s, estimated time left: 305.11min\n"
          ]
        },
        {
          "data": {
            "application/vnd.jupyter.widget-view+json": {
              "model_id": "7591e8e1bdb14e2da6f70b2dabc0e3d3",
              "version_major": 2,
              "version_minor": 0
            },
            "text/plain": [
              "Evaluating:   0%|          | 0/1 [00:00<?, ?it/s]"
            ]
          },
          "metadata": {},
          "output_type": "display_data"
        },
        {
          "name": "stdout",
          "output_type": "stream",
          "text": [
            "Accuracy: 86.75% for params: embed_dim=32, hidden_dim=64, dropout_rate=0.2, lr=0.0005, wd=0.01, bs=32\n",
            "Time taken: 60.77s, estimated time left: 305.51min\n"
          ]
        },
        {
          "data": {
            "application/vnd.jupyter.widget-view+json": {
              "model_id": "dc4df9ad54924405b83c07019488e46d",
              "version_major": 2,
              "version_minor": 0
            },
            "text/plain": [
              "Evaluating:   0%|          | 0/1 [00:00<?, ?it/s]"
            ]
          },
          "metadata": {},
          "output_type": "display_data"
        },
        {
          "name": "stdout",
          "output_type": "stream",
          "text": [
            "Accuracy: 80.10% for params: embed_dim=32, hidden_dim=64, dropout_rate=0.2, lr=0.0005, wd=0.01, bs=64\n",
            "Time taken: 35.05s, estimated time left: 304.71min\n"
          ]
        },
        {
          "data": {
            "application/vnd.jupyter.widget-view+json": {
              "model_id": "23f18a7934d1497ba17462d54e86ba84",
              "version_major": 2,
              "version_minor": 0
            },
            "text/plain": [
              "Evaluating:   0%|          | 0/1 [00:00<?, ?it/s]"
            ]
          },
          "metadata": {},
          "output_type": "display_data"
        },
        {
          "name": "stdout",
          "output_type": "stream",
          "text": [
            "Accuracy: 77.10% for params: embed_dim=32, hidden_dim=64, dropout_rate=0.2, lr=0.0005, wd=0.01, bs=128\n",
            "Time taken: 25.75s, estimated time left: 303.49min\n"
          ]
        },
        {
          "data": {
            "application/vnd.jupyter.widget-view+json": {
              "model_id": "fc165de2294b43958d7e99ec0cc1e3e6",
              "version_major": 2,
              "version_minor": 0
            },
            "text/plain": [
              "Evaluating:   0%|          | 0/1 [00:00<?, ?it/s]"
            ]
          },
          "metadata": {},
          "output_type": "display_data"
        },
        {
          "name": "stdout",
          "output_type": "stream",
          "text": [
            "Accuracy: 87.65% for params: embed_dim=32, hidden_dim=64, dropout_rate=0.2, lr=0.0005, wd=0.05, bs=32\n",
            "Time taken: 63.07s, estimated time left: 303.96min\n"
          ]
        },
        {
          "data": {
            "application/vnd.jupyter.widget-view+json": {
              "model_id": "d9f4e87fa06b42f68af3e38175d9e4f6",
              "version_major": 2,
              "version_minor": 0
            },
            "text/plain": [
              "Evaluating:   0%|          | 0/1 [00:00<?, ?it/s]"
            ]
          },
          "metadata": {},
          "output_type": "display_data"
        },
        {
          "name": "stdout",
          "output_type": "stream",
          "text": [
            "Accuracy: 73.65% for params: embed_dim=32, hidden_dim=64, dropout_rate=0.2, lr=0.0005, wd=0.05, bs=64\n",
            "Time taken: 34.77s, estimated time left: 303.15min\n"
          ]
        },
        {
          "data": {
            "application/vnd.jupyter.widget-view+json": {
              "model_id": "0f83854402a447858efa6b97d4cf5ae6",
              "version_major": 2,
              "version_minor": 0
            },
            "text/plain": [
              "Evaluating:   0%|          | 0/1 [00:00<?, ?it/s]"
            ]
          },
          "metadata": {},
          "output_type": "display_data"
        },
        {
          "name": "stdout",
          "output_type": "stream",
          "text": [
            "Accuracy: 50.90% for params: embed_dim=32, hidden_dim=64, dropout_rate=0.2, lr=0.0005, wd=0.05, bs=128\n",
            "Time taken: 25.88s, estimated time left: 301.94min\n"
          ]
        },
        {
          "data": {
            "application/vnd.jupyter.widget-view+json": {
              "model_id": "0093768d11eb4127bf024ea1161d4e63",
              "version_major": 2,
              "version_minor": 0
            },
            "text/plain": [
              "Evaluating:   0%|          | 0/1 [00:00<?, ?it/s]"
            ]
          },
          "metadata": {},
          "output_type": "display_data"
        },
        {
          "name": "stdout",
          "output_type": "stream",
          "text": [
            "Accuracy: 88.75% for params: embed_dim=32, hidden_dim=64, dropout_rate=0.2, lr=0.0005, wd=0.1, bs=32\n",
            "Time taken: 60.58s, estimated time left: 302.27min\n"
          ]
        },
        {
          "data": {
            "application/vnd.jupyter.widget-view+json": {
              "model_id": "7c6dcfae70d54176afb6ce6185b87e43",
              "version_major": 2,
              "version_minor": 0
            },
            "text/plain": [
              "Evaluating:   0%|          | 0/1 [00:00<?, ?it/s]"
            ]
          },
          "metadata": {},
          "output_type": "display_data"
        },
        {
          "name": "stdout",
          "output_type": "stream",
          "text": [
            "Accuracy: 55.45% for params: embed_dim=32, hidden_dim=64, dropout_rate=0.2, lr=0.0005, wd=0.1, bs=64\n",
            "Time taken: 33.99s, estimated time left: 301.43min\n"
          ]
        },
        {
          "data": {
            "application/vnd.jupyter.widget-view+json": {
              "model_id": "e403f407e37b49dc8edfad8a139cc01a",
              "version_major": 2,
              "version_minor": 0
            },
            "text/plain": [
              "Evaluating:   0%|          | 0/1 [00:00<?, ?it/s]"
            ]
          },
          "metadata": {},
          "output_type": "display_data"
        },
        {
          "name": "stdout",
          "output_type": "stream",
          "text": [
            "Accuracy: 74.15% for params: embed_dim=32, hidden_dim=64, dropout_rate=0.2, lr=0.0005, wd=0.1, bs=128\n",
            "Time taken: 25.74s, estimated time left: 300.23min\n"
          ]
        },
        {
          "data": {
            "application/vnd.jupyter.widget-view+json": {
              "model_id": "8f86946c4780409aad1e1ae485d823fb",
              "version_major": 2,
              "version_minor": 0
            },
            "text/plain": [
              "Evaluating:   0%|          | 0/1 [00:00<?, ?it/s]"
            ]
          },
          "metadata": {},
          "output_type": "display_data"
        },
        {
          "name": "stdout",
          "output_type": "stream",
          "text": [
            "Accuracy: 89.05% for params: embed_dim=32, hidden_dim=64, dropout_rate=0.3, lr=0.001, wd=0, bs=32\n",
            "Time taken: 61.42s, estimated time left: 300.58min\n"
          ]
        },
        {
          "data": {
            "application/vnd.jupyter.widget-view+json": {
              "model_id": "43799ac1257241149ef5f166016d6eb6",
              "version_major": 2,
              "version_minor": 0
            },
            "text/plain": [
              "Evaluating:   0%|          | 0/1 [00:00<?, ?it/s]"
            ]
          },
          "metadata": {},
          "output_type": "display_data"
        },
        {
          "name": "stdout",
          "output_type": "stream",
          "text": [
            "Accuracy: 87.70% for params: embed_dim=32, hidden_dim=64, dropout_rate=0.3, lr=0.001, wd=0, bs=64\n",
            "Time taken: 34.70s, estimated time left: 299.77min\n"
          ]
        },
        {
          "data": {
            "application/vnd.jupyter.widget-view+json": {
              "model_id": "81a5591e5ce9471a8edb8b2775841456",
              "version_major": 2,
              "version_minor": 0
            },
            "text/plain": [
              "Evaluating:   0%|          | 0/1 [00:00<?, ?it/s]"
            ]
          },
          "metadata": {},
          "output_type": "display_data"
        },
        {
          "name": "stdout",
          "output_type": "stream",
          "text": [
            "Accuracy: 69.40% for params: embed_dim=32, hidden_dim=64, dropout_rate=0.3, lr=0.001, wd=0, bs=128\n",
            "Time taken: 26.20s, estimated time left: 298.60min\n"
          ]
        },
        {
          "data": {
            "application/vnd.jupyter.widget-view+json": {
              "model_id": "306169379e3f42499b0007bea793ed49",
              "version_major": 2,
              "version_minor": 0
            },
            "text/plain": [
              "Evaluating:   0%|          | 0/1 [00:00<?, ?it/s]"
            ]
          },
          "metadata": {},
          "output_type": "display_data"
        },
        {
          "name": "stdout",
          "output_type": "stream",
          "text": [
            "Accuracy: 89.80% for params: embed_dim=32, hidden_dim=64, dropout_rate=0.3, lr=0.001, wd=0.01, bs=32\n",
            "Time taken: 62.59s, estimated time left: 298.97min\n"
          ]
        },
        {
          "data": {
            "application/vnd.jupyter.widget-view+json": {
              "model_id": "9867f69c3a5e4eb5b89aa8ba8ff76c4a",
              "version_major": 2,
              "version_minor": 0
            },
            "text/plain": [
              "Evaluating:   0%|          | 0/1 [00:00<?, ?it/s]"
            ]
          },
          "metadata": {},
          "output_type": "display_data"
        },
        {
          "name": "stdout",
          "output_type": "stream",
          "text": [
            "Accuracy: 87.90% for params: embed_dim=32, hidden_dim=64, dropout_rate=0.3, lr=0.001, wd=0.01, bs=64\n",
            "Time taken: 34.06s, estimated time left: 298.13min\n"
          ]
        },
        {
          "data": {
            "application/vnd.jupyter.widget-view+json": {
              "model_id": "6b94c5b42d154ca3ab2da42cbadf1784",
              "version_major": 2,
              "version_minor": 0
            },
            "text/plain": [
              "Evaluating:   0%|          | 0/1 [00:00<?, ?it/s]"
            ]
          },
          "metadata": {},
          "output_type": "display_data"
        },
        {
          "name": "stdout",
          "output_type": "stream",
          "text": [
            "Accuracy: 88.10% for params: embed_dim=32, hidden_dim=64, dropout_rate=0.3, lr=0.001, wd=0.01, bs=128\n",
            "Time taken: 25.94s, estimated time left: 296.96min\n"
          ]
        },
        {
          "data": {
            "application/vnd.jupyter.widget-view+json": {
              "model_id": "6a8487321ab544a69043f9568dc233f1",
              "version_major": 2,
              "version_minor": 0
            },
            "text/plain": [
              "Evaluating:   0%|          | 0/1 [00:00<?, ?it/s]"
            ]
          },
          "metadata": {},
          "output_type": "display_data"
        },
        {
          "name": "stdout",
          "output_type": "stream",
          "text": [
            "Accuracy: 90.20% for params: embed_dim=32, hidden_dim=64, dropout_rate=0.3, lr=0.001, wd=0.05, bs=32\n",
            "Time taken: 61.21s, estimated time left: 297.25min\n"
          ]
        },
        {
          "data": {
            "application/vnd.jupyter.widget-view+json": {
              "model_id": "c79c57554dcc4e8699fcd1bc18dbc17b",
              "version_major": 2,
              "version_minor": 0
            },
            "text/plain": [
              "Evaluating:   0%|          | 0/1 [00:00<?, ?it/s]"
            ]
          },
          "metadata": {},
          "output_type": "display_data"
        },
        {
          "name": "stdout",
          "output_type": "stream",
          "text": [
            "Accuracy: 90.05% for params: embed_dim=32, hidden_dim=64, dropout_rate=0.3, lr=0.001, wd=0.05, bs=64\n",
            "Time taken: 34.44s, estimated time left: 296.43min\n"
          ]
        },
        {
          "data": {
            "application/vnd.jupyter.widget-view+json": {
              "model_id": "e64d17dbb896411f8e100f6195c29889",
              "version_major": 2,
              "version_minor": 0
            },
            "text/plain": [
              "Evaluating:   0%|          | 0/1 [00:00<?, ?it/s]"
            ]
          },
          "metadata": {},
          "output_type": "display_data"
        },
        {
          "name": "stdout",
          "output_type": "stream",
          "text": [
            "Accuracy: 88.25% for params: embed_dim=32, hidden_dim=64, dropout_rate=0.3, lr=0.001, wd=0.05, bs=128\n",
            "Time taken: 26.21s, estimated time left: 295.28min\n"
          ]
        },
        {
          "data": {
            "application/vnd.jupyter.widget-view+json": {
              "model_id": "0c5afa5866b64d8390f1ed6feff39a9d",
              "version_major": 2,
              "version_minor": 0
            },
            "text/plain": [
              "Evaluating:   0%|          | 0/1 [00:00<?, ?it/s]"
            ]
          },
          "metadata": {},
          "output_type": "display_data"
        },
        {
          "name": "stdout",
          "output_type": "stream",
          "text": [
            "Accuracy: 90.10% for params: embed_dim=32, hidden_dim=64, dropout_rate=0.3, lr=0.001, wd=0.1, bs=32\n",
            "Time taken: 63.29s, estimated time left: 295.63min\n"
          ]
        },
        {
          "data": {
            "application/vnd.jupyter.widget-view+json": {
              "model_id": "79cacdd5d80a4ff3842d10ee05b70a61",
              "version_major": 2,
              "version_minor": 0
            },
            "text/plain": [
              "Evaluating:   0%|          | 0/1 [00:00<?, ?it/s]"
            ]
          },
          "metadata": {},
          "output_type": "display_data"
        },
        {
          "name": "stdout",
          "output_type": "stream",
          "text": [
            "Accuracy: 90.10% for params: embed_dim=32, hidden_dim=64, dropout_rate=0.3, lr=0.001, wd=0.1, bs=64\n",
            "Time taken: 33.97s, estimated time left: 294.79min\n"
          ]
        },
        {
          "data": {
            "application/vnd.jupyter.widget-view+json": {
              "model_id": "493c5149d31446fd9690259c6e2fd7d0",
              "version_major": 2,
              "version_minor": 0
            },
            "text/plain": [
              "Evaluating:   0%|          | 0/1 [00:00<?, ?it/s]"
            ]
          },
          "metadata": {},
          "output_type": "display_data"
        },
        {
          "name": "stdout",
          "output_type": "stream",
          "text": [
            "Accuracy: 88.00% for params: embed_dim=32, hidden_dim=64, dropout_rate=0.3, lr=0.001, wd=0.1, bs=128\n",
            "Time taken: 25.90s, estimated time left: 293.64min\n"
          ]
        },
        {
          "data": {
            "application/vnd.jupyter.widget-view+json": {
              "model_id": "b6f6ec1f18834bde997bbcb43f79499d",
              "version_major": 2,
              "version_minor": 0
            },
            "text/plain": [
              "Evaluating:   0%|          | 0/1 [00:00<?, ?it/s]"
            ]
          },
          "metadata": {},
          "output_type": "display_data"
        },
        {
          "name": "stdout",
          "output_type": "stream",
          "text": [
            "Accuracy: 84.05% for params: embed_dim=32, hidden_dim=64, dropout_rate=0.3, lr=0.0007, wd=0, bs=32\n",
            "Time taken: 61.33s, estimated time left: 293.89min\n"
          ]
        },
        {
          "data": {
            "application/vnd.jupyter.widget-view+json": {
              "model_id": "2449b2551a8849a69a02259e4618f44f",
              "version_major": 2,
              "version_minor": 0
            },
            "text/plain": [
              "Evaluating:   0%|          | 0/1 [00:00<?, ?it/s]"
            ]
          },
          "metadata": {},
          "output_type": "display_data"
        },
        {
          "name": "stdout",
          "output_type": "stream",
          "text": [
            "Accuracy: 86.75% for params: embed_dim=32, hidden_dim=64, dropout_rate=0.3, lr=0.0007, wd=0, bs=64\n",
            "Time taken: 34.38s, estimated time left: 293.07min\n"
          ]
        },
        {
          "data": {
            "application/vnd.jupyter.widget-view+json": {
              "model_id": "efad1387d2b347ceb3989ab6134ed028",
              "version_major": 2,
              "version_minor": 0
            },
            "text/plain": [
              "Evaluating:   0%|          | 0/1 [00:00<?, ?it/s]"
            ]
          },
          "metadata": {},
          "output_type": "display_data"
        },
        {
          "name": "stdout",
          "output_type": "stream",
          "text": [
            "Accuracy: 77.90% for params: embed_dim=32, hidden_dim=64, dropout_rate=0.3, lr=0.0007, wd=0, bs=128\n",
            "Time taken: 26.12s, estimated time left: 291.94min\n"
          ]
        },
        {
          "data": {
            "application/vnd.jupyter.widget-view+json": {
              "model_id": "8d7dfd6717ef474ea990bea7c145dc8d",
              "version_major": 2,
              "version_minor": 0
            },
            "text/plain": [
              "Evaluating:   0%|          | 0/1 [00:00<?, ?it/s]"
            ]
          },
          "metadata": {},
          "output_type": "display_data"
        },
        {
          "name": "stdout",
          "output_type": "stream",
          "text": [
            "Accuracy: 88.05% for params: embed_dim=32, hidden_dim=64, dropout_rate=0.3, lr=0.0007, wd=0.01, bs=32\n",
            "Time taken: 62.04s, estimated time left: 292.19min\n"
          ]
        },
        {
          "data": {
            "application/vnd.jupyter.widget-view+json": {
              "model_id": "0fe83ab9710144e7976dd51a99bc9836",
              "version_major": 2,
              "version_minor": 0
            },
            "text/plain": [
              "Evaluating:   0%|          | 0/1 [00:00<?, ?it/s]"
            ]
          },
          "metadata": {},
          "output_type": "display_data"
        },
        {
          "name": "stdout",
          "output_type": "stream",
          "text": [
            "Accuracy: 82.50% for params: embed_dim=32, hidden_dim=64, dropout_rate=0.3, lr=0.0007, wd=0.01, bs=64\n",
            "Time taken: 35.57s, estimated time left: 291.43min\n"
          ]
        },
        {
          "data": {
            "application/vnd.jupyter.widget-view+json": {
              "model_id": "83d5c50229f948e3a10b7408998fda5b",
              "version_major": 2,
              "version_minor": 0
            },
            "text/plain": [
              "Evaluating:   0%|          | 0/1 [00:00<?, ?it/s]"
            ]
          },
          "metadata": {},
          "output_type": "display_data"
        },
        {
          "name": "stdout",
          "output_type": "stream",
          "text": [
            "Accuracy: 79.70% for params: embed_dim=32, hidden_dim=64, dropout_rate=0.3, lr=0.0007, wd=0.01, bs=128\n",
            "Time taken: 25.80s, estimated time left: 290.29min\n"
          ]
        },
        {
          "data": {
            "application/vnd.jupyter.widget-view+json": {
              "model_id": "b41fbd0ede0e491e8e1cec7755f4802d",
              "version_major": 2,
              "version_minor": 0
            },
            "text/plain": [
              "Evaluating:   0%|          | 0/1 [00:00<?, ?it/s]"
            ]
          },
          "metadata": {},
          "output_type": "display_data"
        },
        {
          "name": "stdout",
          "output_type": "stream",
          "text": [
            "Accuracy: 90.15% for params: embed_dim=32, hidden_dim=64, dropout_rate=0.3, lr=0.0007, wd=0.05, bs=32\n",
            "Time taken: 61.51s, estimated time left: 290.50min\n"
          ]
        },
        {
          "data": {
            "application/vnd.jupyter.widget-view+json": {
              "model_id": "38d770b77e8345b08cbc16d515cfaa0a",
              "version_major": 2,
              "version_minor": 0
            },
            "text/plain": [
              "Evaluating:   0%|          | 0/1 [00:00<?, ?it/s]"
            ]
          },
          "metadata": {},
          "output_type": "display_data"
        },
        {
          "name": "stdout",
          "output_type": "stream",
          "text": [
            "Accuracy: 87.00% for params: embed_dim=32, hidden_dim=64, dropout_rate=0.3, lr=0.0007, wd=0.05, bs=64\n",
            "Time taken: 33.91s, estimated time left: 289.67min\n"
          ]
        },
        {
          "data": {
            "application/vnd.jupyter.widget-view+json": {
              "model_id": "57ec9df066fd4229a714bae4bfca79d5",
              "version_major": 2,
              "version_minor": 0
            },
            "text/plain": [
              "Evaluating:   0%|          | 0/1 [00:00<?, ?it/s]"
            ]
          },
          "metadata": {},
          "output_type": "display_data"
        },
        {
          "name": "stdout",
          "output_type": "stream",
          "text": [
            "Accuracy: 72.40% for params: embed_dim=32, hidden_dim=64, dropout_rate=0.3, lr=0.0007, wd=0.05, bs=128\n",
            "Time taken: 25.77s, estimated time left: 288.54min\n"
          ]
        },
        {
          "data": {
            "application/vnd.jupyter.widget-view+json": {
              "model_id": "c938f5ef651f43938e130647a8241e64",
              "version_major": 2,
              "version_minor": 0
            },
            "text/plain": [
              "Evaluating:   0%|          | 0/1 [00:00<?, ?it/s]"
            ]
          },
          "metadata": {},
          "output_type": "display_data"
        },
        {
          "name": "stdout",
          "output_type": "stream",
          "text": [
            "Accuracy: 89.25% for params: embed_dim=32, hidden_dim=64, dropout_rate=0.3, lr=0.0007, wd=0.1, bs=32\n",
            "Time taken: 61.92s, estimated time left: 288.75min\n"
          ]
        },
        {
          "data": {
            "application/vnd.jupyter.widget-view+json": {
              "model_id": "6f8f0102fe7546a4b60ad8ffa527490a",
              "version_major": 2,
              "version_minor": 0
            },
            "text/plain": [
              "Evaluating:   0%|          | 0/1 [00:00<?, ?it/s]"
            ]
          },
          "metadata": {},
          "output_type": "display_data"
        },
        {
          "name": "stdout",
          "output_type": "stream",
          "text": [
            "Accuracy: 78.80% for params: embed_dim=32, hidden_dim=64, dropout_rate=0.3, lr=0.0007, wd=0.1, bs=64\n",
            "Time taken: 35.08s, estimated time left: 287.96min\n"
          ]
        },
        {
          "data": {
            "application/vnd.jupyter.widget-view+json": {
              "model_id": "34c9dc9af5284e378622bc71642429f6",
              "version_major": 2,
              "version_minor": 0
            },
            "text/plain": [
              "Evaluating:   0%|          | 0/1 [00:00<?, ?it/s]"
            ]
          },
          "metadata": {},
          "output_type": "display_data"
        },
        {
          "name": "stdout",
          "output_type": "stream",
          "text": [
            "Accuracy: 67.65% for params: embed_dim=32, hidden_dim=64, dropout_rate=0.3, lr=0.0007, wd=0.1, bs=128\n",
            "Time taken: 26.07s, estimated time left: 286.85min\n"
          ]
        },
        {
          "data": {
            "application/vnd.jupyter.widget-view+json": {
              "model_id": "5b0ed1598ea84a8bb234470f948691d2",
              "version_major": 2,
              "version_minor": 0
            },
            "text/plain": [
              "Evaluating:   0%|          | 0/1 [00:00<?, ?it/s]"
            ]
          },
          "metadata": {},
          "output_type": "display_data"
        },
        {
          "name": "stdout",
          "output_type": "stream",
          "text": [
            "Accuracy: 83.45% for params: embed_dim=32, hidden_dim=64, dropout_rate=0.3, lr=0.0005, wd=0, bs=32\n",
            "Time taken: 61.61s, estimated time left: 287.03min\n"
          ]
        },
        {
          "data": {
            "application/vnd.jupyter.widget-view+json": {
              "model_id": "fb475c5b9efa4dc9a5c31254d2c03b75",
              "version_major": 2,
              "version_minor": 0
            },
            "text/plain": [
              "Evaluating:   0%|          | 0/1 [00:00<?, ?it/s]"
            ]
          },
          "metadata": {},
          "output_type": "display_data"
        },
        {
          "name": "stdout",
          "output_type": "stream",
          "text": [
            "Accuracy: 62.20% for params: embed_dim=32, hidden_dim=64, dropout_rate=0.3, lr=0.0005, wd=0, bs=64\n",
            "Time taken: 35.00s, estimated time left: 286.24min\n"
          ]
        },
        {
          "data": {
            "application/vnd.jupyter.widget-view+json": {
              "model_id": "9f4b06fc9fc54d36b5473ad320e3cc18",
              "version_major": 2,
              "version_minor": 0
            },
            "text/plain": [
              "Evaluating:   0%|          | 0/1 [00:00<?, ?it/s]"
            ]
          },
          "metadata": {},
          "output_type": "display_data"
        },
        {
          "name": "stdout",
          "output_type": "stream",
          "text": [
            "Accuracy: 51.25% for params: embed_dim=32, hidden_dim=64, dropout_rate=0.3, lr=0.0005, wd=0, bs=128\n",
            "Time taken: 25.76s, estimated time left: 285.13min\n"
          ]
        },
        {
          "data": {
            "application/vnd.jupyter.widget-view+json": {
              "model_id": "0d3aed94aa5344d3a0342819b6d4c8cd",
              "version_major": 2,
              "version_minor": 0
            },
            "text/plain": [
              "Evaluating:   0%|          | 0/1 [00:00<?, ?it/s]"
            ]
          },
          "metadata": {},
          "output_type": "display_data"
        },
        {
          "name": "stdout",
          "output_type": "stream",
          "text": [
            "Accuracy: 78.75% for params: embed_dim=32, hidden_dim=64, dropout_rate=0.3, lr=0.0005, wd=0.01, bs=32\n",
            "Time taken: 72.65s, estimated time left: 285.68min\n"
          ]
        },
        {
          "data": {
            "application/vnd.jupyter.widget-view+json": {
              "model_id": "043d929b956e47b7a2b79f2437efb1c3",
              "version_major": 2,
              "version_minor": 0
            },
            "text/plain": [
              "Evaluating:   0%|          | 0/1 [00:00<?, ?it/s]"
            ]
          },
          "metadata": {},
          "output_type": "display_data"
        },
        {
          "name": "stdout",
          "output_type": "stream",
          "text": [
            "Accuracy: 77.65% for params: embed_dim=32, hidden_dim=64, dropout_rate=0.3, lr=0.0005, wd=0.01, bs=64\n",
            "Time taken: 37.58s, estimated time left: 284.98min\n"
          ]
        },
        {
          "data": {
            "application/vnd.jupyter.widget-view+json": {
              "model_id": "265a6b51e0e6498ea6bf78a46017546a",
              "version_major": 2,
              "version_minor": 0
            },
            "text/plain": [
              "Evaluating:   0%|          | 0/1 [00:00<?, ?it/s]"
            ]
          },
          "metadata": {},
          "output_type": "display_data"
        },
        {
          "name": "stdout",
          "output_type": "stream",
          "text": [
            "Accuracy: 78.35% for params: embed_dim=32, hidden_dim=64, dropout_rate=0.3, lr=0.0005, wd=0.01, bs=128\n",
            "Time taken: 26.87s, estimated time left: 283.91min\n"
          ]
        },
        {
          "data": {
            "application/vnd.jupyter.widget-view+json": {
              "model_id": "fd5bc118082e4bf8ba8af7b47ea7984b",
              "version_major": 2,
              "version_minor": 0
            },
            "text/plain": [
              "Evaluating:   0%|          | 0/1 [00:00<?, ?it/s]"
            ]
          },
          "metadata": {},
          "output_type": "display_data"
        },
        {
          "name": "stdout",
          "output_type": "stream",
          "text": [
            "Accuracy: 77.10% for params: embed_dim=32, hidden_dim=64, dropout_rate=0.3, lr=0.0005, wd=0.05, bs=32\n",
            "Time taken: 66.40s, estimated time left: 284.21min\n"
          ]
        },
        {
          "data": {
            "application/vnd.jupyter.widget-view+json": {
              "model_id": "b1e03ca2018c42f8a8502405d0535413",
              "version_major": 2,
              "version_minor": 0
            },
            "text/plain": [
              "Evaluating:   0%|          | 0/1 [00:00<?, ?it/s]"
            ]
          },
          "metadata": {},
          "output_type": "display_data"
        },
        {
          "name": "stdout",
          "output_type": "stream",
          "text": [
            "Accuracy: 55.75% for params: embed_dim=32, hidden_dim=64, dropout_rate=0.3, lr=0.0005, wd=0.05, bs=64\n",
            "Time taken: 37.14s, estimated time left: 283.50min\n"
          ]
        },
        {
          "data": {
            "application/vnd.jupyter.widget-view+json": {
              "model_id": "08cd029d1937433b9dc42d827f02ed9a",
              "version_major": 2,
              "version_minor": 0
            },
            "text/plain": [
              "Evaluating:   0%|          | 0/1 [00:00<?, ?it/s]"
            ]
          },
          "metadata": {},
          "output_type": "display_data"
        },
        {
          "name": "stdout",
          "output_type": "stream",
          "text": [
            "Accuracy: 56.40% for params: embed_dim=32, hidden_dim=64, dropout_rate=0.3, lr=0.0005, wd=0.05, bs=128\n",
            "Time taken: 26.62s, estimated time left: 282.43min\n"
          ]
        },
        {
          "data": {
            "application/vnd.jupyter.widget-view+json": {
              "model_id": "c8209f4a055c473f831e83291763b319",
              "version_major": 2,
              "version_minor": 0
            },
            "text/plain": [
              "Evaluating:   0%|          | 0/1 [00:00<?, ?it/s]"
            ]
          },
          "metadata": {},
          "output_type": "display_data"
        },
        {
          "name": "stdout",
          "output_type": "stream",
          "text": [
            "Accuracy: 86.75% for params: embed_dim=32, hidden_dim=64, dropout_rate=0.3, lr=0.0005, wd=0.1, bs=32\n",
            "Time taken: 66.35s, estimated time left: 282.70min\n"
          ]
        },
        {
          "data": {
            "application/vnd.jupyter.widget-view+json": {
              "model_id": "562ce83eaa1a4cc5bc8e0850c1de914e",
              "version_major": 2,
              "version_minor": 0
            },
            "text/plain": [
              "Evaluating:   0%|          | 0/1 [00:00<?, ?it/s]"
            ]
          },
          "metadata": {},
          "output_type": "display_data"
        },
        {
          "name": "stdout",
          "output_type": "stream",
          "text": [
            "Accuracy: 78.05% for params: embed_dim=32, hidden_dim=64, dropout_rate=0.3, lr=0.0005, wd=0.1, bs=64\n",
            "Time taken: 36.73s, estimated time left: 281.97min\n"
          ]
        },
        {
          "data": {
            "application/vnd.jupyter.widget-view+json": {
              "model_id": "f823f2536a6d48d9ab12dec289f43fed",
              "version_major": 2,
              "version_minor": 0
            },
            "text/plain": [
              "Evaluating:   0%|          | 0/1 [00:00<?, ?it/s]"
            ]
          },
          "metadata": {},
          "output_type": "display_data"
        },
        {
          "name": "stdout",
          "output_type": "stream",
          "text": [
            "Accuracy: 58.30% for params: embed_dim=32, hidden_dim=64, dropout_rate=0.3, lr=0.0005, wd=0.1, bs=128\n",
            "Time taken: 26.01s, estimated time left: 280.89min\n"
          ]
        },
        {
          "data": {
            "application/vnd.jupyter.widget-view+json": {
              "model_id": "543e2581703d4e639d669a0d874d78bb",
              "version_major": 2,
              "version_minor": 0
            },
            "text/plain": [
              "Evaluating:   0%|          | 0/1 [00:00<?, ?it/s]"
            ]
          },
          "metadata": {},
          "output_type": "display_data"
        },
        {
          "name": "stdout",
          "output_type": "stream",
          "text": [
            "Accuracy: 85.80% for params: embed_dim=64, hidden_dim=64, dropout_rate=0.1, lr=0.001, wd=0, bs=32\n",
            "Time taken: 62.79s, estimated time left: 281.02min\n"
          ]
        },
        {
          "data": {
            "application/vnd.jupyter.widget-view+json": {
              "model_id": "96e55e464f1c4dae84dec5bd75c6f787",
              "version_major": 2,
              "version_minor": 0
            },
            "text/plain": [
              "Evaluating:   0%|          | 0/1 [00:00<?, ?it/s]"
            ]
          },
          "metadata": {},
          "output_type": "display_data"
        },
        {
          "name": "stdout",
          "output_type": "stream",
          "text": [
            "Accuracy: 88.55% for params: embed_dim=64, hidden_dim=64, dropout_rate=0.1, lr=0.001, wd=0, bs=64\n",
            "Time taken: 37.63s, estimated time left: 280.32min\n"
          ]
        },
        {
          "data": {
            "application/vnd.jupyter.widget-view+json": {
              "model_id": "bfb2af25e764498089b12a05426ead68",
              "version_major": 2,
              "version_minor": 0
            },
            "text/plain": [
              "Evaluating:   0%|          | 0/1 [00:00<?, ?it/s]"
            ]
          },
          "metadata": {},
          "output_type": "display_data"
        },
        {
          "name": "stdout",
          "output_type": "stream",
          "text": [
            "Accuracy: 86.35% for params: embed_dim=64, hidden_dim=64, dropout_rate=0.1, lr=0.001, wd=0, bs=128\n",
            "Time taken: 27.91s, estimated time left: 279.30min\n"
          ]
        },
        {
          "data": {
            "application/vnd.jupyter.widget-view+json": {
              "model_id": "c78de3a7af434822a3e4ba506971a0cf",
              "version_major": 2,
              "version_minor": 0
            },
            "text/plain": [
              "Evaluating:   0%|          | 0/1 [00:00<?, ?it/s]"
            ]
          },
          "metadata": {},
          "output_type": "display_data"
        },
        {
          "name": "stdout",
          "output_type": "stream",
          "text": [
            "Accuracy: 89.20% for params: embed_dim=64, hidden_dim=64, dropout_rate=0.1, lr=0.001, wd=0.01, bs=32\n",
            "Time taken: 60.16s, estimated time left: 279.34min\n"
          ]
        },
        {
          "data": {
            "application/vnd.jupyter.widget-view+json": {
              "model_id": "18d55102958a4792a46bff264f809d06",
              "version_major": 2,
              "version_minor": 0
            },
            "text/plain": [
              "Evaluating:   0%|          | 0/1 [00:00<?, ?it/s]"
            ]
          },
          "metadata": {},
          "output_type": "display_data"
        },
        {
          "name": "stdout",
          "output_type": "stream",
          "text": [
            "Accuracy: 87.20% for params: embed_dim=64, hidden_dim=64, dropout_rate=0.1, lr=0.001, wd=0.01, bs=64\n",
            "Time taken: 33.03s, estimated time left: 278.49min\n"
          ]
        },
        {
          "data": {
            "application/vnd.jupyter.widget-view+json": {
              "model_id": "9624119da6fe4acebb10a8eba43ea3a5",
              "version_major": 2,
              "version_minor": 0
            },
            "text/plain": [
              "Evaluating:   0%|          | 0/1 [00:00<?, ?it/s]"
            ]
          },
          "metadata": {},
          "output_type": "display_data"
        },
        {
          "name": "stdout",
          "output_type": "stream",
          "text": [
            "Accuracy: 86.75% for params: embed_dim=64, hidden_dim=64, dropout_rate=0.1, lr=0.001, wd=0.01, bs=128\n",
            "Time taken: 26.82s, estimated time left: 277.44min\n"
          ]
        },
        {
          "data": {
            "application/vnd.jupyter.widget-view+json": {
              "model_id": "36a612d4bc2045d1ac8ab2667b7e7e52",
              "version_major": 2,
              "version_minor": 0
            },
            "text/plain": [
              "Evaluating:   0%|          | 0/1 [00:00<?, ?it/s]"
            ]
          },
          "metadata": {},
          "output_type": "display_data"
        },
        {
          "name": "stdout",
          "output_type": "stream",
          "text": [
            "Accuracy: 87.95% for params: embed_dim=64, hidden_dim=64, dropout_rate=0.1, lr=0.001, wd=0.05, bs=32\n",
            "Time taken: 57.49s, estimated time left: 277.37min\n"
          ]
        },
        {
          "data": {
            "application/vnd.jupyter.widget-view+json": {
              "model_id": "30ae2a9395f9427291251242075e0099",
              "version_major": 2,
              "version_minor": 0
            },
            "text/plain": [
              "Evaluating:   0%|          | 0/1 [00:00<?, ?it/s]"
            ]
          },
          "metadata": {},
          "output_type": "display_data"
        },
        {
          "name": "stdout",
          "output_type": "stream",
          "text": [
            "Accuracy: 88.25% for params: embed_dim=64, hidden_dim=64, dropout_rate=0.1, lr=0.001, wd=0.05, bs=64\n",
            "Time taken: 35.96s, estimated time left: 276.62min\n"
          ]
        },
        {
          "data": {
            "application/vnd.jupyter.widget-view+json": {
              "model_id": "93359fca78fa444aa93230099777b719",
              "version_major": 2,
              "version_minor": 0
            },
            "text/plain": [
              "Evaluating:   0%|          | 0/1 [00:00<?, ?it/s]"
            ]
          },
          "metadata": {},
          "output_type": "display_data"
        },
        {
          "name": "stdout",
          "output_type": "stream",
          "text": [
            "Accuracy: 85.75% for params: embed_dim=64, hidden_dim=64, dropout_rate=0.1, lr=0.001, wd=0.05, bs=128\n",
            "Time taken: 27.49s, estimated time left: 275.60min\n"
          ]
        },
        {
          "data": {
            "application/vnd.jupyter.widget-view+json": {
              "model_id": "eb8c55505de3498891f69e6f6213359f",
              "version_major": 2,
              "version_minor": 0
            },
            "text/plain": [
              "Evaluating:   0%|          | 0/1 [00:00<?, ?it/s]"
            ]
          },
          "metadata": {},
          "output_type": "display_data"
        },
        {
          "name": "stdout",
          "output_type": "stream",
          "text": [
            "Accuracy: 89.10% for params: embed_dim=64, hidden_dim=64, dropout_rate=0.1, lr=0.001, wd=0.1, bs=32\n",
            "Time taken: 57.19s, estimated time left: 275.51min\n"
          ]
        },
        {
          "data": {
            "application/vnd.jupyter.widget-view+json": {
              "model_id": "92002afdad8a426b9726ad1c7dfdd083",
              "version_major": 2,
              "version_minor": 0
            },
            "text/plain": [
              "Evaluating:   0%|          | 0/1 [00:00<?, ?it/s]"
            ]
          },
          "metadata": {},
          "output_type": "display_data"
        },
        {
          "name": "stdout",
          "output_type": "stream",
          "text": [
            "Accuracy: 89.15% for params: embed_dim=64, hidden_dim=64, dropout_rate=0.1, lr=0.001, wd=0.1, bs=64\n",
            "Time taken: 32.28s, estimated time left: 274.65min\n"
          ]
        },
        {
          "data": {
            "application/vnd.jupyter.widget-view+json": {
              "model_id": "2720104c43fd41dabb380a1fcb1aa6cd",
              "version_major": 2,
              "version_minor": 0
            },
            "text/plain": [
              "Evaluating:   0%|          | 0/1 [00:00<?, ?it/s]"
            ]
          },
          "metadata": {},
          "output_type": "display_data"
        },
        {
          "name": "stdout",
          "output_type": "stream",
          "text": [
            "Accuracy: 85.00% for params: embed_dim=64, hidden_dim=64, dropout_rate=0.1, lr=0.001, wd=0.1, bs=128\n",
            "Time taken: 26.58s, estimated time left: 273.61min\n"
          ]
        },
        {
          "data": {
            "application/vnd.jupyter.widget-view+json": {
              "model_id": "410aef482dc740c986f6b20c83028532",
              "version_major": 2,
              "version_minor": 0
            },
            "text/plain": [
              "Evaluating:   0%|          | 0/1 [00:00<?, ?it/s]"
            ]
          },
          "metadata": {},
          "output_type": "display_data"
        },
        {
          "name": "stdout",
          "output_type": "stream",
          "text": [
            "Accuracy: 87.00% for params: embed_dim=64, hidden_dim=64, dropout_rate=0.1, lr=0.0007, wd=0, bs=32\n",
            "Time taken: 60.74s, estimated time left: 273.62min\n"
          ]
        },
        {
          "data": {
            "application/vnd.jupyter.widget-view+json": {
              "model_id": "30032ce6d6d64a98a8d27ef45e2be0cc",
              "version_major": 2,
              "version_minor": 0
            },
            "text/plain": [
              "Evaluating:   0%|          | 0/1 [00:00<?, ?it/s]"
            ]
          },
          "metadata": {},
          "output_type": "display_data"
        },
        {
          "name": "stdout",
          "output_type": "stream",
          "text": [
            "Accuracy: 86.70% for params: embed_dim=64, hidden_dim=64, dropout_rate=0.1, lr=0.0007, wd=0, bs=64\n",
            "Time taken: 34.44s, estimated time left: 272.82min\n"
          ]
        },
        {
          "data": {
            "application/vnd.jupyter.widget-view+json": {
              "model_id": "19cc314a1f3f4898b82d3abd0f16e249",
              "version_major": 2,
              "version_minor": 0
            },
            "text/plain": [
              "Evaluating:   0%|          | 0/1 [00:00<?, ?it/s]"
            ]
          },
          "metadata": {},
          "output_type": "display_data"
        },
        {
          "name": "stdout",
          "output_type": "stream",
          "text": [
            "Accuracy: 83.95% for params: embed_dim=64, hidden_dim=64, dropout_rate=0.1, lr=0.0007, wd=0, bs=128\n",
            "Time taken: 27.50s, estimated time left: 271.82min\n"
          ]
        },
        {
          "data": {
            "application/vnd.jupyter.widget-view+json": {
              "model_id": "627af595b1d141579081d2eb1caffad1",
              "version_major": 2,
              "version_minor": 0
            },
            "text/plain": [
              "Evaluating:   0%|          | 0/1 [00:00<?, ?it/s]"
            ]
          },
          "metadata": {},
          "output_type": "display_data"
        },
        {
          "name": "stdout",
          "output_type": "stream",
          "text": [
            "Accuracy: 86.90% for params: embed_dim=64, hidden_dim=64, dropout_rate=0.1, lr=0.0007, wd=0.01, bs=32\n",
            "Time taken: 66.08s, estimated time left: 271.97min\n"
          ]
        },
        {
          "data": {
            "application/vnd.jupyter.widget-view+json": {
              "model_id": "97966a72138b479491eefc6e49aa8f6e",
              "version_major": 2,
              "version_minor": 0
            },
            "text/plain": [
              "Evaluating:   0%|          | 0/1 [00:00<?, ?it/s]"
            ]
          },
          "metadata": {},
          "output_type": "display_data"
        },
        {
          "name": "stdout",
          "output_type": "stream",
          "text": [
            "Accuracy: 86.00% for params: embed_dim=64, hidden_dim=64, dropout_rate=0.1, lr=0.0007, wd=0.01, bs=64\n",
            "Time taken: 39.52s, estimated time left: 271.33min\n"
          ]
        },
        {
          "data": {
            "application/vnd.jupyter.widget-view+json": {
              "model_id": "6d999cc9d5e14315bb333970ad730371",
              "version_major": 2,
              "version_minor": 0
            },
            "text/plain": [
              "Evaluating:   0%|          | 0/1 [00:00<?, ?it/s]"
            ]
          },
          "metadata": {},
          "output_type": "display_data"
        },
        {
          "name": "stdout",
          "output_type": "stream",
          "text": [
            "Accuracy: 83.90% for params: embed_dim=64, hidden_dim=64, dropout_rate=0.1, lr=0.0007, wd=0.01, bs=128\n",
            "Time taken: 28.58s, estimated time left: 270.36min\n"
          ]
        },
        {
          "data": {
            "application/vnd.jupyter.widget-view+json": {
              "model_id": "5495567faa494089aae3e03853c82c9b",
              "version_major": 2,
              "version_minor": 0
            },
            "text/plain": [
              "Evaluating:   0%|          | 0/1 [00:00<?, ?it/s]"
            ]
          },
          "metadata": {},
          "output_type": "display_data"
        },
        {
          "name": "stdout",
          "output_type": "stream",
          "text": [
            "Accuracy: 87.65% for params: embed_dim=64, hidden_dim=64, dropout_rate=0.1, lr=0.0007, wd=0.05, bs=32\n",
            "Time taken: 75.35s, estimated time left: 270.77min\n"
          ]
        },
        {
          "data": {
            "application/vnd.jupyter.widget-view+json": {
              "model_id": "dee2ff1fece440e681b974df62742ca9",
              "version_major": 2,
              "version_minor": 0
            },
            "text/plain": [
              "Evaluating:   0%|          | 0/1 [00:00<?, ?it/s]"
            ]
          },
          "metadata": {},
          "output_type": "display_data"
        },
        {
          "name": "stdout",
          "output_type": "stream",
          "text": [
            "Accuracy: 87.05% for params: embed_dim=64, hidden_dim=64, dropout_rate=0.1, lr=0.0007, wd=0.05, bs=64\n",
            "Time taken: 40.50s, estimated time left: 270.15min\n"
          ]
        },
        {
          "data": {
            "application/vnd.jupyter.widget-view+json": {
              "model_id": "003d4c2f782042a69856fdbe80b1812e",
              "version_major": 2,
              "version_minor": 0
            },
            "text/plain": [
              "Evaluating:   0%|          | 0/1 [00:00<?, ?it/s]"
            ]
          },
          "metadata": {},
          "output_type": "display_data"
        },
        {
          "name": "stdout",
          "output_type": "stream",
          "text": [
            "Accuracy: 77.50% for params: embed_dim=64, hidden_dim=64, dropout_rate=0.1, lr=0.0007, wd=0.05, bs=128\n",
            "Time taken: 28.31s, estimated time left: 269.17min\n"
          ]
        },
        {
          "data": {
            "application/vnd.jupyter.widget-view+json": {
              "model_id": "b13434eb023249a4bebbf21a4205a1de",
              "version_major": 2,
              "version_minor": 0
            },
            "text/plain": [
              "Evaluating:   0%|          | 0/1 [00:00<?, ?it/s]"
            ]
          },
          "metadata": {},
          "output_type": "display_data"
        },
        {
          "name": "stdout",
          "output_type": "stream",
          "text": [
            "Accuracy: 88.10% for params: embed_dim=64, hidden_dim=64, dropout_rate=0.1, lr=0.0007, wd=0.1, bs=32\n",
            "Time taken: 64.69s, estimated time left: 269.25min\n"
          ]
        },
        {
          "data": {
            "application/vnd.jupyter.widget-view+json": {
              "model_id": "bd50a723172249c2bbe6a84eeb03acda",
              "version_major": 2,
              "version_minor": 0
            },
            "text/plain": [
              "Evaluating:   0%|          | 0/1 [00:00<?, ?it/s]"
            ]
          },
          "metadata": {},
          "output_type": "display_data"
        },
        {
          "name": "stdout",
          "output_type": "stream",
          "text": [
            "Accuracy: 85.55% for params: embed_dim=64, hidden_dim=64, dropout_rate=0.1, lr=0.0007, wd=0.1, bs=64\n",
            "Time taken: 35.36s, estimated time left: 268.47min\n"
          ]
        },
        {
          "data": {
            "application/vnd.jupyter.widget-view+json": {
              "model_id": "addb668f4df7430591a70cb7fea7e74f",
              "version_major": 2,
              "version_minor": 0
            },
            "text/plain": [
              "Evaluating:   0%|          | 0/1 [00:00<?, ?it/s]"
            ]
          },
          "metadata": {},
          "output_type": "display_data"
        },
        {
          "name": "stdout",
          "output_type": "stream",
          "text": [
            "Accuracy: 83.30% for params: embed_dim=64, hidden_dim=64, dropout_rate=0.1, lr=0.0007, wd=0.1, bs=128\n",
            "Time taken: 27.97s, estimated time left: 267.49min\n"
          ]
        },
        {
          "data": {
            "application/vnd.jupyter.widget-view+json": {
              "model_id": "61a788da46204c4280dd9c0c74f5fef6",
              "version_major": 2,
              "version_minor": 0
            },
            "text/plain": [
              "Evaluating:   0%|          | 0/1 [00:00<?, ?it/s]"
            ]
          },
          "metadata": {},
          "output_type": "display_data"
        },
        {
          "name": "stdout",
          "output_type": "stream",
          "text": [
            "Accuracy: 84.80% for params: embed_dim=64, hidden_dim=64, dropout_rate=0.1, lr=0.0005, wd=0, bs=32\n",
            "Time taken: 61.25s, estimated time left: 267.45min\n"
          ]
        },
        {
          "data": {
            "application/vnd.jupyter.widget-view+json": {
              "model_id": "87024eebbeb647f8885ef08f7ff3289f",
              "version_major": 2,
              "version_minor": 0
            },
            "text/plain": [
              "Evaluating:   0%|          | 0/1 [00:00<?, ?it/s]"
            ]
          },
          "metadata": {},
          "output_type": "display_data"
        },
        {
          "name": "stdout",
          "output_type": "stream",
          "text": [
            "Accuracy: 81.20% for params: embed_dim=64, hidden_dim=64, dropout_rate=0.1, lr=0.0005, wd=0, bs=64\n",
            "Time taken: 33.38s, estimated time left: 266.63min\n"
          ]
        },
        {
          "data": {
            "application/vnd.jupyter.widget-view+json": {
              "model_id": "017d517147fb4c88b72ab125815da8be",
              "version_major": 2,
              "version_minor": 0
            },
            "text/plain": [
              "Evaluating:   0%|          | 0/1 [00:00<?, ?it/s]"
            ]
          },
          "metadata": {},
          "output_type": "display_data"
        },
        {
          "name": "stdout",
          "output_type": "stream",
          "text": [
            "Accuracy: 75.05% for params: embed_dim=64, hidden_dim=64, dropout_rate=0.1, lr=0.0005, wd=0, bs=128\n",
            "Time taken: 27.70s, estimated time left: 265.65min\n"
          ]
        },
        {
          "data": {
            "application/vnd.jupyter.widget-view+json": {
              "model_id": "58709a095c35413cb03e880a9b938d57",
              "version_major": 2,
              "version_minor": 0
            },
            "text/plain": [
              "Evaluating:   0%|          | 0/1 [00:00<?, ?it/s]"
            ]
          },
          "metadata": {},
          "output_type": "display_data"
        },
        {
          "name": "stdout",
          "output_type": "stream",
          "text": [
            "Accuracy: 82.20% for params: embed_dim=64, hidden_dim=64, dropout_rate=0.1, lr=0.0005, wd=0.01, bs=32\n",
            "Time taken: 67.04s, estimated time left: 265.76min\n"
          ]
        },
        {
          "data": {
            "application/vnd.jupyter.widget-view+json": {
              "model_id": "b052787ebdca4d9887217fda5f17cb85",
              "version_major": 2,
              "version_minor": 0
            },
            "text/plain": [
              "Evaluating:   0%|          | 0/1 [00:00<?, ?it/s]"
            ]
          },
          "metadata": {},
          "output_type": "display_data"
        },
        {
          "name": "stdout",
          "output_type": "stream",
          "text": [
            "Accuracy: 79.35% for params: embed_dim=64, hidden_dim=64, dropout_rate=0.1, lr=0.0005, wd=0.01, bs=64\n",
            "Time taken: 44.53s, estimated time left: 265.24min\n"
          ]
        },
        {
          "data": {
            "application/vnd.jupyter.widget-view+json": {
              "model_id": "6d75e09ef53d40b9be7013714718b370",
              "version_major": 2,
              "version_minor": 0
            },
            "text/plain": [
              "Evaluating:   0%|          | 0/1 [00:00<?, ?it/s]"
            ]
          },
          "metadata": {},
          "output_type": "display_data"
        },
        {
          "name": "stdout",
          "output_type": "stream",
          "text": [
            "Accuracy: 82.40% for params: embed_dim=64, hidden_dim=64, dropout_rate=0.1, lr=0.0005, wd=0.01, bs=128\n",
            "Time taken: 28.76s, estimated time left: 264.29min\n"
          ]
        },
        {
          "data": {
            "application/vnd.jupyter.widget-view+json": {
              "model_id": "fd81cb779c9247a392702fdd37968445",
              "version_major": 2,
              "version_minor": 0
            },
            "text/plain": [
              "Evaluating:   0%|          | 0/1 [00:00<?, ?it/s]"
            ]
          },
          "metadata": {},
          "output_type": "display_data"
        },
        {
          "name": "stdout",
          "output_type": "stream",
          "text": [
            "Accuracy: 84.75% for params: embed_dim=64, hidden_dim=64, dropout_rate=0.1, lr=0.0005, wd=0.05, bs=32\n",
            "Time taken: 69.13s, estimated time left: 264.43min\n"
          ]
        },
        {
          "data": {
            "application/vnd.jupyter.widget-view+json": {
              "model_id": "88d8287801904e148ba212c57ae0adbc",
              "version_major": 2,
              "version_minor": 0
            },
            "text/plain": [
              "Evaluating:   0%|          | 0/1 [00:00<?, ?it/s]"
            ]
          },
          "metadata": {},
          "output_type": "display_data"
        },
        {
          "name": "stdout",
          "output_type": "stream",
          "text": [
            "Accuracy: 84.05% for params: embed_dim=64, hidden_dim=64, dropout_rate=0.1, lr=0.0005, wd=0.05, bs=64\n",
            "Time taken: 38.49s, estimated time left: 263.74min\n"
          ]
        },
        {
          "data": {
            "application/vnd.jupyter.widget-view+json": {
              "model_id": "0b36141031514e09bda01f7b19c99a0e",
              "version_major": 2,
              "version_minor": 0
            },
            "text/plain": [
              "Evaluating:   0%|          | 0/1 [00:00<?, ?it/s]"
            ]
          },
          "metadata": {},
          "output_type": "display_data"
        },
        {
          "name": "stdout",
          "output_type": "stream",
          "text": [
            "Accuracy: 82.15% for params: embed_dim=64, hidden_dim=64, dropout_rate=0.1, lr=0.0005, wd=0.05, bs=128\n",
            "Time taken: 28.81s, estimated time left: 262.80min\n"
          ]
        },
        {
          "data": {
            "application/vnd.jupyter.widget-view+json": {
              "model_id": "7aab945125f3462c8801ab43ea390c2d",
              "version_major": 2,
              "version_minor": 0
            },
            "text/plain": [
              "Evaluating:   0%|          | 0/1 [00:00<?, ?it/s]"
            ]
          },
          "metadata": {},
          "output_type": "display_data"
        },
        {
          "name": "stdout",
          "output_type": "stream",
          "text": [
            "Accuracy: 86.25% for params: embed_dim=64, hidden_dim=64, dropout_rate=0.1, lr=0.0005, wd=0.1, bs=32\n",
            "Time taken: 86.28s, estimated time left: 263.38min\n"
          ]
        },
        {
          "data": {
            "application/vnd.jupyter.widget-view+json": {
              "model_id": "5437d9de64304c53ae95d442ba234c9f",
              "version_major": 2,
              "version_minor": 0
            },
            "text/plain": [
              "Evaluating:   0%|          | 0/1 [00:00<?, ?it/s]"
            ]
          },
          "metadata": {},
          "output_type": "display_data"
        },
        {
          "name": "stdout",
          "output_type": "stream",
          "text": [
            "Accuracy: 80.65% for params: embed_dim=64, hidden_dim=64, dropout_rate=0.1, lr=0.0005, wd=0.1, bs=64\n",
            "Time taken: 45.90s, estimated time left: 262.88min\n"
          ]
        },
        {
          "data": {
            "application/vnd.jupyter.widget-view+json": {
              "model_id": "5a8669bcb58240dd83654c6b54167046",
              "version_major": 2,
              "version_minor": 0
            },
            "text/plain": [
              "Evaluating:   0%|          | 0/1 [00:00<?, ?it/s]"
            ]
          },
          "metadata": {},
          "output_type": "display_data"
        },
        {
          "name": "stdout",
          "output_type": "stream",
          "text": [
            "Accuracy: 72.05% for params: embed_dim=64, hidden_dim=64, dropout_rate=0.1, lr=0.0005, wd=0.1, bs=128\n",
            "Time taken: 27.87s, estimated time left: 261.91min\n"
          ]
        },
        {
          "data": {
            "application/vnd.jupyter.widget-view+json": {
              "model_id": "fc4e932b9457486a978457deb5f1c72d",
              "version_major": 2,
              "version_minor": 0
            },
            "text/plain": [
              "Evaluating:   0%|          | 0/1 [00:00<?, ?it/s]"
            ]
          },
          "metadata": {},
          "output_type": "display_data"
        },
        {
          "name": "stdout",
          "output_type": "stream",
          "text": [
            "Accuracy: 88.35% for params: embed_dim=64, hidden_dim=64, dropout_rate=0.2, lr=0.001, wd=0, bs=32\n",
            "Time taken: 63.27s, estimated time left: 261.86min\n"
          ]
        },
        {
          "data": {
            "application/vnd.jupyter.widget-view+json": {
              "model_id": "4c46c246cb1c4000ac8893459f46da46",
              "version_major": 2,
              "version_minor": 0
            },
            "text/plain": [
              "Evaluating:   0%|          | 0/1 [00:00<?, ?it/s]"
            ]
          },
          "metadata": {},
          "output_type": "display_data"
        },
        {
          "name": "stdout",
          "output_type": "stream",
          "text": [
            "Accuracy: 89.85% for params: embed_dim=64, hidden_dim=64, dropout_rate=0.2, lr=0.001, wd=0, bs=64\n",
            "Time taken: 38.23s, estimated time left: 261.16min\n"
          ]
        },
        {
          "data": {
            "application/vnd.jupyter.widget-view+json": {
              "model_id": "0824daf0199d45a397cfbec38f830725",
              "version_major": 2,
              "version_minor": 0
            },
            "text/plain": [
              "Evaluating:   0%|          | 0/1 [00:00<?, ?it/s]"
            ]
          },
          "metadata": {},
          "output_type": "display_data"
        },
        {
          "name": "stdout",
          "output_type": "stream",
          "text": [
            "Accuracy: 87.40% for params: embed_dim=64, hidden_dim=64, dropout_rate=0.2, lr=0.001, wd=0, bs=128\n",
            "Time taken: 26.91s, estimated time left: 260.16min\n"
          ]
        },
        {
          "data": {
            "application/vnd.jupyter.widget-view+json": {
              "model_id": "5c229229e6084995a71787b7f3b8ca07",
              "version_major": 2,
              "version_minor": 0
            },
            "text/plain": [
              "Evaluating:   0%|          | 0/1 [00:00<?, ?it/s]"
            ]
          },
          "metadata": {},
          "output_type": "display_data"
        },
        {
          "name": "stdout",
          "output_type": "stream",
          "text": [
            "Accuracy: 90.20% for params: embed_dim=64, hidden_dim=64, dropout_rate=0.2, lr=0.001, wd=0.01, bs=32\n",
            "Time taken: 69.62s, estimated time left: 260.27min\n"
          ]
        },
        {
          "data": {
            "application/vnd.jupyter.widget-view+json": {
              "model_id": "a916aec47e4e4472b349a6ecfc5d93b2",
              "version_major": 2,
              "version_minor": 0
            },
            "text/plain": [
              "Evaluating:   0%|          | 0/1 [00:00<?, ?it/s]"
            ]
          },
          "metadata": {},
          "output_type": "display_data"
        },
        {
          "name": "stdout",
          "output_type": "stream",
          "text": [
            "Accuracy: 89.05% for params: embed_dim=64, hidden_dim=64, dropout_rate=0.2, lr=0.001, wd=0.01, bs=64\n",
            "Time taken: 38.68s, estimated time left: 259.57min\n"
          ]
        },
        {
          "data": {
            "application/vnd.jupyter.widget-view+json": {
              "model_id": "b75ad2c2144f41ef89f02e6a9edd8622",
              "version_major": 2,
              "version_minor": 0
            },
            "text/plain": [
              "Evaluating:   0%|          | 0/1 [00:00<?, ?it/s]"
            ]
          },
          "metadata": {},
          "output_type": "display_data"
        },
        {
          "name": "stdout",
          "output_type": "stream",
          "text": [
            "Accuracy: 88.85% for params: embed_dim=64, hidden_dim=64, dropout_rate=0.2, lr=0.001, wd=0.01, bs=128\n",
            "Time taken: 28.38s, estimated time left: 258.62min\n"
          ]
        },
        {
          "data": {
            "application/vnd.jupyter.widget-view+json": {
              "model_id": "4542ef91417d46978da61c0b6b1c5bee",
              "version_major": 2,
              "version_minor": 0
            },
            "text/plain": [
              "Evaluating:   0%|          | 0/1 [00:00<?, ?it/s]"
            ]
          },
          "metadata": {},
          "output_type": "display_data"
        },
        {
          "name": "stdout",
          "output_type": "stream",
          "text": [
            "Accuracy: 89.45% for params: embed_dim=64, hidden_dim=64, dropout_rate=0.2, lr=0.001, wd=0.05, bs=32\n",
            "Time taken: 72.66s, estimated time left: 258.78min\n"
          ]
        },
        {
          "data": {
            "application/vnd.jupyter.widget-view+json": {
              "model_id": "e0b34be865d14ac78bb19c05964cf4b9",
              "version_major": 2,
              "version_minor": 0
            },
            "text/plain": [
              "Evaluating:   0%|          | 0/1 [00:00<?, ?it/s]"
            ]
          },
          "metadata": {},
          "output_type": "display_data"
        },
        {
          "name": "stdout",
          "output_type": "stream",
          "text": [
            "Accuracy: 90.25% for params: embed_dim=64, hidden_dim=64, dropout_rate=0.2, lr=0.001, wd=0.05, bs=64\n",
            "Time taken: 38.05s, estimated time left: 258.07min\n"
          ]
        },
        {
          "data": {
            "application/vnd.jupyter.widget-view+json": {
              "model_id": "c8d14b5fc0394196a77b00129a6d5f73",
              "version_major": 2,
              "version_minor": 0
            },
            "text/plain": [
              "Evaluating:   0%|          | 0/1 [00:00<?, ?it/s]"
            ]
          },
          "metadata": {},
          "output_type": "display_data"
        },
        {
          "name": "stdout",
          "output_type": "stream",
          "text": [
            "Accuracy: 88.60% for params: embed_dim=64, hidden_dim=64, dropout_rate=0.2, lr=0.001, wd=0.05, bs=128\n",
            "Time taken: 28.09s, estimated time left: 257.11min\n"
          ]
        },
        {
          "data": {
            "application/vnd.jupyter.widget-view+json": {
              "model_id": "040dd9e4a1c64908baf7c126f0ac7093",
              "version_major": 2,
              "version_minor": 0
            },
            "text/plain": [
              "Evaluating:   0%|          | 0/1 [00:00<?, ?it/s]"
            ]
          },
          "metadata": {},
          "output_type": "display_data"
        },
        {
          "name": "stdout",
          "output_type": "stream",
          "text": [
            "Accuracy: 90.15% for params: embed_dim=64, hidden_dim=64, dropout_rate=0.2, lr=0.001, wd=0.1, bs=32\n",
            "Time taken: 66.06s, estimated time left: 257.09min\n"
          ]
        },
        {
          "data": {
            "application/vnd.jupyter.widget-view+json": {
              "model_id": "8d62910e253747188d0712cfa134fd69",
              "version_major": 2,
              "version_minor": 0
            },
            "text/plain": [
              "Evaluating:   0%|          | 0/1 [00:00<?, ?it/s]"
            ]
          },
          "metadata": {},
          "output_type": "display_data"
        },
        {
          "name": "stdout",
          "output_type": "stream",
          "text": [
            "Accuracy: 90.10% for params: embed_dim=64, hidden_dim=64, dropout_rate=0.2, lr=0.001, wd=0.1, bs=64\n",
            "Time taken: 36.65s, estimated time left: 256.34min\n"
          ]
        },
        {
          "data": {
            "application/vnd.jupyter.widget-view+json": {
              "model_id": "e933f7702d8d40099a9e2b2daeba6f6a",
              "version_major": 2,
              "version_minor": 0
            },
            "text/plain": [
              "Evaluating:   0%|          | 0/1 [00:00<?, ?it/s]"
            ]
          },
          "metadata": {},
          "output_type": "display_data"
        },
        {
          "name": "stdout",
          "output_type": "stream",
          "text": [
            "Accuracy: 86.75% for params: embed_dim=64, hidden_dim=64, dropout_rate=0.2, lr=0.001, wd=0.1, bs=128\n",
            "Time taken: 27.52s, estimated time left: 255.38min\n"
          ]
        },
        {
          "data": {
            "application/vnd.jupyter.widget-view+json": {
              "model_id": "1a7031b150c6456db025ab21c6cc7dca",
              "version_major": 2,
              "version_minor": 0
            },
            "text/plain": [
              "Evaluating:   0%|          | 0/1 [00:00<?, ?it/s]"
            ]
          },
          "metadata": {},
          "output_type": "display_data"
        },
        {
          "name": "stdout",
          "output_type": "stream",
          "text": [
            "Accuracy: 88.25% for params: embed_dim=64, hidden_dim=64, dropout_rate=0.2, lr=0.0007, wd=0, bs=32\n",
            "Time taken: 69.97s, estimated time left: 255.43min\n"
          ]
        },
        {
          "data": {
            "application/vnd.jupyter.widget-view+json": {
              "model_id": "5143426ce72e4a5aa58ce326e3126689",
              "version_major": 2,
              "version_minor": 0
            },
            "text/plain": [
              "Evaluating:   0%|          | 0/1 [00:00<?, ?it/s]"
            ]
          },
          "metadata": {},
          "output_type": "display_data"
        },
        {
          "name": "stdout",
          "output_type": "stream",
          "text": [
            "Accuracy: 86.75% for params: embed_dim=64, hidden_dim=64, dropout_rate=0.2, lr=0.0007, wd=0, bs=64\n",
            "Time taken: 42.41s, estimated time left: 254.82min\n"
          ]
        },
        {
          "data": {
            "application/vnd.jupyter.widget-view+json": {
              "model_id": "d64fc8f4ba224217b473a681c30bea92",
              "version_major": 2,
              "version_minor": 0
            },
            "text/plain": [
              "Evaluating:   0%|          | 0/1 [00:00<?, ?it/s]"
            ]
          },
          "metadata": {},
          "output_type": "display_data"
        },
        {
          "name": "stdout",
          "output_type": "stream",
          "text": [
            "Accuracy: 81.55% for params: embed_dim=64, hidden_dim=64, dropout_rate=0.2, lr=0.0007, wd=0, bs=128\n",
            "Time taken: 28.28s, estimated time left: 253.88min\n"
          ]
        },
        {
          "data": {
            "application/vnd.jupyter.widget-view+json": {
              "model_id": "b08a59e2fe874bdc87861c8d32335047",
              "version_major": 2,
              "version_minor": 0
            },
            "text/plain": [
              "Evaluating:   0%|          | 0/1 [00:00<?, ?it/s]"
            ]
          },
          "metadata": {},
          "output_type": "display_data"
        },
        {
          "name": "stdout",
          "output_type": "stream",
          "text": [
            "Accuracy: 88.30% for params: embed_dim=64, hidden_dim=64, dropout_rate=0.2, lr=0.0007, wd=0.01, bs=32\n",
            "Time taken: 61.78s, estimated time left: 253.73min\n"
          ]
        },
        {
          "data": {
            "application/vnd.jupyter.widget-view+json": {
              "model_id": "954fbf442da84ee280f191e3bf231175",
              "version_major": 2,
              "version_minor": 0
            },
            "text/plain": [
              "Evaluating:   0%|          | 0/1 [00:00<?, ?it/s]"
            ]
          },
          "metadata": {},
          "output_type": "display_data"
        },
        {
          "name": "stdout",
          "output_type": "stream",
          "text": [
            "Accuracy: 88.45% for params: embed_dim=64, hidden_dim=64, dropout_rate=0.2, lr=0.0007, wd=0.01, bs=64\n",
            "Time taken: 34.55s, estimated time left: 252.93min\n"
          ]
        },
        {
          "data": {
            "application/vnd.jupyter.widget-view+json": {
              "model_id": "da4442e2af214b9096ba33f47bd1aeaf",
              "version_major": 2,
              "version_minor": 0
            },
            "text/plain": [
              "Evaluating:   0%|          | 0/1 [00:00<?, ?it/s]"
            ]
          },
          "metadata": {},
          "output_type": "display_data"
        },
        {
          "name": "stdout",
          "output_type": "stream",
          "text": [
            "Accuracy: 87.65% for params: embed_dim=64, hidden_dim=64, dropout_rate=0.2, lr=0.0007, wd=0.01, bs=128\n",
            "Time taken: 28.17s, estimated time left: 251.99min\n"
          ]
        },
        {
          "data": {
            "application/vnd.jupyter.widget-view+json": {
              "model_id": "e0c3c671ce174f84a685cd070626b83f",
              "version_major": 2,
              "version_minor": 0
            },
            "text/plain": [
              "Evaluating:   0%|          | 0/1 [00:00<?, ?it/s]"
            ]
          },
          "metadata": {},
          "output_type": "display_data"
        },
        {
          "name": "stdout",
          "output_type": "stream",
          "text": [
            "Accuracy: 88.90% for params: embed_dim=64, hidden_dim=64, dropout_rate=0.2, lr=0.0007, wd=0.05, bs=32\n",
            "Time taken: 63.89s, estimated time left: 251.87min\n"
          ]
        },
        {
          "data": {
            "application/vnd.jupyter.widget-view+json": {
              "model_id": "89fd596743e14386be78f9be1c491de9",
              "version_major": 2,
              "version_minor": 0
            },
            "text/plain": [
              "Evaluating:   0%|          | 0/1 [00:00<?, ?it/s]"
            ]
          },
          "metadata": {},
          "output_type": "display_data"
        },
        {
          "name": "stdout",
          "output_type": "stream",
          "text": [
            "Accuracy: 85.90% for params: embed_dim=64, hidden_dim=64, dropout_rate=0.2, lr=0.0007, wd=0.05, bs=64\n",
            "Time taken: 49.67s, estimated time left: 251.43min\n"
          ]
        },
        {
          "data": {
            "application/vnd.jupyter.widget-view+json": {
              "model_id": "938578e4c9d24ff886f46874d52158b8",
              "version_major": 2,
              "version_minor": 0
            },
            "text/plain": [
              "Evaluating:   0%|          | 0/1 [00:00<?, ?it/s]"
            ]
          },
          "metadata": {},
          "output_type": "display_data"
        },
        {
          "name": "stdout",
          "output_type": "stream",
          "text": [
            "Accuracy: 82.40% for params: embed_dim=64, hidden_dim=64, dropout_rate=0.2, lr=0.0007, wd=0.05, bs=128\n",
            "Time taken: 29.98s, estimated time left: 250.53min\n"
          ]
        }
      ],
      "source": [
        "import time\n",
        "\n",
        "def grid_search():\n",
        "    embed_dims = [32, 64, 128]\n",
        "    hidden_dims = {\n",
        "        32: [32, 64],\n",
        "        64: [64, 128],\n",
        "        128: [128, 256]\n",
        "    }\n",
        "    dropout_rates = [0.1, 0.2, 0.3]\n",
        "    learning_rates = [0.001, 0.0007, 0.0005]\n",
        "    weight_decays = [0, 0.01, 0.05, 0.1]\n",
        "    with_attention = [True]\n",
        "    bidi = [True]\n",
        "    batch_sizes = [32, 64, 128]\n",
        "\n",
        "    params = [(embed_dim, hidden_dim, dropout_rate, lr, wd, bs)\n",
        "              for embed_dim in embed_dims\n",
        "              for hidden_dim in hidden_dims[embed_dim]\n",
        "              for dropout_rate in dropout_rates\n",
        "              for lr in learning_rates\n",
        "              for wd in weight_decays\n",
        "            for bs in batch_sizes]\n",
        "\n",
        "    print(f\"Total number of combinations: {len(params)}\")\n",
        "    best_accuracy = 0\n",
        "    best_params = None\n",
        "    avg_time_taken = 0\n",
        "    num_runs = 0\n",
        "    for embed_dim, hidden_dim, dropout_rate, lr, wd, bs in params:\n",
        "        start = time.time()\n",
        "        model = LSTM(embed_dim=embed_dim, hidden_dim=hidden_dim, dropout_p=dropout_rate)\n",
        "        model.to(DEVICE)\n",
        "        criterion = nn.CrossEntropyLoss()\n",
        "        optimizer = optim.AdamW(model.parameters(), lr=lr, weight_decay=wd)\n",
        "        # scheduler = torch.optim.lr_scheduler.ReduceLROnPlateau(optimizer, mode='min', patience=2, factor=0.5)\n",
        "\n",
        "        train_loader = DataLoader(train_dataset, batch_size=bs, shuffle=True)\n",
        "        val_loader = DataLoader(val_dataset, batch_size=2000, shuffle=False)\n",
        "        test_loader = DataLoader(test_dataset, batch_size=2000, shuffle=False)\n",
        "\n",
        "        trained_model = train_model(model, train_loader, val_loader, criterion, optimizer, 30, True, verbose=False)\n",
        "        metrics, accuracy, true_labels, predicted_labels = get_model_performance(trained_model, test_loader, INDEX_TO_EMOTION, DEVICE)[0]\n",
        "        print(f\"Accuracy: {accuracy:.2f}% for params: {embed_dim=}, {hidden_dim=}, {dropout_rate=}, {lr=}, {wd=}, {bs=}\")\n",
        "        if accuracy > best_accuracy:\n",
        "            best_accuracy = accuracy\n",
        "            best_params = (embed_dim, hidden_dim, dropout_rate, lr, wd)\n",
        "        end = time.time()\n",
        "        time_taken = end - start\n",
        "        avg_time_taken *= num_runs\n",
        "        avg_time_taken += end - start\n",
        "        num_runs += 1\n",
        "        avg_time_taken /= num_runs\n",
        "        print(f\"Time taken: {time_taken:.2f}s, estimated time left: {avg_time_taken * (len(params) - num_runs) / 60:.2f}min\")\n",
        "\n",
        "    print(f\"Best accuracy: {best_accuracy:.2f}%\")\n",
        "    print(f\"Best parameters: {best_params}\")\n",
        "\n",
        "grid_search()"
      ]
    }
  ],
  "metadata": {
    "accelerator": "GPU",
    "colab": {
      "authorship_tag": "ABX9TyPw0qMhDahvIKseBtEts72T",
      "gpuType": "T4",
      "include_colab_link": true,
      "provenance": []
    },
    "kernelspec": {
      "display_name": "Python 3",
      "name": "python3"
    },
    "language_info": {
      "codemirror_mode": {
        "name": "ipython",
        "version": 3
      },
      "file_extension": ".py",
      "mimetype": "text/x-python",
      "name": "python",
      "nbconvert_exporter": "python",
      "pygments_lexer": "ipython3",
      "version": "3.10.12"
    }
  },
  "nbformat": 4,
  "nbformat_minor": 0
}
